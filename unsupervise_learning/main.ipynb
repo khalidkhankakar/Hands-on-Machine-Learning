{
 "cells": [
  {
   "cell_type": "code",
   "execution_count": null,
   "id": "465e0fcd",
   "metadata": {},
   "outputs": [],
   "source": [
    "import numpy as np\n",
    "import matplotlib.pyplot as plt"
   ]
  },
  {
   "cell_type": "markdown",
   "id": "77596408",
   "metadata": {},
   "source": [
    "KMeans"
   ]
  },
  {
   "cell_type": "code",
   "execution_count": null,
   "id": "9c32c90a",
   "metadata": {},
   "outputs": [],
   "source": [
    "from sklearn.datasets import make_blobs\n",
    "from sklearn.cluster import KMeans\n",
    "blob_centers = np.array([[ 0.2,  2.3], [-1.5 ,  2.3], [-2.8,  1.8],\n",
    "                         [-2.8,  2.8], [-2.8,  1.3]])\n",
    "blob_std = np.array([0.4, 0.3, 0.1, 0.1, 0.1])\n",
    "X, y = make_blobs(n_samples=2000, centers=blob_centers, cluster_std=blob_std,random_state=7)\n",
    "k=5\n",
    "kmeans = KMeans(n_clusters=k, n_init=10,random_state=42)\n",
    "y_pred = kmeans.fit_predict(X)"
   ]
  },
  {
   "cell_type": "code",
   "execution_count": null,
   "id": "195edc2d",
   "metadata": {},
   "outputs": [],
   "source": [
    "def plot_clusters(X, y=None):\n",
    "    plt.scatter(X[:, 0], X[:, 1], c=y, s=1)\n",
    "    plt.xlabel(\"$x_1$\")\n",
    "    plt.ylabel(\"$x_2$\", rotation=0)\n",
    "\n",
    "plt.figure(figsize=(8, 4))\n",
    "plot_clusters(X)\n",
    "plt.gca().set_axisbelow(True)\n",
    "plt.grid()\n",
    "plt.show()"
   ]
  },
  {
   "cell_type": "code",
   "execution_count": null,
   "id": "80d642c5",
   "metadata": {},
   "outputs": [],
   "source": [
    "kmeans.labels_"
   ]
  },
  {
   "cell_type": "code",
   "execution_count": null,
   "id": "6adcb798",
   "metadata": {},
   "outputs": [],
   "source": [
    "y_pred"
   ]
  },
  {
   "cell_type": "code",
   "execution_count": null,
   "id": "1f346731",
   "metadata": {},
   "outputs": [],
   "source": [
    "y_pred is kmeans.labels_"
   ]
  },
  {
   "cell_type": "code",
   "execution_count": null,
   "id": "a8f35cad",
   "metadata": {},
   "outputs": [],
   "source": [
    "kmeans.cluster_centers_"
   ]
  },
  {
   "cell_type": "code",
   "execution_count": null,
   "id": "c7967a91",
   "metadata": {},
   "outputs": [],
   "source": [
    "kmeans.inertia_"
   ]
  },
  {
   "cell_type": "code",
   "execution_count": null,
   "id": "03ebe3f4",
   "metadata": {},
   "outputs": [],
   "source": [
    "X_new = np.array([[0, 2], [3, 2], [-3, 3], [-3, 2.5]])\n",
    "kmeans.predict(X_new)"
   ]
  },
  {
   "cell_type": "markdown",
   "id": "c68bc326",
   "metadata": {},
   "source": [
    "KMeans class, the\n",
    "transform() method measures the distance from each instance to every\n",
    "centroid:\n"
   ]
  },
  {
   "cell_type": "code",
   "execution_count": null,
   "id": "e3230572",
   "metadata": {},
   "outputs": [],
   "source": [
    "kmeans.transform(X=X_new).round(2)"
   ]
  },
  {
   "cell_type": "code",
   "execution_count": null,
   "id": "3dcbd72b",
   "metadata": {},
   "outputs": [],
   "source": [
    "from sklearn.datasets import load_iris\n",
    "\n",
    "iris = load_iris()\n",
    "X = iris.data\n",
    "\n",
    "iris_kmeans = KMeans(n_clusters=3, random_state=42)\n",
    "iris_y_pred = iris_kmeans.fit_predict(X)\n",
    "\n",
    "\n",
    "plt.scatter(X[:, 2], X[:, 3], c=iris_kmeans.labels_,marker='*', cmap='viridis')\n",
    "plt.xlabel('petal length')\n",
    "plt.ylabel('petal width')\n",
    "plt.title('KMeans Clustering on Iris Data')\n",
    "plt.show()"
   ]
  },
  {
   "cell_type": "code",
   "execution_count": null,
   "id": "a24e38a3",
   "metadata": {},
   "outputs": [],
   "source": [
    "iris_y_pred is iris_kmeans.labels_"
   ]
  },
  {
   "cell_type": "markdown",
   "id": "47f21e04",
   "metadata": {},
   "source": [
    "How to find optimal number of cluster in kmeans"
   ]
  },
  {
   "cell_type": "code",
   "execution_count": null,
   "id": "f393ceae",
   "metadata": {},
   "outputs": [],
   "source": [
    "# Generate synthetic dataset\n",
    "iris = load_iris()\n",
    "X = iris.data\n",
    "\n",
    "inertia_values = []\n",
    "k_values = range(1, 10)\n",
    "\n",
    "for k in k_values:\n",
    "    kmeans = KMeans(n_clusters=k, random_state=42)\n",
    "    kmeans.fit(X)\n",
    "    inertia_values.append(kmeans.inertia_)  # Sum of squared distances\n",
    "\n",
    "# Plot the elbow curve\n",
    "plt.plot(k_values, inertia_values, 'bo-')\n",
    "plt.xlabel('Number of Clusters (k)')\n",
    "plt.ylabel('Inertia (SSE)')\n",
    "plt.title('Elbow Method to Find Optimal k')\n",
    "plt.show()\n"
   ]
  },
  {
   "cell_type": "markdown",
   "id": "d07b36bf",
   "metadata": {},
   "source": [
    "Silhouette Score"
   ]
  },
  {
   "cell_type": "code",
   "execution_count": null,
   "id": "6dc4ca7a",
   "metadata": {},
   "outputs": [],
   "source": [
    "from sklearn.metrics import silhouette_score\n",
    "\n",
    "\n",
    "kmeans_per_k = [KMeans(n_clusters=k, n_init=10, random_state=42).fit(X)\n",
    "                for k in range(1, 10)]\n",
    "silhouette_scores = [silhouette_score(X, model.labels_) for model in kmeans_per_k[1:]]\n",
    "# for k in range(2, 10):\n",
    "#     kmeans = KMeans(n_clusters=k,random_state=42)\n",
    "#     labels = kmeans.fit_predict(X)\n",
    "#     score = silhouette_score(X, labels)\n",
    "#     silhouette_scores.append(score)\n",
    "\n",
    "\n",
    "plt.plot(range(2, 10), silhouette_scores, 'bo-')\n",
    "plt.xlabel('Number of Clusters (k)')\n",
    "plt.ylabel('Silhouette Score')\n",
    "plt.title('Silhouette Method for Optimal k')\n",
    "plt.show()\n"
   ]
  },
  {
   "cell_type": "code",
   "execution_count": null,
   "id": "0e87ca83",
   "metadata": {},
   "outputs": [],
   "source": [
    "from sklearn.metrics import silhouette_samples\n",
    "from matplotlib.ticker import FixedLocator, FixedFormatter\n",
    "\n",
    "plt.figure(figsize=(11, 9))\n",
    "\n",
    "for k in (3, 4, 5, 6):\n",
    "    plt.subplot(2, 2, k - 2)\n",
    "    \n",
    "    y_pred = kmeans_per_k[k - 1].labels_\n",
    "    silhouette_coefficients = silhouette_samples(X, y_pred)\n",
    "\n",
    "    padding = len(X) // 30\n",
    "    pos = padding\n",
    "    ticks = []\n",
    "    for i in range(k):\n",
    "        coeffs = silhouette_coefficients[y_pred == i]\n",
    "        coeffs.sort()\n",
    "\n",
    "        color = plt.cm.Spectral(i / k)\n",
    "        plt.fill_betweenx(np.arange(pos, pos + len(coeffs)), 0, coeffs,\n",
    "                          facecolor=color, edgecolor=color, alpha=0.7)\n",
    "        ticks.append(pos + len(coeffs) // 2)\n",
    "        pos += len(coeffs) + padding\n",
    "\n",
    "    plt.gca().yaxis.set_major_locator(FixedLocator(ticks))\n",
    "    plt.gca().yaxis.set_major_formatter(FixedFormatter(range(k)))\n",
    "    if k in (3, 5):\n",
    "        plt.ylabel(\"Cluster\")\n",
    "    \n",
    "    if k in (5, 6):\n",
    "        plt.gca().set_xticks([-0.1, 0, 0.2, 0.4, 0.6, 0.8, 1])\n",
    "        plt.xlabel(\"Silhouette Coefficient\")\n",
    "    else:\n",
    "        plt.tick_params(labelbottom=False)\n",
    "\n",
    "    plt.axvline(x=silhouette_scores[k - 2], color=\"red\", linestyle=\"--\")\n",
    "    plt.title(f\"$k={k}$\")\n",
    "\n",
    "plt.show()"
   ]
  },
  {
   "cell_type": "code",
   "execution_count": null,
   "id": "bb64887e",
   "metadata": {},
   "outputs": [],
   "source": [
    "best_k = range(2, 10)[silhouette_scores.index(max(silhouette_scores))]\n",
    "print(f\"Optimal number of clusters based on silhouette score: {best_k}\")"
   ]
  },
  {
   "cell_type": "markdown",
   "id": "6091726f",
   "metadata": {},
   "source": [
    "Mini Batch KMeans"
   ]
  },
  {
   "cell_type": "code",
   "execution_count": null,
   "id": "fa2e318f",
   "metadata": {},
   "outputs": [],
   "source": [
    "from sklearn.cluster import MiniBatchKMeans\n",
    "\n",
    "mini_batch_kmeans = MiniBatchKMeans(n_clusters=3, random_state=42)\n",
    "mini_batch_kmeans.fit(X)"
   ]
  },
  {
   "cell_type": "code",
   "execution_count": null,
   "id": "73ead0e5",
   "metadata": {},
   "outputs": [],
   "source": [
    "X_new = np.array([[2.2, 1.5, 2.4, 0.2],\n",
    "       [4.1, 3. , 1.1, 0.1]])\n",
    "mini_batch_kmeans.predict(X_new)"
   ]
  },
  {
   "cell_type": "markdown",
   "id": "f9d5186e",
   "metadata": {},
   "source": [
    "KMeans for Image Segmentation"
   ]
  }
 ],
 "metadata": {
  "kernelspec": {
   "display_name": "env",
   "language": "python",
   "name": "python3"
  },
  "language_info": {
   "codemirror_mode": {
    "name": "ipython",
    "version": 3
   },
   "file_extension": ".py",
   "mimetype": "text/x-python",
   "name": "python",
   "nbconvert_exporter": "python",
   "pygments_lexer": "ipython3",
   "version": "3.13.1"
  }
 },
 "nbformat": 4,
 "nbformat_minor": 5
}
