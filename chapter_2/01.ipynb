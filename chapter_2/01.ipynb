{
 "cells": [
  {
   "cell_type": "markdown",
   "id": "12d47ea8",
   "metadata": {},
   "source": [
    "# Housing Corp.\n"
   ]
  },
  {
   "cell_type": "markdown",
   "id": "18c194f7",
   "metadata": {},
   "source": [
    "Welcome to Machine Learning Housing Corp.! Your task is to predict median house values in Californian districts, given a number of features from these districts.\n"
   ]
  },
  {
   "cell_type": "code",
   "execution_count": 65,
   "id": "fcf632da",
   "metadata": {},
   "outputs": [],
   "source": [
    "from pathlib import Path\n",
    "import pandas as pd\n",
    "import tarfile\n",
    "import urllib.request\n",
    "import matplotlib.pyplot as plt\n",
    "import numpy as np\n",
    "from zlib import crc32\n",
    "from sklearn.model_selection import train_test_split"
   ]
  },
  {
   "cell_type": "markdown",
   "id": "1fb88f51",
   "metadata": {},
   "source": [
    "### Download the data\n"
   ]
  },
  {
   "cell_type": "code",
   "execution_count": 66,
   "id": "5e6c61df",
   "metadata": {},
   "outputs": [
    {
     "name": "stderr",
     "output_type": "stream",
     "text": [
      "C:\\Users\\itxkakar\\AppData\\Local\\Temp\\ipykernel_5164\\2879106351.py:8: DeprecationWarning: Python 3.14 will, by default, filter extracted tar archives and reject files or modify their metadata. Use the filter argument to control this behavior.\n",
      "  housing_tarball.extractall(path=\"datasets\")\n"
     ]
    }
   ],
   "source": [
    "def load_housing_data():\n",
    "    tarball_path = Path(\"datasets/housing.tgz\")\n",
    "    if not tarball_path.is_file():\n",
    "        Path(\"datasets\").mkdir(parents=True, exist_ok=True)\n",
    "        url = \"https://github.com/ageron/data/raw/main/housing.tgz\"\n",
    "        urllib.request.urlretrieve(url, tarball_path)\n",
    "    with tarfile.open(tarball_path) as housing_tarball:\n",
    "        housing_tarball.extractall(path=\"datasets\")\n",
    "    return pd.read_csv(Path(\"datasets/housing/housing.csv\"))\n",
    "\n",
    "housing = load_housing_data()"
   ]
  },
  {
   "cell_type": "markdown",
   "id": "692277e5",
   "metadata": {},
   "source": [
    "### Take a Quick Look at the Data Structure\n"
   ]
  },
  {
   "cell_type": "code",
   "execution_count": 67,
   "id": "5a6db42f",
   "metadata": {},
   "outputs": [
    {
     "data": {
      "application/vnd.microsoft.datawrangler.viewer.v0+json": {
       "columns": [
        {
         "name": "index",
         "rawType": "int64",
         "type": "integer"
        },
        {
         "name": "longitude",
         "rawType": "float64",
         "type": "float"
        },
        {
         "name": "latitude",
         "rawType": "float64",
         "type": "float"
        },
        {
         "name": "housing_median_age",
         "rawType": "float64",
         "type": "float"
        },
        {
         "name": "total_rooms",
         "rawType": "float64",
         "type": "float"
        },
        {
         "name": "total_bedrooms",
         "rawType": "float64",
         "type": "float"
        },
        {
         "name": "population",
         "rawType": "float64",
         "type": "float"
        },
        {
         "name": "households",
         "rawType": "float64",
         "type": "float"
        },
        {
         "name": "median_income",
         "rawType": "float64",
         "type": "float"
        },
        {
         "name": "median_house_value",
         "rawType": "float64",
         "type": "float"
        },
        {
         "name": "ocean_proximity",
         "rawType": "object",
         "type": "string"
        }
       ],
       "conversionMethod": "pd.DataFrame",
       "ref": "f92ed143-c0b2-4016-8a27-123f04552f01",
       "rows": [
        [
         "0",
         "-122.23",
         "37.88",
         "41.0",
         "880.0",
         "129.0",
         "322.0",
         "126.0",
         "8.3252",
         "452600.0",
         "NEAR BAY"
        ],
        [
         "1",
         "-122.22",
         "37.86",
         "21.0",
         "7099.0",
         "1106.0",
         "2401.0",
         "1138.0",
         "8.3014",
         "358500.0",
         "NEAR BAY"
        ],
        [
         "2",
         "-122.24",
         "37.85",
         "52.0",
         "1467.0",
         "190.0",
         "496.0",
         "177.0",
         "7.2574",
         "352100.0",
         "NEAR BAY"
        ],
        [
         "3",
         "-122.25",
         "37.85",
         "52.0",
         "1274.0",
         "235.0",
         "558.0",
         "219.0",
         "5.6431",
         "341300.0",
         "NEAR BAY"
        ],
        [
         "4",
         "-122.25",
         "37.85",
         "52.0",
         "1627.0",
         "280.0",
         "565.0",
         "259.0",
         "3.8462",
         "342200.0",
         "NEAR BAY"
        ]
       ],
       "shape": {
        "columns": 10,
        "rows": 5
       }
      },
      "text/html": [
       "<div>\n",
       "<style scoped>\n",
       "    .dataframe tbody tr th:only-of-type {\n",
       "        vertical-align: middle;\n",
       "    }\n",
       "\n",
       "    .dataframe tbody tr th {\n",
       "        vertical-align: top;\n",
       "    }\n",
       "\n",
       "    .dataframe thead th {\n",
       "        text-align: right;\n",
       "    }\n",
       "</style>\n",
       "<table border=\"1\" class=\"dataframe\">\n",
       "  <thead>\n",
       "    <tr style=\"text-align: right;\">\n",
       "      <th></th>\n",
       "      <th>longitude</th>\n",
       "      <th>latitude</th>\n",
       "      <th>housing_median_age</th>\n",
       "      <th>total_rooms</th>\n",
       "      <th>total_bedrooms</th>\n",
       "      <th>population</th>\n",
       "      <th>households</th>\n",
       "      <th>median_income</th>\n",
       "      <th>median_house_value</th>\n",
       "      <th>ocean_proximity</th>\n",
       "    </tr>\n",
       "  </thead>\n",
       "  <tbody>\n",
       "    <tr>\n",
       "      <th>0</th>\n",
       "      <td>-122.23</td>\n",
       "      <td>37.88</td>\n",
       "      <td>41.0</td>\n",
       "      <td>880.0</td>\n",
       "      <td>129.0</td>\n",
       "      <td>322.0</td>\n",
       "      <td>126.0</td>\n",
       "      <td>8.3252</td>\n",
       "      <td>452600.0</td>\n",
       "      <td>NEAR BAY</td>\n",
       "    </tr>\n",
       "    <tr>\n",
       "      <th>1</th>\n",
       "      <td>-122.22</td>\n",
       "      <td>37.86</td>\n",
       "      <td>21.0</td>\n",
       "      <td>7099.0</td>\n",
       "      <td>1106.0</td>\n",
       "      <td>2401.0</td>\n",
       "      <td>1138.0</td>\n",
       "      <td>8.3014</td>\n",
       "      <td>358500.0</td>\n",
       "      <td>NEAR BAY</td>\n",
       "    </tr>\n",
       "    <tr>\n",
       "      <th>2</th>\n",
       "      <td>-122.24</td>\n",
       "      <td>37.85</td>\n",
       "      <td>52.0</td>\n",
       "      <td>1467.0</td>\n",
       "      <td>190.0</td>\n",
       "      <td>496.0</td>\n",
       "      <td>177.0</td>\n",
       "      <td>7.2574</td>\n",
       "      <td>352100.0</td>\n",
       "      <td>NEAR BAY</td>\n",
       "    </tr>\n",
       "    <tr>\n",
       "      <th>3</th>\n",
       "      <td>-122.25</td>\n",
       "      <td>37.85</td>\n",
       "      <td>52.0</td>\n",
       "      <td>1274.0</td>\n",
       "      <td>235.0</td>\n",
       "      <td>558.0</td>\n",
       "      <td>219.0</td>\n",
       "      <td>5.6431</td>\n",
       "      <td>341300.0</td>\n",
       "      <td>NEAR BAY</td>\n",
       "    </tr>\n",
       "    <tr>\n",
       "      <th>4</th>\n",
       "      <td>-122.25</td>\n",
       "      <td>37.85</td>\n",
       "      <td>52.0</td>\n",
       "      <td>1627.0</td>\n",
       "      <td>280.0</td>\n",
       "      <td>565.0</td>\n",
       "      <td>259.0</td>\n",
       "      <td>3.8462</td>\n",
       "      <td>342200.0</td>\n",
       "      <td>NEAR BAY</td>\n",
       "    </tr>\n",
       "  </tbody>\n",
       "</table>\n",
       "</div>"
      ],
      "text/plain": [
       "   longitude  latitude  housing_median_age  total_rooms  total_bedrooms  \\\n",
       "0    -122.23     37.88                41.0        880.0           129.0   \n",
       "1    -122.22     37.86                21.0       7099.0          1106.0   \n",
       "2    -122.24     37.85                52.0       1467.0           190.0   \n",
       "3    -122.25     37.85                52.0       1274.0           235.0   \n",
       "4    -122.25     37.85                52.0       1627.0           280.0   \n",
       "\n",
       "   population  households  median_income  median_house_value ocean_proximity  \n",
       "0       322.0       126.0         8.3252            452600.0        NEAR BAY  \n",
       "1      2401.0      1138.0         8.3014            358500.0        NEAR BAY  \n",
       "2       496.0       177.0         7.2574            352100.0        NEAR BAY  \n",
       "3       558.0       219.0         5.6431            341300.0        NEAR BAY  \n",
       "4       565.0       259.0         3.8462            342200.0        NEAR BAY  "
      ]
     },
     "execution_count": 67,
     "metadata": {},
     "output_type": "execute_result"
    }
   ],
   "source": [
    "housing.head()"
   ]
  },
  {
   "cell_type": "code",
   "execution_count": 68,
   "id": "91fb464c",
   "metadata": {},
   "outputs": [
    {
     "name": "stdout",
     "output_type": "stream",
     "text": [
      "<class 'pandas.core.frame.DataFrame'>\n",
      "RangeIndex: 20640 entries, 0 to 20639\n",
      "Data columns (total 10 columns):\n",
      " #   Column              Non-Null Count  Dtype  \n",
      "---  ------              --------------  -----  \n",
      " 0   longitude           20640 non-null  float64\n",
      " 1   latitude            20640 non-null  float64\n",
      " 2   housing_median_age  20640 non-null  float64\n",
      " 3   total_rooms         20640 non-null  float64\n",
      " 4   total_bedrooms      20433 non-null  float64\n",
      " 5   population          20640 non-null  float64\n",
      " 6   households          20640 non-null  float64\n",
      " 7   median_income       20640 non-null  float64\n",
      " 8   median_house_value  20640 non-null  float64\n",
      " 9   ocean_proximity     20640 non-null  object \n",
      "dtypes: float64(9), object(1)\n",
      "memory usage: 1.6+ MB\n"
     ]
    }
   ],
   "source": [
    "housing.info()"
   ]
  },
  {
   "cell_type": "code",
   "execution_count": 69,
   "id": "f051a6d7",
   "metadata": {},
   "outputs": [
    {
     "data": {
      "text/plain": [
       "ocean_proximity\n",
       "<1H OCEAN     9136\n",
       "INLAND        6551\n",
       "NEAR OCEAN    2658\n",
       "NEAR BAY      2290\n",
       "ISLAND           5\n",
       "Name: count, dtype: int64"
      ]
     },
     "execution_count": 69,
     "metadata": {},
     "output_type": "execute_result"
    }
   ],
   "source": [
    "housing[\"ocean_proximity\"].value_counts()"
   ]
  },
  {
   "cell_type": "code",
   "execution_count": 70,
   "id": "074d3a80",
   "metadata": {},
   "outputs": [
    {
     "data": {
      "application/vnd.microsoft.datawrangler.viewer.v0+json": {
       "columns": [
        {
         "name": "index",
         "rawType": "object",
         "type": "string"
        },
        {
         "name": "longitude",
         "rawType": "float64",
         "type": "float"
        },
        {
         "name": "latitude",
         "rawType": "float64",
         "type": "float"
        },
        {
         "name": "housing_median_age",
         "rawType": "float64",
         "type": "float"
        },
        {
         "name": "total_rooms",
         "rawType": "float64",
         "type": "float"
        },
        {
         "name": "total_bedrooms",
         "rawType": "float64",
         "type": "float"
        },
        {
         "name": "population",
         "rawType": "float64",
         "type": "float"
        },
        {
         "name": "households",
         "rawType": "float64",
         "type": "float"
        },
        {
         "name": "median_income",
         "rawType": "float64",
         "type": "float"
        },
        {
         "name": "median_house_value",
         "rawType": "float64",
         "type": "float"
        }
       ],
       "conversionMethod": "pd.DataFrame",
       "ref": "2ffb49d5-a7fe-4b7c-8a00-8c4994c69cc2",
       "rows": [
        [
         "count",
         "20640.0",
         "20640.0",
         "20640.0",
         "20640.0",
         "20433.0",
         "20640.0",
         "20640.0",
         "20640.0",
         "20640.0"
        ],
        [
         "mean",
         "-119.56970445736432",
         "35.63186143410853",
         "28.639486434108527",
         "2635.7630813953488",
         "537.8705525375618",
         "1425.4767441860465",
         "499.5396802325581",
         "3.8706710029069766",
         "206855.81690891474"
        ],
        [
         "std",
         "2.0035317235025882",
         "2.1359523974571153",
         "12.58555761211165",
         "2181.615251582795",
         "421.3850700740322",
         "1132.462121765341",
         "382.32975283161073",
         "1.8998217179452688",
         "115395.61587441387"
        ],
        [
         "min",
         "-124.35",
         "32.54",
         "1.0",
         "2.0",
         "1.0",
         "3.0",
         "1.0",
         "0.4999",
         "14999.0"
        ],
        [
         "25%",
         "-121.8",
         "33.93",
         "18.0",
         "1447.75",
         "296.0",
         "787.0",
         "280.0",
         "2.5633999999999997",
         "119600.0"
        ],
        [
         "50%",
         "-118.49",
         "34.26",
         "29.0",
         "2127.0",
         "435.0",
         "1166.0",
         "409.0",
         "3.5347999999999997",
         "179700.0"
        ],
        [
         "75%",
         "-118.01",
         "37.71",
         "37.0",
         "3148.0",
         "647.0",
         "1725.0",
         "605.0",
         "4.74325",
         "264725.0"
        ],
        [
         "max",
         "-114.31",
         "41.95",
         "52.0",
         "39320.0",
         "6445.0",
         "35682.0",
         "6082.0",
         "15.0001",
         "500001.0"
        ]
       ],
       "shape": {
        "columns": 9,
        "rows": 8
       }
      },
      "text/html": [
       "<div>\n",
       "<style scoped>\n",
       "    .dataframe tbody tr th:only-of-type {\n",
       "        vertical-align: middle;\n",
       "    }\n",
       "\n",
       "    .dataframe tbody tr th {\n",
       "        vertical-align: top;\n",
       "    }\n",
       "\n",
       "    .dataframe thead th {\n",
       "        text-align: right;\n",
       "    }\n",
       "</style>\n",
       "<table border=\"1\" class=\"dataframe\">\n",
       "  <thead>\n",
       "    <tr style=\"text-align: right;\">\n",
       "      <th></th>\n",
       "      <th>longitude</th>\n",
       "      <th>latitude</th>\n",
       "      <th>housing_median_age</th>\n",
       "      <th>total_rooms</th>\n",
       "      <th>total_bedrooms</th>\n",
       "      <th>population</th>\n",
       "      <th>households</th>\n",
       "      <th>median_income</th>\n",
       "      <th>median_house_value</th>\n",
       "    </tr>\n",
       "  </thead>\n",
       "  <tbody>\n",
       "    <tr>\n",
       "      <th>count</th>\n",
       "      <td>20640.000000</td>\n",
       "      <td>20640.000000</td>\n",
       "      <td>20640.000000</td>\n",
       "      <td>20640.000000</td>\n",
       "      <td>20433.000000</td>\n",
       "      <td>20640.000000</td>\n",
       "      <td>20640.000000</td>\n",
       "      <td>20640.000000</td>\n",
       "      <td>20640.000000</td>\n",
       "    </tr>\n",
       "    <tr>\n",
       "      <th>mean</th>\n",
       "      <td>-119.569704</td>\n",
       "      <td>35.631861</td>\n",
       "      <td>28.639486</td>\n",
       "      <td>2635.763081</td>\n",
       "      <td>537.870553</td>\n",
       "      <td>1425.476744</td>\n",
       "      <td>499.539680</td>\n",
       "      <td>3.870671</td>\n",
       "      <td>206855.816909</td>\n",
       "    </tr>\n",
       "    <tr>\n",
       "      <th>std</th>\n",
       "      <td>2.003532</td>\n",
       "      <td>2.135952</td>\n",
       "      <td>12.585558</td>\n",
       "      <td>2181.615252</td>\n",
       "      <td>421.385070</td>\n",
       "      <td>1132.462122</td>\n",
       "      <td>382.329753</td>\n",
       "      <td>1.899822</td>\n",
       "      <td>115395.615874</td>\n",
       "    </tr>\n",
       "    <tr>\n",
       "      <th>min</th>\n",
       "      <td>-124.350000</td>\n",
       "      <td>32.540000</td>\n",
       "      <td>1.000000</td>\n",
       "      <td>2.000000</td>\n",
       "      <td>1.000000</td>\n",
       "      <td>3.000000</td>\n",
       "      <td>1.000000</td>\n",
       "      <td>0.499900</td>\n",
       "      <td>14999.000000</td>\n",
       "    </tr>\n",
       "    <tr>\n",
       "      <th>25%</th>\n",
       "      <td>-121.800000</td>\n",
       "      <td>33.930000</td>\n",
       "      <td>18.000000</td>\n",
       "      <td>1447.750000</td>\n",
       "      <td>296.000000</td>\n",
       "      <td>787.000000</td>\n",
       "      <td>280.000000</td>\n",
       "      <td>2.563400</td>\n",
       "      <td>119600.000000</td>\n",
       "    </tr>\n",
       "    <tr>\n",
       "      <th>50%</th>\n",
       "      <td>-118.490000</td>\n",
       "      <td>34.260000</td>\n",
       "      <td>29.000000</td>\n",
       "      <td>2127.000000</td>\n",
       "      <td>435.000000</td>\n",
       "      <td>1166.000000</td>\n",
       "      <td>409.000000</td>\n",
       "      <td>3.534800</td>\n",
       "      <td>179700.000000</td>\n",
       "    </tr>\n",
       "    <tr>\n",
       "      <th>75%</th>\n",
       "      <td>-118.010000</td>\n",
       "      <td>37.710000</td>\n",
       "      <td>37.000000</td>\n",
       "      <td>3148.000000</td>\n",
       "      <td>647.000000</td>\n",
       "      <td>1725.000000</td>\n",
       "      <td>605.000000</td>\n",
       "      <td>4.743250</td>\n",
       "      <td>264725.000000</td>\n",
       "    </tr>\n",
       "    <tr>\n",
       "      <th>max</th>\n",
       "      <td>-114.310000</td>\n",
       "      <td>41.950000</td>\n",
       "      <td>52.000000</td>\n",
       "      <td>39320.000000</td>\n",
       "      <td>6445.000000</td>\n",
       "      <td>35682.000000</td>\n",
       "      <td>6082.000000</td>\n",
       "      <td>15.000100</td>\n",
       "      <td>500001.000000</td>\n",
       "    </tr>\n",
       "  </tbody>\n",
       "</table>\n",
       "</div>"
      ],
      "text/plain": [
       "          longitude      latitude  housing_median_age   total_rooms  \\\n",
       "count  20640.000000  20640.000000        20640.000000  20640.000000   \n",
       "mean    -119.569704     35.631861           28.639486   2635.763081   \n",
       "std        2.003532      2.135952           12.585558   2181.615252   \n",
       "min     -124.350000     32.540000            1.000000      2.000000   \n",
       "25%     -121.800000     33.930000           18.000000   1447.750000   \n",
       "50%     -118.490000     34.260000           29.000000   2127.000000   \n",
       "75%     -118.010000     37.710000           37.000000   3148.000000   \n",
       "max     -114.310000     41.950000           52.000000  39320.000000   \n",
       "\n",
       "       total_bedrooms    population    households  median_income  \\\n",
       "count    20433.000000  20640.000000  20640.000000   20640.000000   \n",
       "mean       537.870553   1425.476744    499.539680       3.870671   \n",
       "std        421.385070   1132.462122    382.329753       1.899822   \n",
       "min          1.000000      3.000000      1.000000       0.499900   \n",
       "25%        296.000000    787.000000    280.000000       2.563400   \n",
       "50%        435.000000   1166.000000    409.000000       3.534800   \n",
       "75%        647.000000   1725.000000    605.000000       4.743250   \n",
       "max       6445.000000  35682.000000   6082.000000      15.000100   \n",
       "\n",
       "       median_house_value  \n",
       "count        20640.000000  \n",
       "mean        206855.816909  \n",
       "std         115395.615874  \n",
       "min          14999.000000  \n",
       "25%         119600.000000  \n",
       "50%         179700.000000  \n",
       "75%         264725.000000  \n",
       "max         500001.000000  "
      ]
     },
     "execution_count": 70,
     "metadata": {},
     "output_type": "execute_result"
    }
   ],
   "source": [
    "housing.describe()"
   ]
  },
  {
   "cell_type": "markdown",
   "id": "e0feb5cf",
   "metadata": {},
   "source": [
    "### This code is for saving the images\n"
   ]
  },
  {
   "cell_type": "code",
   "execution_count": 71,
   "id": "972375dc",
   "metadata": {},
   "outputs": [],
   "source": [
    "IMAGES_PATH = Path() / \"images\" / \"end_to_end_project\"\n",
    "IMAGES_PATH.mkdir(parents=True, exist_ok=True)\n",
    "\n",
    "def save_fig(fig_id, tight_layout=True, fig_extension=\"png\", resolution=300):\n",
    "    path = IMAGES_PATH / f\"{fig_id}.{fig_extension}\"\n",
    "    if tight_layout:\n",
    "        plt.tight_layout()\n",
    "    plt.savefig(path, format=fig_extension, dpi=resolution)"
   ]
  },
  {
   "cell_type": "code",
   "execution_count": 72,
   "id": "f8579a6f",
   "metadata": {},
   "outputs": [
    {
     "data": {
      "image/png": "[encoded data removed]",
      "text/plain": [
       "<Figure size 1200x800 with 9 Axes>"
      ]
     },
     "metadata": {},
     "output_type": "display_data"
    }
   ],
   "source": [
    "# extra code – the next 5 lines define the default font sizes\n",
    "plt.rc('font', size=14)\n",
    "plt.rc('axes', labelsize=14, titlesize=14)\n",
    "plt.rc('legend', fontsize=14)\n",
    "plt.rc('xtick', labelsize=10)\n",
    "plt.rc('ytick', labelsize=10)\n",
    "\n",
    "housing.hist(bins=50, figsize=(12, 8))\n",
    "save_fig(\"attribute_histogram_plots\")  \n",
    "plt.show()"
   ]
  },
  {
   "cell_type": "markdown",
   "id": "afd507af",
   "metadata": {},
   "source": [
    "### Create Test set\n",
    "\n",
    "The below takes the data and portion of the data that you want to use for testing.\n",
    "\n",
    "- It simple suffles the dataset\n",
    "- Split the data in two parts. 1.) Testing dataset 2.) Training dataset\n",
    "- Simply returns it both\n"
   ]
  },
  {
   "cell_type": "code",
   "execution_count": 73,
   "id": "bf68d8d5",
   "metadata": {},
   "outputs": [],
   "source": [
    "def shuffle_and_split_data(data, test_ratio):\n",
    "    shuffled_indices = np.random.permutation(len(data))\n",
    "    print(\"shuffled_indices\", shuffled_indices)\n",
    "    test_set_size = int(len(data) * test_ratio)\n",
    "    print(\"test_set_size\", test_set_size)\n",
    "    test_indices = shuffled_indices[:test_set_size]\n",
    "    print(\"test_indices\", test_indices)\n",
    "    train_indices = shuffled_indices[test_set_size:]\n",
    "    print(\"train_indices\", train_indices)\n",
    "    return data.iloc[train_indices], data.iloc[test_indices]"
   ]
  },
  {
   "cell_type": "code",
   "execution_count": 74,
   "id": "fa6b8814",
   "metadata": {},
   "outputs": [
    {
     "name": "stdout",
     "output_type": "stream",
     "text": [
      "shuffled_indices [20046  3024 15663 ...  5390   860 15795]\n",
      "test_set_size 4128\n",
      "test_indices [20046  3024 15663 ... 18086  2144  3665]\n",
      "train_indices [14196  8267 17445 ...  5390   860 15795]\n"
     ]
    },
    {
     "data": {
      "text/plain": [
       "16512"
      ]
     },
     "execution_count": 74,
     "metadata": {},
     "output_type": "execute_result"
    }
   ],
   "source": [
    "train_set, test_set = shuffle_and_split_data(housing, 0.2)\n",
    "len(train_set)"
   ]
  },
  {
   "cell_type": "code",
   "execution_count": 75,
   "id": "46fc00c2",
   "metadata": {},
   "outputs": [
    {
     "data": {
      "text/plain": [
       "4128"
      ]
     },
     "execution_count": 75,
     "metadata": {},
     "output_type": "execute_result"
    }
   ],
   "source": [
    "len(test_set)"
   ]
  },
  {
   "cell_type": "markdown",
   "id": "a39a7c7a",
   "metadata": {},
   "source": [
    "To ensure that this notebook's outputs remain the same every time we run it, we need to set the random seed:\n"
   ]
  },
  {
   "cell_type": "code",
   "execution_count": 76,
   "id": "5224e958",
   "metadata": {},
   "outputs": [],
   "source": [
    "np.random.seed(42)"
   ]
  },
  {
   "cell_type": "markdown",
   "id": "544df9b8",
   "metadata": {},
   "source": [
    "### Preventing the randomness and spliting each time\n"
   ]
  },
  {
   "cell_type": "markdown",
   "id": "f975eaba",
   "metadata": {},
   "source": [
    "### Function 1\n",
    "\n",
    "If the hashed value is less than that threshold, the function returns True, meaning: “Put this row in the test set.”\n",
    "\n",
    "### Function 2\n",
    "\n",
    "→ It picks the column from your DataFrame that contains the unique IDs.\n",
    "\n",
    "→ It applies the is_id_in_test_set() function to each ID.\n",
    "→ This creates a list of True/False values, where True means \"this row should go to the test set.\"\n",
    "\n",
    "→ Selects the rows not in the test set → this becomes the training set.\n",
    "\n",
    "→ Selects the rows in the test set → this becomes the test set.\n"
   ]
  },
  {
   "cell_type": "code",
   "execution_count": 77,
   "id": "7a47b157",
   "metadata": {},
   "outputs": [],
   "source": [
    "\n",
    "def is_id_in_test_set(identifier, test_ratio):\n",
    "    return crc32(np.int64(identifier)) < test_ratio * 2**32\n",
    "\n",
    "def split_data_with_id_hash(data, test_ratio, id_column):\n",
    "    ids = data[id_column]\n",
    "    in_test_set = ids.apply(lambda id_: is_id_in_test_set(id_, test_ratio))\n",
    "    return data.loc[~in_test_set], data.loc[in_test_set]"
   ]
  },
  {
   "cell_type": "code",
   "execution_count": 78,
   "id": "2aa9ead6",
   "metadata": {},
   "outputs": [
    {
     "data": {
      "application/vnd.microsoft.datawrangler.viewer.v0+json": {
       "columns": [
        {
         "name": "index",
         "rawType": "int64",
         "type": "integer"
        },
        {
         "name": "index",
         "rawType": "int64",
         "type": "integer"
        },
        {
         "name": "longitude",
         "rawType": "float64",
         "type": "float"
        },
        {
         "name": "latitude",
         "rawType": "float64",
         "type": "float"
        },
        {
         "name": "housing_median_age",
         "rawType": "float64",
         "type": "float"
        },
        {
         "name": "total_rooms",
         "rawType": "float64",
         "type": "float"
        },
        {
         "name": "total_bedrooms",
         "rawType": "float64",
         "type": "float"
        },
        {
         "name": "population",
         "rawType": "float64",
         "type": "float"
        },
        {
         "name": "households",
         "rawType": "float64",
         "type": "float"
        },
        {
         "name": "median_income",
         "rawType": "float64",
         "type": "float"
        },
        {
         "name": "median_house_value",
         "rawType": "float64",
         "type": "float"
        },
        {
         "name": "ocean_proximity",
         "rawType": "object",
         "type": "string"
        }
       ],
       "conversionMethod": "pd.DataFrame",
       "ref": "1d146f81-340e-4cd9-b3d1-2946d1974201",
       "rows": [
        [
         "0",
         "0",
         "-122.23",
         "37.88",
         "41.0",
         "880.0",
         "129.0",
         "322.0",
         "126.0",
         "8.3252",
         "452600.0",
         "NEAR BAY"
        ],
        [
         "1",
         "1",
         "-122.22",
         "37.86",
         "21.0",
         "7099.0",
         "1106.0",
         "2401.0",
         "1138.0",
         "8.3014",
         "358500.0",
         "NEAR BAY"
        ],
        [
         "2",
         "2",
         "-122.24",
         "37.85",
         "52.0",
         "1467.0",
         "190.0",
         "496.0",
         "177.0",
         "7.2574",
         "352100.0",
         "NEAR BAY"
        ],
        [
         "3",
         "3",
         "-122.25",
         "37.85",
         "52.0",
         "1274.0",
         "235.0",
         "558.0",
         "219.0",
         "5.6431",
         "341300.0",
         "NEAR BAY"
        ],
        [
         "4",
         "4",
         "-122.25",
         "37.85",
         "52.0",
         "1627.0",
         "280.0",
         "565.0",
         "259.0",
         "3.8462",
         "342200.0",
         "NEAR BAY"
        ]
       ],
       "shape": {
        "columns": 11,
        "rows": 5
       }
      },
      "text/html": [
       "<div>\n",
       "<style scoped>\n",
       "    .dataframe tbody tr th:only-of-type {\n",
       "        vertical-align: middle;\n",
       "    }\n",
       "\n",
       "    .dataframe tbody tr th {\n",
       "        vertical-align: top;\n",
       "    }\n",
       "\n",
       "    .dataframe thead th {\n",
       "        text-align: right;\n",
       "    }\n",
       "</style>\n",
       "<table border=\"1\" class=\"dataframe\">\n",
       "  <thead>\n",
       "    <tr style=\"text-align: right;\">\n",
       "      <th></th>\n",
       "      <th>index</th>\n",
       "      <th>longitude</th>\n",
       "      <th>latitude</th>\n",
       "      <th>housing_median_age</th>\n",
       "      <th>total_rooms</th>\n",
       "      <th>total_bedrooms</th>\n",
       "      <th>population</th>\n",
       "      <th>households</th>\n",
       "      <th>median_income</th>\n",
       "      <th>median_house_value</th>\n",
       "      <th>ocean_proximity</th>\n",
       "    </tr>\n",
       "  </thead>\n",
       "  <tbody>\n",
       "    <tr>\n",
       "      <th>0</th>\n",
       "      <td>0</td>\n",
       "      <td>-122.23</td>\n",
       "      <td>37.88</td>\n",
       "      <td>41.0</td>\n",
       "      <td>880.0</td>\n",
       "      <td>129.0</td>\n",
       "      <td>322.0</td>\n",
       "      <td>126.0</td>\n",
       "      <td>8.3252</td>\n",
       "      <td>452600.0</td>\n",
       "      <td>NEAR BAY</td>\n",
       "    </tr>\n",
       "    <tr>\n",
       "      <th>1</th>\n",
       "      <td>1</td>\n",
       "      <td>-122.22</td>\n",
       "      <td>37.86</td>\n",
       "      <td>21.0</td>\n",
       "      <td>7099.0</td>\n",
       "      <td>1106.0</td>\n",
       "      <td>2401.0</td>\n",
       "      <td>1138.0</td>\n",
       "      <td>8.3014</td>\n",
       "      <td>358500.0</td>\n",
       "      <td>NEAR BAY</td>\n",
       "    </tr>\n",
       "    <tr>\n",
       "      <th>2</th>\n",
       "      <td>2</td>\n",
       "      <td>-122.24</td>\n",
       "      <td>37.85</td>\n",
       "      <td>52.0</td>\n",
       "      <td>1467.0</td>\n",
       "      <td>190.0</td>\n",
       "      <td>496.0</td>\n",
       "      <td>177.0</td>\n",
       "      <td>7.2574</td>\n",
       "      <td>352100.0</td>\n",
       "      <td>NEAR BAY</td>\n",
       "    </tr>\n",
       "    <tr>\n",
       "      <th>3</th>\n",
       "      <td>3</td>\n",
       "      <td>-122.25</td>\n",
       "      <td>37.85</td>\n",
       "      <td>52.0</td>\n",
       "      <td>1274.0</td>\n",
       "      <td>235.0</td>\n",
       "      <td>558.0</td>\n",
       "      <td>219.0</td>\n",
       "      <td>5.6431</td>\n",
       "      <td>341300.0</td>\n",
       "      <td>NEAR BAY</td>\n",
       "    </tr>\n",
       "    <tr>\n",
       "      <th>4</th>\n",
       "      <td>4</td>\n",
       "      <td>-122.25</td>\n",
       "      <td>37.85</td>\n",
       "      <td>52.0</td>\n",
       "      <td>1627.0</td>\n",
       "      <td>280.0</td>\n",
       "      <td>565.0</td>\n",
       "      <td>259.0</td>\n",
       "      <td>3.8462</td>\n",
       "      <td>342200.0</td>\n",
       "      <td>NEAR BAY</td>\n",
       "    </tr>\n",
       "  </tbody>\n",
       "</table>\n",
       "</div>"
      ],
      "text/plain": [
       "   index  longitude  latitude  housing_median_age  total_rooms  \\\n",
       "0      0    -122.23     37.88                41.0        880.0   \n",
       "1      1    -122.22     37.86                21.0       7099.0   \n",
       "2      2    -122.24     37.85                52.0       1467.0   \n",
       "3      3    -122.25     37.85                52.0       1274.0   \n",
       "4      4    -122.25     37.85                52.0       1627.0   \n",
       "\n",
       "   total_bedrooms  population  households  median_income  median_house_value  \\\n",
       "0           129.0       322.0       126.0         8.3252            452600.0   \n",
       "1          1106.0      2401.0      1138.0         8.3014            358500.0   \n",
       "2           190.0       496.0       177.0         7.2574            352100.0   \n",
       "3           235.0       558.0       219.0         5.6431            341300.0   \n",
       "4           280.0       565.0       259.0         3.8462            342200.0   \n",
       "\n",
       "  ocean_proximity  \n",
       "0        NEAR BAY  \n",
       "1        NEAR BAY  \n",
       "2        NEAR BAY  \n",
       "3        NEAR BAY  \n",
       "4        NEAR BAY  "
      ]
     },
     "execution_count": 78,
     "metadata": {},
     "output_type": "execute_result"
    }
   ],
   "source": [
    "housing_with_id = housing.reset_index()  # adds an `index` column\n",
    "train_set, test_set = split_data_with_id_hash(housing_with_id, 0.2, \"index\")\n",
    "housing_with_id.head()"
   ]
  },
  {
   "cell_type": "code",
   "execution_count": 79,
   "id": "a3c29ab8",
   "metadata": {},
   "outputs": [
    {
     "data": {
      "application/vnd.microsoft.datawrangler.viewer.v0+json": {
       "columns": [
        {
         "name": "index",
         "rawType": "int64",
         "type": "integer"
        },
        {
         "name": "index",
         "rawType": "int64",
         "type": "integer"
        },
        {
         "name": "longitude",
         "rawType": "float64",
         "type": "float"
        },
        {
         "name": "latitude",
         "rawType": "float64",
         "type": "float"
        },
        {
         "name": "housing_median_age",
         "rawType": "float64",
         "type": "float"
        },
        {
         "name": "total_rooms",
         "rawType": "float64",
         "type": "float"
        },
        {
         "name": "total_bedrooms",
         "rawType": "float64",
         "type": "float"
        },
        {
         "name": "population",
         "rawType": "float64",
         "type": "float"
        },
        {
         "name": "households",
         "rawType": "float64",
         "type": "float"
        },
        {
         "name": "median_income",
         "rawType": "float64",
         "type": "float"
        },
        {
         "name": "median_house_value",
         "rawType": "float64",
         "type": "float"
        },
        {
         "name": "ocean_proximity",
         "rawType": "object",
         "type": "string"
        },
        {
         "name": "id",
         "rawType": "float64",
         "type": "float"
        }
       ],
       "conversionMethod": "pd.DataFrame",
       "ref": "e566f77a-ca5d-4da5-bca1-db654c135503",
       "rows": [
        [
         "0",
         "0",
         "-122.23",
         "37.88",
         "41.0",
         "880.0",
         "129.0",
         "322.0",
         "126.0",
         "8.3252",
         "452600.0",
         "NEAR BAY",
         "-122192.12"
        ],
        [
         "1",
         "1",
         "-122.22",
         "37.86",
         "21.0",
         "7099.0",
         "1106.0",
         "2401.0",
         "1138.0",
         "8.3014",
         "358500.0",
         "NEAR BAY",
         "-122182.14"
        ],
        [
         "2",
         "2",
         "-122.24",
         "37.85",
         "52.0",
         "1467.0",
         "190.0",
         "496.0",
         "177.0",
         "7.2574",
         "352100.0",
         "NEAR BAY",
         "-122202.15"
        ],
        [
         "3",
         "3",
         "-122.25",
         "37.85",
         "52.0",
         "1274.0",
         "235.0",
         "558.0",
         "219.0",
         "5.6431",
         "341300.0",
         "NEAR BAY",
         "-122212.15"
        ],
        [
         "4",
         "4",
         "-122.25",
         "37.85",
         "52.0",
         "1627.0",
         "280.0",
         "565.0",
         "259.0",
         "3.8462",
         "342200.0",
         "NEAR BAY",
         "-122212.15"
        ]
       ],
       "shape": {
        "columns": 12,
        "rows": 5
       }
      },
      "text/html": [
       "<div>\n",
       "<style scoped>\n",
       "    .dataframe tbody tr th:only-of-type {\n",
       "        vertical-align: middle;\n",
       "    }\n",
       "\n",
       "    .dataframe tbody tr th {\n",
       "        vertical-align: top;\n",
       "    }\n",
       "\n",
       "    .dataframe thead th {\n",
       "        text-align: right;\n",
       "    }\n",
       "</style>\n",
       "<table border=\"1\" class=\"dataframe\">\n",
       "  <thead>\n",
       "    <tr style=\"text-align: right;\">\n",
       "      <th></th>\n",
       "      <th>index</th>\n",
       "      <th>longitude</th>\n",
       "      <th>latitude</th>\n",
       "      <th>housing_median_age</th>\n",
       "      <th>total_rooms</th>\n",
       "      <th>total_bedrooms</th>\n",
       "      <th>population</th>\n",
       "      <th>households</th>\n",
       "      <th>median_income</th>\n",
       "      <th>median_house_value</th>\n",
       "      <th>ocean_proximity</th>\n",
       "      <th>id</th>\n",
       "    </tr>\n",
       "  </thead>\n",
       "  <tbody>\n",
       "    <tr>\n",
       "      <th>0</th>\n",
       "      <td>0</td>\n",
       "      <td>-122.23</td>\n",
       "      <td>37.88</td>\n",
       "      <td>41.0</td>\n",
       "      <td>880.0</td>\n",
       "      <td>129.0</td>\n",
       "      <td>322.0</td>\n",
       "      <td>126.0</td>\n",
       "      <td>8.3252</td>\n",
       "      <td>452600.0</td>\n",
       "      <td>NEAR BAY</td>\n",
       "      <td>-122192.12</td>\n",
       "    </tr>\n",
       "    <tr>\n",
       "      <th>1</th>\n",
       "      <td>1</td>\n",
       "      <td>-122.22</td>\n",
       "      <td>37.86</td>\n",
       "      <td>21.0</td>\n",
       "      <td>7099.0</td>\n",
       "      <td>1106.0</td>\n",
       "      <td>2401.0</td>\n",
       "      <td>1138.0</td>\n",
       "      <td>8.3014</td>\n",
       "      <td>358500.0</td>\n",
       "      <td>NEAR BAY</td>\n",
       "      <td>-122182.14</td>\n",
       "    </tr>\n",
       "    <tr>\n",
       "      <th>2</th>\n",
       "      <td>2</td>\n",
       "      <td>-122.24</td>\n",
       "      <td>37.85</td>\n",
       "      <td>52.0</td>\n",
       "      <td>1467.0</td>\n",
       "      <td>190.0</td>\n",
       "      <td>496.0</td>\n",
       "      <td>177.0</td>\n",
       "      <td>7.2574</td>\n",
       "      <td>352100.0</td>\n",
       "      <td>NEAR BAY</td>\n",
       "      <td>-122202.15</td>\n",
       "    </tr>\n",
       "    <tr>\n",
       "      <th>3</th>\n",
       "      <td>3</td>\n",
       "      <td>-122.25</td>\n",
       "      <td>37.85</td>\n",
       "      <td>52.0</td>\n",
       "      <td>1274.0</td>\n",
       "      <td>235.0</td>\n",
       "      <td>558.0</td>\n",
       "      <td>219.0</td>\n",
       "      <td>5.6431</td>\n",
       "      <td>341300.0</td>\n",
       "      <td>NEAR BAY</td>\n",
       "      <td>-122212.15</td>\n",
       "    </tr>\n",
       "    <tr>\n",
       "      <th>4</th>\n",
       "      <td>4</td>\n",
       "      <td>-122.25</td>\n",
       "      <td>37.85</td>\n",
       "      <td>52.0</td>\n",
       "      <td>1627.0</td>\n",
       "      <td>280.0</td>\n",
       "      <td>565.0</td>\n",
       "      <td>259.0</td>\n",
       "      <td>3.8462</td>\n",
       "      <td>342200.0</td>\n",
       "      <td>NEAR BAY</td>\n",
       "      <td>-122212.15</td>\n",
       "    </tr>\n",
       "  </tbody>\n",
       "</table>\n",
       "</div>"
      ],
      "text/plain": [
       "   index  longitude  latitude  housing_median_age  total_rooms  \\\n",
       "0      0    -122.23     37.88                41.0        880.0   \n",
       "1      1    -122.22     37.86                21.0       7099.0   \n",
       "2      2    -122.24     37.85                52.0       1467.0   \n",
       "3      3    -122.25     37.85                52.0       1274.0   \n",
       "4      4    -122.25     37.85                52.0       1627.0   \n",
       "\n",
       "   total_bedrooms  population  households  median_income  median_house_value  \\\n",
       "0           129.0       322.0       126.0         8.3252            452600.0   \n",
       "1          1106.0      2401.0      1138.0         8.3014            358500.0   \n",
       "2           190.0       496.0       177.0         7.2574            352100.0   \n",
       "3           235.0       558.0       219.0         5.6431            341300.0   \n",
       "4           280.0       565.0       259.0         3.8462            342200.0   \n",
       "\n",
       "  ocean_proximity         id  \n",
       "0        NEAR BAY -122192.12  \n",
       "1        NEAR BAY -122182.14  \n",
       "2        NEAR BAY -122202.15  \n",
       "3        NEAR BAY -122212.15  \n",
       "4        NEAR BAY -122212.15  "
      ]
     },
     "execution_count": 79,
     "metadata": {},
     "output_type": "execute_result"
    }
   ],
   "source": [
    "housing_with_id[\"id\"] = housing[\"longitude\"] * 1000 + housing[\"latitude\"]\n",
    "train_set, test_set = split_data_with_id_hash(housing_with_id, 0.2, \"id\")\n",
    "train_set.head()"
   ]
  },
  {
   "cell_type": "code",
   "execution_count": 80,
   "id": "14d1784f",
   "metadata": {},
   "outputs": [
    {
     "data": {
      "application/vnd.microsoft.datawrangler.viewer.v0+json": {
       "columns": [
        {
         "name": "index",
         "rawType": "int64",
         "type": "integer"
        },
        {
         "name": "longitude",
         "rawType": "float64",
         "type": "float"
        },
        {
         "name": "latitude",
         "rawType": "float64",
         "type": "float"
        },
        {
         "name": "housing_median_age",
         "rawType": "float64",
         "type": "float"
        },
        {
         "name": "total_rooms",
         "rawType": "float64",
         "type": "float"
        },
        {
         "name": "total_bedrooms",
         "rawType": "float64",
         "type": "float"
        },
        {
         "name": "population",
         "rawType": "float64",
         "type": "float"
        },
        {
         "name": "households",
         "rawType": "float64",
         "type": "float"
        },
        {
         "name": "median_income",
         "rawType": "float64",
         "type": "float"
        },
        {
         "name": "median_house_value",
         "rawType": "float64",
         "type": "float"
        },
        {
         "name": "ocean_proximity",
         "rawType": "object",
         "type": "string"
        }
       ],
       "conversionMethod": "pd.DataFrame",
       "ref": "bc19977b-8aae-4c9d-bc4f-5d753662d789",
       "rows": [
        [
         "14196",
         "-117.22",
         "32.75",
         "34.0",
         "6001.0",
         "1111.0",
         "2654.0",
         "1072.0",
         "4.5878",
         "291000.0",
         "NEAR OCEAN"
        ],
        [
         "8267",
         "-117.03",
         "32.69",
         "10.0",
         "901.0",
         "163.0",
         "698.0",
         "167.0",
         "4.6648",
         "156100.0",
         "NEAR OCEAN"
        ],
        [
         "17445",
         "-122.27",
         "37.74",
         "28.0",
         "6909.0",
         "1554.0",
         "2974.0",
         "1484.0",
         "3.6875",
         "353900.0",
         "NEAR BAY"
        ],
        [
         "14265",
         "-121.82",
         "37.25",
         "25.0",
         "4021.0",
         "634.0",
         "2178.0",
         "650.0",
         "5.1663",
         "241200.0",
         "<1H OCEAN"
        ],
        [
         "2271",
         "-115.98",
         "33.32",
         "8.0",
         "240.0",
         "46.0",
         "63.0",
         "24.0",
         "1.4688",
         "53800.0",
         "INLAND"
        ]
       ],
       "shape": {
        "columns": 10,
        "rows": 5
       }
      },
      "text/html": [
       "<div>\n",
       "<style scoped>\n",
       "    .dataframe tbody tr th:only-of-type {\n",
       "        vertical-align: middle;\n",
       "    }\n",
       "\n",
       "    .dataframe tbody tr th {\n",
       "        vertical-align: top;\n",
       "    }\n",
       "\n",
       "    .dataframe thead th {\n",
       "        text-align: right;\n",
       "    }\n",
       "</style>\n",
       "<table border=\"1\" class=\"dataframe\">\n",
       "  <thead>\n",
       "    <tr style=\"text-align: right;\">\n",
       "      <th></th>\n",
       "      <th>longitude</th>\n",
       "      <th>latitude</th>\n",
       "      <th>housing_median_age</th>\n",
       "      <th>total_rooms</th>\n",
       "      <th>total_bedrooms</th>\n",
       "      <th>population</th>\n",
       "      <th>households</th>\n",
       "      <th>median_income</th>\n",
       "      <th>median_house_value</th>\n",
       "      <th>ocean_proximity</th>\n",
       "    </tr>\n",
       "  </thead>\n",
       "  <tbody>\n",
       "    <tr>\n",
       "      <th>14196</th>\n",
       "      <td>-117.22</td>\n",
       "      <td>32.75</td>\n",
       "      <td>34.0</td>\n",
       "      <td>6001.0</td>\n",
       "      <td>1111.0</td>\n",
       "      <td>2654.0</td>\n",
       "      <td>1072.0</td>\n",
       "      <td>4.5878</td>\n",
       "      <td>291000.0</td>\n",
       "      <td>NEAR OCEAN</td>\n",
       "    </tr>\n",
       "    <tr>\n",
       "      <th>8267</th>\n",
       "      <td>-117.03</td>\n",
       "      <td>32.69</td>\n",
       "      <td>10.0</td>\n",
       "      <td>901.0</td>\n",
       "      <td>163.0</td>\n",
       "      <td>698.0</td>\n",
       "      <td>167.0</td>\n",
       "      <td>4.6648</td>\n",
       "      <td>156100.0</td>\n",
       "      <td>NEAR OCEAN</td>\n",
       "    </tr>\n",
       "    <tr>\n",
       "      <th>17445</th>\n",
       "      <td>-122.27</td>\n",
       "      <td>37.74</td>\n",
       "      <td>28.0</td>\n",
       "      <td>6909.0</td>\n",
       "      <td>1554.0</td>\n",
       "      <td>2974.0</td>\n",
       "      <td>1484.0</td>\n",
       "      <td>3.6875</td>\n",
       "      <td>353900.0</td>\n",
       "      <td>NEAR BAY</td>\n",
       "    </tr>\n",
       "    <tr>\n",
       "      <th>14265</th>\n",
       "      <td>-121.82</td>\n",
       "      <td>37.25</td>\n",
       "      <td>25.0</td>\n",
       "      <td>4021.0</td>\n",
       "      <td>634.0</td>\n",
       "      <td>2178.0</td>\n",
       "      <td>650.0</td>\n",
       "      <td>5.1663</td>\n",
       "      <td>241200.0</td>\n",
       "      <td>&lt;1H OCEAN</td>\n",
       "    </tr>\n",
       "    <tr>\n",
       "      <th>2271</th>\n",
       "      <td>-115.98</td>\n",
       "      <td>33.32</td>\n",
       "      <td>8.0</td>\n",
       "      <td>240.0</td>\n",
       "      <td>46.0</td>\n",
       "      <td>63.0</td>\n",
       "      <td>24.0</td>\n",
       "      <td>1.4688</td>\n",
       "      <td>53800.0</td>\n",
       "      <td>INLAND</td>\n",
       "    </tr>\n",
       "  </tbody>\n",
       "</table>\n",
       "</div>"
      ],
      "text/plain": [
       "       longitude  latitude  housing_median_age  total_rooms  total_bedrooms  \\\n",
       "14196    -117.22     32.75                34.0       6001.0          1111.0   \n",
       "8267     -117.03     32.69                10.0        901.0           163.0   \n",
       "17445    -122.27     37.74                28.0       6909.0          1554.0   \n",
       "14265    -121.82     37.25                25.0       4021.0           634.0   \n",
       "2271     -115.98     33.32                 8.0        240.0            46.0   \n",
       "\n",
       "       population  households  median_income  median_house_value  \\\n",
       "14196      2654.0      1072.0         4.5878            291000.0   \n",
       "8267        698.0       167.0         4.6648            156100.0   \n",
       "17445      2974.0      1484.0         3.6875            353900.0   \n",
       "14265      2178.0       650.0         5.1663            241200.0   \n",
       "2271         63.0        24.0         1.4688             53800.0   \n",
       "\n",
       "      ocean_proximity  \n",
       "14196      NEAR OCEAN  \n",
       "8267       NEAR OCEAN  \n",
       "17445        NEAR BAY  \n",
       "14265       <1H OCEAN  \n",
       "2271           INLAND  "
      ]
     },
     "execution_count": 80,
     "metadata": {},
     "output_type": "execute_result"
    }
   ],
   "source": [
    "train_set, test_set = train_test_split(housing, test_size=0.2, random_state=42)\n",
    "train_set.head()"
   ]
  },
  {
   "cell_type": "code",
   "execution_count": 81,
   "id": "97bc3ad8",
   "metadata": {},
   "outputs": [
    {
     "data": {
      "text/plain": [
       "np.int64(44)"
      ]
     },
     "execution_count": 81,
     "metadata": {},
     "output_type": "execute_result"
    }
   ],
   "source": [
    "test_set[\"total_bedrooms\"].isnull().sum()"
   ]
  },
  {
   "cell_type": "markdown",
   "id": "1600ba31",
   "metadata": {},
   "source": [
    "Income has also it categories in range like form 1-2, 2-3 and so on. By this cause We made the income category\n"
   ]
  },
  {
   "cell_type": "code",
   "execution_count": 82,
   "id": "a83bac77",
   "metadata": {},
   "outputs": [
    {
     "data": {
      "application/vnd.microsoft.datawrangler.viewer.v0+json": {
       "columns": [
        {
         "name": "index",
         "rawType": "int64",
         "type": "integer"
        },
        {
         "name": "longitude",
         "rawType": "float64",
         "type": "float"
        },
        {
         "name": "latitude",
         "rawType": "float64",
         "type": "float"
        },
        {
         "name": "housing_median_age",
         "rawType": "float64",
         "type": "float"
        },
        {
         "name": "total_rooms",
         "rawType": "float64",
         "type": "float"
        },
        {
         "name": "total_bedrooms",
         "rawType": "float64",
         "type": "float"
        },
        {
         "name": "population",
         "rawType": "float64",
         "type": "float"
        },
        {
         "name": "households",
         "rawType": "float64",
         "type": "float"
        },
        {
         "name": "median_income",
         "rawType": "float64",
         "type": "float"
        },
        {
         "name": "median_house_value",
         "rawType": "float64",
         "type": "float"
        },
        {
         "name": "ocean_proximity",
         "rawType": "object",
         "type": "string"
        },
        {
         "name": "income_cat",
         "rawType": "category",
         "type": "unknown"
        }
       ],
       "conversionMethod": "pd.DataFrame",
       "ref": "76c153a1-15d7-4746-a825-41fcb063e705",
       "rows": [
        [
         "0",
         "-122.23",
         "37.88",
         "41.0",
         "880.0",
         "129.0",
         "322.0",
         "126.0",
         "8.3252",
         "452600.0",
         "NEAR BAY",
         "5"
        ],
        [
         "1",
         "-122.22",
         "37.86",
         "21.0",
         "7099.0",
         "1106.0",
         "2401.0",
         "1138.0",
         "8.3014",
         "358500.0",
         "NEAR BAY",
         "5"
        ],
        [
         "2",
         "-122.24",
         "37.85",
         "52.0",
         "1467.0",
         "190.0",
         "496.0",
         "177.0",
         "7.2574",
         "352100.0",
         "NEAR BAY",
         "5"
        ],
        [
         "3",
         "-122.25",
         "37.85",
         "52.0",
         "1274.0",
         "235.0",
         "558.0",
         "219.0",
         "5.6431",
         "341300.0",
         "NEAR BAY",
         "4"
        ],
        [
         "4",
         "-122.25",
         "37.85",
         "52.0",
         "1627.0",
         "280.0",
         "565.0",
         "259.0",
         "3.8462",
         "342200.0",
         "NEAR BAY",
         "3"
        ]
       ],
       "shape": {
        "columns": 11,
        "rows": 5
       }
      },
      "text/html": [
       "<div>\n",
       "<style scoped>\n",
       "    .dataframe tbody tr th:only-of-type {\n",
       "        vertical-align: middle;\n",
       "    }\n",
       "\n",
       "    .dataframe tbody tr th {\n",
       "        vertical-align: top;\n",
       "    }\n",
       "\n",
       "    .dataframe thead th {\n",
       "        text-align: right;\n",
       "    }\n",
       "</style>\n",
       "<table border=\"1\" class=\"dataframe\">\n",
       "  <thead>\n",
       "    <tr style=\"text-align: right;\">\n",
       "      <th></th>\n",
       "      <th>longitude</th>\n",
       "      <th>latitude</th>\n",
       "      <th>housing_median_age</th>\n",
       "      <th>total_rooms</th>\n",
       "      <th>total_bedrooms</th>\n",
       "      <th>population</th>\n",
       "      <th>households</th>\n",
       "      <th>median_income</th>\n",
       "      <th>median_house_value</th>\n",
       "      <th>ocean_proximity</th>\n",
       "      <th>income_cat</th>\n",
       "    </tr>\n",
       "  </thead>\n",
       "  <tbody>\n",
       "    <tr>\n",
       "      <th>0</th>\n",
       "      <td>-122.23</td>\n",
       "      <td>37.88</td>\n",
       "      <td>41.0</td>\n",
       "      <td>880.0</td>\n",
       "      <td>129.0</td>\n",
       "      <td>322.0</td>\n",
       "      <td>126.0</td>\n",
       "      <td>8.3252</td>\n",
       "      <td>452600.0</td>\n",
       "      <td>NEAR BAY</td>\n",
       "      <td>5</td>\n",
       "    </tr>\n",
       "    <tr>\n",
       "      <th>1</th>\n",
       "      <td>-122.22</td>\n",
       "      <td>37.86</td>\n",
       "      <td>21.0</td>\n",
       "      <td>7099.0</td>\n",
       "      <td>1106.0</td>\n",
       "      <td>2401.0</td>\n",
       "      <td>1138.0</td>\n",
       "      <td>8.3014</td>\n",
       "      <td>358500.0</td>\n",
       "      <td>NEAR BAY</td>\n",
       "      <td>5</td>\n",
       "    </tr>\n",
       "    <tr>\n",
       "      <th>2</th>\n",
       "      <td>-122.24</td>\n",
       "      <td>37.85</td>\n",
       "      <td>52.0</td>\n",
       "      <td>1467.0</td>\n",
       "      <td>190.0</td>\n",
       "      <td>496.0</td>\n",
       "      <td>177.0</td>\n",
       "      <td>7.2574</td>\n",
       "      <td>352100.0</td>\n",
       "      <td>NEAR BAY</td>\n",
       "      <td>5</td>\n",
       "    </tr>\n",
       "    <tr>\n",
       "      <th>3</th>\n",
       "      <td>-122.25</td>\n",
       "      <td>37.85</td>\n",
       "      <td>52.0</td>\n",
       "      <td>1274.0</td>\n",
       "      <td>235.0</td>\n",
       "      <td>558.0</td>\n",
       "      <td>219.0</td>\n",
       "      <td>5.6431</td>\n",
       "      <td>341300.0</td>\n",
       "      <td>NEAR BAY</td>\n",
       "      <td>4</td>\n",
       "    </tr>\n",
       "    <tr>\n",
       "      <th>4</th>\n",
       "      <td>-122.25</td>\n",
       "      <td>37.85</td>\n",
       "      <td>52.0</td>\n",
       "      <td>1627.0</td>\n",
       "      <td>280.0</td>\n",
       "      <td>565.0</td>\n",
       "      <td>259.0</td>\n",
       "      <td>3.8462</td>\n",
       "      <td>342200.0</td>\n",
       "      <td>NEAR BAY</td>\n",
       "      <td>3</td>\n",
       "    </tr>\n",
       "  </tbody>\n",
       "</table>\n",
       "</div>"
      ],
      "text/plain": [
       "   longitude  latitude  housing_median_age  total_rooms  total_bedrooms  \\\n",
       "0    -122.23     37.88                41.0        880.0           129.0   \n",
       "1    -122.22     37.86                21.0       7099.0          1106.0   \n",
       "2    -122.24     37.85                52.0       1467.0           190.0   \n",
       "3    -122.25     37.85                52.0       1274.0           235.0   \n",
       "4    -122.25     37.85                52.0       1627.0           280.0   \n",
       "\n",
       "   population  households  median_income  median_house_value ocean_proximity  \\\n",
       "0       322.0       126.0         8.3252            452600.0        NEAR BAY   \n",
       "1      2401.0      1138.0         8.3014            358500.0        NEAR BAY   \n",
       "2       496.0       177.0         7.2574            352100.0        NEAR BAY   \n",
       "3       558.0       219.0         5.6431            341300.0        NEAR BAY   \n",
       "4       565.0       259.0         3.8462            342200.0        NEAR BAY   \n",
       "\n",
       "  income_cat  \n",
       "0          5  \n",
       "1          5  \n",
       "2          5  \n",
       "3          4  \n",
       "4          3  "
      ]
     },
     "execution_count": 82,
     "metadata": {},
     "output_type": "execute_result"
    }
   ],
   "source": [
    "housing[\"income_cat\"] = pd.cut(housing[\"median_income\"],\n",
    "                               bins=[0., 1.5, 3.0, 4.5, 6., np.inf],\n",
    "                               labels=[1, 2, 3, 4, 5])\n",
    "\n",
    "# housing['income_cat'].value_counts().sort_index()\n",
    "housing.head()"
   ]
  },
  {
   "cell_type": "code",
   "execution_count": 83,
   "id": "dc9facd8",
   "metadata": {},
   "outputs": [
    {
     "data": {
      "image/png": "[encoded data removed]",
      "text/plain": [
       "<Figure size 640x480 with 1 Axes>"
      ]
     },
     "metadata": {},
     "output_type": "display_data"
    }
   ],
   "source": [
    "housing[\"income_cat\"].value_counts().sort_index().plot.bar(rot=0, grid=True)\n",
    "plt.xlabel(\"Income category\")\n",
    "plt.ylabel(\"Number of districts\")\n",
    "save_fig(\"housing_income_cat_bar_plot\")  # extra code\n",
    "plt.show()"
   ]
  },
  {
   "cell_type": "markdown",
   "id": "0fc426ec",
   "metadata": {},
   "source": [
    "StratifiedShuffleSplit ensures that your train and test datasets have similar distributions of a categorical variable (like income_cat), which is especially important if your dataset is imbalanced or skewed.\n"
   ]
  },
  {
   "cell_type": "code",
   "execution_count": 84,
   "id": "2177aa38",
   "metadata": {},
   "outputs": [],
   "source": [
    "from sklearn.model_selection import StratifiedShuffleSplit\n",
    "\n",
    "splitter = StratifiedShuffleSplit(n_splits=10, test_size=0.2, random_state=42)\n",
    "\n",
    "strat_splits = []\n",
    "for train_index, test_index in splitter.split(housing, housing[\"income_cat\"]):\n",
    "    strat_train_set_n = housing.iloc[train_index]\n",
    "    strat_test_set_n = housing.iloc[test_index]\n",
    "    strat_splits.append([strat_train_set_n, strat_test_set_n])"
   ]
  },
  {
   "cell_type": "code",
   "execution_count": 85,
   "id": "e5e6b7b0",
   "metadata": {},
   "outputs": [
    {
     "data": {
      "application/vnd.microsoft.datawrangler.viewer.v0+json": {
       "columns": [
        {
         "name": "index",
         "rawType": "int64",
         "type": "integer"
        },
        {
         "name": "longitude",
         "rawType": "float64",
         "type": "float"
        },
        {
         "name": "latitude",
         "rawType": "float64",
         "type": "float"
        },
        {
         "name": "housing_median_age",
         "rawType": "float64",
         "type": "float"
        },
        {
         "name": "total_rooms",
         "rawType": "float64",
         "type": "float"
        },
        {
         "name": "total_bedrooms",
         "rawType": "float64",
         "type": "float"
        },
        {
         "name": "population",
         "rawType": "float64",
         "type": "float"
        },
        {
         "name": "households",
         "rawType": "float64",
         "type": "float"
        },
        {
         "name": "median_income",
         "rawType": "float64",
         "type": "float"
        },
        {
         "name": "median_house_value",
         "rawType": "float64",
         "type": "float"
        },
        {
         "name": "ocean_proximity",
         "rawType": "object",
         "type": "string"
        },
        {
         "name": "income_cat",
         "rawType": "category",
         "type": "unknown"
        }
       ],
       "conversionMethod": "pd.DataFrame",
       "ref": "d648bd36-160c-4815-9995-324a2234de45",
       "rows": [
        [
         "13096",
         "-122.42",
         "37.8",
         "52.0",
         "3321.0",
         "1115.0",
         "1576.0",
         "1034.0",
         "2.0987",
         "458300.0",
         "NEAR BAY",
         "2"
        ],
        [
         "14973",
         "-118.38",
         "34.14",
         "40.0",
         "1965.0",
         "354.0",
         "666.0",
         "357.0",
         "6.0876",
         "483800.0",
         "<1H OCEAN",
         "5"
        ],
        [
         "3785",
         "-121.98",
         "38.36",
         "33.0",
         "1083.0",
         "217.0",
         "562.0",
         "203.0",
         "2.433",
         "101700.0",
         "INLAND",
         "2"
        ],
        [
         "14689",
         "-117.11",
         "33.75",
         "17.0",
         "4174.0",
         "851.0",
         "1845.0",
         "780.0",
         "2.2618",
         "96100.0",
         "INLAND",
         "2"
        ],
        [
         "20507",
         "-118.15",
         "33.77",
         "36.0",
         "4366.0",
         "1211.0",
         "1912.0",
         "1172.0",
         "3.5292",
         "361800.0",
         "NEAR OCEAN",
         "3"
        ]
       ],
       "shape": {
        "columns": 11,
        "rows": 5
       }
      },
      "text/html": [
       "<div>\n",
       "<style scoped>\n",
       "    .dataframe tbody tr th:only-of-type {\n",
       "        vertical-align: middle;\n",
       "    }\n",
       "\n",
       "    .dataframe tbody tr th {\n",
       "        vertical-align: top;\n",
       "    }\n",
       "\n",
       "    .dataframe thead th {\n",
       "        text-align: right;\n",
       "    }\n",
       "</style>\n",
       "<table border=\"1\" class=\"dataframe\">\n",
       "  <thead>\n",
       "    <tr style=\"text-align: right;\">\n",
       "      <th></th>\n",
       "      <th>longitude</th>\n",
       "      <th>latitude</th>\n",
       "      <th>housing_median_age</th>\n",
       "      <th>total_rooms</th>\n",
       "      <th>total_bedrooms</th>\n",
       "      <th>population</th>\n",
       "      <th>households</th>\n",
       "      <th>median_income</th>\n",
       "      <th>median_house_value</th>\n",
       "      <th>ocean_proximity</th>\n",
       "      <th>income_cat</th>\n",
       "    </tr>\n",
       "  </thead>\n",
       "  <tbody>\n",
       "    <tr>\n",
       "      <th>13096</th>\n",
       "      <td>-122.42</td>\n",
       "      <td>37.80</td>\n",
       "      <td>52.0</td>\n",
       "      <td>3321.0</td>\n",
       "      <td>1115.0</td>\n",
       "      <td>1576.0</td>\n",
       "      <td>1034.0</td>\n",
       "      <td>2.0987</td>\n",
       "      <td>458300.0</td>\n",
       "      <td>NEAR BAY</td>\n",
       "      <td>2</td>\n",
       "    </tr>\n",
       "    <tr>\n",
       "      <th>14973</th>\n",
       "      <td>-118.38</td>\n",
       "      <td>34.14</td>\n",
       "      <td>40.0</td>\n",
       "      <td>1965.0</td>\n",
       "      <td>354.0</td>\n",
       "      <td>666.0</td>\n",
       "      <td>357.0</td>\n",
       "      <td>6.0876</td>\n",
       "      <td>483800.0</td>\n",
       "      <td>&lt;1H OCEAN</td>\n",
       "      <td>5</td>\n",
       "    </tr>\n",
       "    <tr>\n",
       "      <th>3785</th>\n",
       "      <td>-121.98</td>\n",
       "      <td>38.36</td>\n",
       "      <td>33.0</td>\n",
       "      <td>1083.0</td>\n",
       "      <td>217.0</td>\n",
       "      <td>562.0</td>\n",
       "      <td>203.0</td>\n",
       "      <td>2.4330</td>\n",
       "      <td>101700.0</td>\n",
       "      <td>INLAND</td>\n",
       "      <td>2</td>\n",
       "    </tr>\n",
       "    <tr>\n",
       "      <th>14689</th>\n",
       "      <td>-117.11</td>\n",
       "      <td>33.75</td>\n",
       "      <td>17.0</td>\n",
       "      <td>4174.0</td>\n",
       "      <td>851.0</td>\n",
       "      <td>1845.0</td>\n",
       "      <td>780.0</td>\n",
       "      <td>2.2618</td>\n",
       "      <td>96100.0</td>\n",
       "      <td>INLAND</td>\n",
       "      <td>2</td>\n",
       "    </tr>\n",
       "    <tr>\n",
       "      <th>20507</th>\n",
       "      <td>-118.15</td>\n",
       "      <td>33.77</td>\n",
       "      <td>36.0</td>\n",
       "      <td>4366.0</td>\n",
       "      <td>1211.0</td>\n",
       "      <td>1912.0</td>\n",
       "      <td>1172.0</td>\n",
       "      <td>3.5292</td>\n",
       "      <td>361800.0</td>\n",
       "      <td>NEAR OCEAN</td>\n",
       "      <td>3</td>\n",
       "    </tr>\n",
       "  </tbody>\n",
       "</table>\n",
       "</div>"
      ],
      "text/plain": [
       "       longitude  latitude  housing_median_age  total_rooms  total_bedrooms  \\\n",
       "13096    -122.42     37.80                52.0       3321.0          1115.0   \n",
       "14973    -118.38     34.14                40.0       1965.0           354.0   \n",
       "3785     -121.98     38.36                33.0       1083.0           217.0   \n",
       "14689    -117.11     33.75                17.0       4174.0           851.0   \n",
       "20507    -118.15     33.77                36.0       4366.0          1211.0   \n",
       "\n",
       "       population  households  median_income  median_house_value  \\\n",
       "13096      1576.0      1034.0         2.0987            458300.0   \n",
       "14973       666.0       357.0         6.0876            483800.0   \n",
       "3785        562.0       203.0         2.4330            101700.0   \n",
       "14689      1845.0       780.0         2.2618             96100.0   \n",
       "20507      1912.0      1172.0         3.5292            361800.0   \n",
       "\n",
       "      ocean_proximity income_cat  \n",
       "13096        NEAR BAY          2  \n",
       "14973       <1H OCEAN          5  \n",
       "3785           INLAND          2  \n",
       "14689          INLAND          2  \n",
       "20507      NEAR OCEAN          3  "
      ]
     },
     "execution_count": 85,
     "metadata": {},
     "output_type": "execute_result"
    }
   ],
   "source": [
    "strat_train_set, strat_test_set = strat_splits[0]\n",
    "strat_train_set.head()"
   ]
  },
  {
   "cell_type": "markdown",
   "id": "ea8865fd",
   "metadata": {},
   "source": [
    "to check whether the stratified sampling actually worked — i.e., whether the proportions of each income category in the test set match those in the original dataset.\n"
   ]
  },
  {
   "cell_type": "code",
   "execution_count": 86,
   "id": "5b8e5c0f",
   "metadata": {},
   "outputs": [
    {
     "data": {
      "text/plain": [
       "income_cat\n",
       "3    0.350533\n",
       "2    0.318798\n",
       "4    0.176357\n",
       "5    0.114341\n",
       "1    0.039971\n",
       "Name: count, dtype: float64"
      ]
     },
     "execution_count": 86,
     "metadata": {},
     "output_type": "execute_result"
    }
   ],
   "source": [
    "strat_test_set[\"income_cat\"].value_counts() / len(strat_test_set)"
   ]
  },
  {
   "cell_type": "code",
   "execution_count": 87,
   "id": "240bd537",
   "metadata": {},
   "outputs": [
    {
     "data": {
      "application/vnd.microsoft.datawrangler.viewer.v0+json": {
       "columns": [
        {
         "name": "Income Category",
         "rawType": "category",
         "type": "unknown"
        },
        {
         "name": "Overall %",
         "rawType": "float64",
         "type": "float"
        },
        {
         "name": "Stratified %",
         "rawType": "float64",
         "type": "float"
        },
        {
         "name": "Random %",
         "rawType": "float64",
         "type": "float"
        },
        {
         "name": "Strat. Error %",
         "rawType": "float64",
         "type": "float"
        },
        {
         "name": "Rand. Error %",
         "rawType": "float64",
         "type": "float"
        }
       ],
       "conversionMethod": "pd.DataFrame",
       "ref": "f89ec2d1-3f77-4b27-b5c6-ee4f1caaa23e",
       "rows": [
        [
         "1",
         "3.98",
         "4.0",
         "4.24",
         "0.36",
         "6.45"
        ],
        [
         "2",
         "31.88",
         "31.88",
         "30.74",
         "-0.02",
         "-3.59"
        ],
        [
         "3",
         "35.06",
         "35.05",
         "34.52",
         "-0.01",
         "-1.53"
        ],
        [
         "4",
         "17.63",
         "17.64",
         "18.41",
         "0.03",
         "4.42"
        ],
        [
         "5",
         "11.44",
         "11.43",
         "12.09",
         "-0.08",
         "5.63"
        ]
       ],
       "shape": {
        "columns": 5,
        "rows": 5
       }
      },
      "text/html": [
       "<div>\n",
       "<style scoped>\n",
       "    .dataframe tbody tr th:only-of-type {\n",
       "        vertical-align: middle;\n",
       "    }\n",
       "\n",
       "    .dataframe tbody tr th {\n",
       "        vertical-align: top;\n",
       "    }\n",
       "\n",
       "    .dataframe thead th {\n",
       "        text-align: right;\n",
       "    }\n",
       "</style>\n",
       "<table border=\"1\" class=\"dataframe\">\n",
       "  <thead>\n",
       "    <tr style=\"text-align: right;\">\n",
       "      <th></th>\n",
       "      <th>Overall %</th>\n",
       "      <th>Stratified %</th>\n",
       "      <th>Random %</th>\n",
       "      <th>Strat. Error %</th>\n",
       "      <th>Rand. Error %</th>\n",
       "    </tr>\n",
       "    <tr>\n",
       "      <th>Income Category</th>\n",
       "      <th></th>\n",
       "      <th></th>\n",
       "      <th></th>\n",
       "      <th></th>\n",
       "      <th></th>\n",
       "    </tr>\n",
       "  </thead>\n",
       "  <tbody>\n",
       "    <tr>\n",
       "      <th>1</th>\n",
       "      <td>3.98</td>\n",
       "      <td>4.00</td>\n",
       "      <td>4.24</td>\n",
       "      <td>0.36</td>\n",
       "      <td>6.45</td>\n",
       "    </tr>\n",
       "    <tr>\n",
       "      <th>2</th>\n",
       "      <td>31.88</td>\n",
       "      <td>31.88</td>\n",
       "      <td>30.74</td>\n",
       "      <td>-0.02</td>\n",
       "      <td>-3.59</td>\n",
       "    </tr>\n",
       "    <tr>\n",
       "      <th>3</th>\n",
       "      <td>35.06</td>\n",
       "      <td>35.05</td>\n",
       "      <td>34.52</td>\n",
       "      <td>-0.01</td>\n",
       "      <td>-1.53</td>\n",
       "    </tr>\n",
       "    <tr>\n",
       "      <th>4</th>\n",
       "      <td>17.63</td>\n",
       "      <td>17.64</td>\n",
       "      <td>18.41</td>\n",
       "      <td>0.03</td>\n",
       "      <td>4.42</td>\n",
       "    </tr>\n",
       "    <tr>\n",
       "      <th>5</th>\n",
       "      <td>11.44</td>\n",
       "      <td>11.43</td>\n",
       "      <td>12.09</td>\n",
       "      <td>-0.08</td>\n",
       "      <td>5.63</td>\n",
       "    </tr>\n",
       "  </tbody>\n",
       "</table>\n",
       "</div>"
      ],
      "text/plain": [
       "                 Overall %  Stratified %  Random %  Strat. Error %  \\\n",
       "Income Category                                                      \n",
       "1                     3.98          4.00      4.24            0.36   \n",
       "2                    31.88         31.88     30.74           -0.02   \n",
       "3                    35.06         35.05     34.52           -0.01   \n",
       "4                    17.63         17.64     18.41            0.03   \n",
       "5                    11.44         11.43     12.09           -0.08   \n",
       "\n",
       "                 Rand. Error %  \n",
       "Income Category                 \n",
       "1                         6.45  \n",
       "2                        -3.59  \n",
       "3                        -1.53  \n",
       "4                         4.42  \n",
       "5                         5.63  "
      ]
     },
     "execution_count": 87,
     "metadata": {},
     "output_type": "execute_result"
    }
   ],
   "source": [
    "# extra code – computes the data for Figure 2–10\n",
    "\n",
    "def income_cat_proportions(data):\n",
    "    return data[\"income_cat\"].value_counts() / len(data)\n",
    "\n",
    "train_set, test_set = train_test_split(housing, test_size=0.2, random_state=42)\n",
    "\n",
    "compare_props = pd.DataFrame({\n",
    "    \"Overall %\": income_cat_proportions(housing),\n",
    "    \"Stratified %\": income_cat_proportions(strat_test_set),\n",
    "    \"Random %\": income_cat_proportions(test_set),\n",
    "}).sort_index()\n",
    "compare_props.index.name = \"Income Category\"\n",
    "compare_props[\"Strat. Error %\"] = (compare_props[\"Stratified %\"] /\n",
    "                                   compare_props[\"Overall %\"] - 1)\n",
    "compare_props[\"Rand. Error %\"] = (compare_props[\"Random %\"] /\n",
    "                                  compare_props[\"Overall %\"] - 1)\n",
    "(compare_props * 100).round(2)"
   ]
  },
  {
   "cell_type": "code",
   "execution_count": 88,
   "id": "9ed67b5e",
   "metadata": {},
   "outputs": [
    {
     "data": {
      "application/vnd.microsoft.datawrangler.viewer.v0+json": {
       "columns": [
        {
         "name": "index",
         "rawType": "int64",
         "type": "integer"
        },
        {
         "name": "longitude",
         "rawType": "float64",
         "type": "float"
        },
        {
         "name": "latitude",
         "rawType": "float64",
         "type": "float"
        },
        {
         "name": "housing_median_age",
         "rawType": "float64",
         "type": "float"
        },
        {
         "name": "total_rooms",
         "rawType": "float64",
         "type": "float"
        },
        {
         "name": "total_bedrooms",
         "rawType": "float64",
         "type": "float"
        },
        {
         "name": "population",
         "rawType": "float64",
         "type": "float"
        },
        {
         "name": "households",
         "rawType": "float64",
         "type": "float"
        },
        {
         "name": "median_income",
         "rawType": "float64",
         "type": "float"
        },
        {
         "name": "median_house_value",
         "rawType": "float64",
         "type": "float"
        },
        {
         "name": "ocean_proximity",
         "rawType": "object",
         "type": "string"
        },
        {
         "name": "income_cat",
         "rawType": "category",
         "type": "unknown"
        }
       ],
       "conversionMethod": "pd.DataFrame",
       "ref": "253180bc-4a3e-49aa-9acf-5845c03d75b6",
       "rows": [
        [
         "3905",
         "-121.95",
         "37.11",
         "21.0",
         "2387.0",
         "357.0",
         "913.0",
         "341.0",
         "7.736",
         "397700.0",
         "<1H OCEAN",
         "5"
        ],
        [
         "16821",
         "-118.01",
         "33.89",
         "36.0",
         "1589.0",
         "265.0",
         "804.0",
         "272.0",
         "4.6354",
         "202900.0",
         "<1H OCEAN",
         "4"
        ],
        [
         "2900",
         "-118.18",
         "33.74",
         "30.0",
         "5915.0",
         "1750.0",
         "2136.0",
         "1503.0",
         "4.0968",
         "310000.0",
         "NEAR OCEAN",
         "3"
        ],
        [
         "7193",
         "-122.48",
         "37.74",
         "52.0",
         "2166.0",
         "423.0",
         "1072.0",
         "370.0",
         "4.131",
         "314300.0",
         "NEAR OCEAN",
         "3"
        ],
        [
         "13928",
         "-122.39",
         "37.78",
         "5.0",
         "1405.0",
         "515.0",
         "725.0",
         "392.0",
         "3.6037",
         "187500.0",
         "NEAR BAY",
         "3"
        ]
       ],
       "shape": {
        "columns": 11,
        "rows": 5
       }
      },
      "text/html": [
       "<div>\n",
       "<style scoped>\n",
       "    .dataframe tbody tr th:only-of-type {\n",
       "        vertical-align: middle;\n",
       "    }\n",
       "\n",
       "    .dataframe tbody tr th {\n",
       "        vertical-align: top;\n",
       "    }\n",
       "\n",
       "    .dataframe thead th {\n",
       "        text-align: right;\n",
       "    }\n",
       "</style>\n",
       "<table border=\"1\" class=\"dataframe\">\n",
       "  <thead>\n",
       "    <tr style=\"text-align: right;\">\n",
       "      <th></th>\n",
       "      <th>longitude</th>\n",
       "      <th>latitude</th>\n",
       "      <th>housing_median_age</th>\n",
       "      <th>total_rooms</th>\n",
       "      <th>total_bedrooms</th>\n",
       "      <th>population</th>\n",
       "      <th>households</th>\n",
       "      <th>median_income</th>\n",
       "      <th>median_house_value</th>\n",
       "      <th>ocean_proximity</th>\n",
       "      <th>income_cat</th>\n",
       "    </tr>\n",
       "  </thead>\n",
       "  <tbody>\n",
       "    <tr>\n",
       "      <th>3905</th>\n",
       "      <td>-121.95</td>\n",
       "      <td>37.11</td>\n",
       "      <td>21.0</td>\n",
       "      <td>2387.0</td>\n",
       "      <td>357.0</td>\n",
       "      <td>913.0</td>\n",
       "      <td>341.0</td>\n",
       "      <td>7.7360</td>\n",
       "      <td>397700.0</td>\n",
       "      <td>&lt;1H OCEAN</td>\n",
       "      <td>5</td>\n",
       "    </tr>\n",
       "    <tr>\n",
       "      <th>16821</th>\n",
       "      <td>-118.01</td>\n",
       "      <td>33.89</td>\n",
       "      <td>36.0</td>\n",
       "      <td>1589.0</td>\n",
       "      <td>265.0</td>\n",
       "      <td>804.0</td>\n",
       "      <td>272.0</td>\n",
       "      <td>4.6354</td>\n",
       "      <td>202900.0</td>\n",
       "      <td>&lt;1H OCEAN</td>\n",
       "      <td>4</td>\n",
       "    </tr>\n",
       "    <tr>\n",
       "      <th>2900</th>\n",
       "      <td>-118.18</td>\n",
       "      <td>33.74</td>\n",
       "      <td>30.0</td>\n",
       "      <td>5915.0</td>\n",
       "      <td>1750.0</td>\n",
       "      <td>2136.0</td>\n",
       "      <td>1503.0</td>\n",
       "      <td>4.0968</td>\n",
       "      <td>310000.0</td>\n",
       "      <td>NEAR OCEAN</td>\n",
       "      <td>3</td>\n",
       "    </tr>\n",
       "    <tr>\n",
       "      <th>7193</th>\n",
       "      <td>-122.48</td>\n",
       "      <td>37.74</td>\n",
       "      <td>52.0</td>\n",
       "      <td>2166.0</td>\n",
       "      <td>423.0</td>\n",
       "      <td>1072.0</td>\n",
       "      <td>370.0</td>\n",
       "      <td>4.1310</td>\n",
       "      <td>314300.0</td>\n",
       "      <td>NEAR OCEAN</td>\n",
       "      <td>3</td>\n",
       "    </tr>\n",
       "    <tr>\n",
       "      <th>13928</th>\n",
       "      <td>-122.39</td>\n",
       "      <td>37.78</td>\n",
       "      <td>5.0</td>\n",
       "      <td>1405.0</td>\n",
       "      <td>515.0</td>\n",
       "      <td>725.0</td>\n",
       "      <td>392.0</td>\n",
       "      <td>3.6037</td>\n",
       "      <td>187500.0</td>\n",
       "      <td>NEAR BAY</td>\n",
       "      <td>3</td>\n",
       "    </tr>\n",
       "  </tbody>\n",
       "</table>\n",
       "</div>"
      ],
      "text/plain": [
       "       longitude  latitude  housing_median_age  total_rooms  total_bedrooms  \\\n",
       "3905     -121.95     37.11                21.0       2387.0           357.0   \n",
       "16821    -118.01     33.89                36.0       1589.0           265.0   \n",
       "2900     -118.18     33.74                30.0       5915.0          1750.0   \n",
       "7193     -122.48     37.74                52.0       2166.0           423.0   \n",
       "13928    -122.39     37.78                 5.0       1405.0           515.0   \n",
       "\n",
       "       population  households  median_income  median_house_value  \\\n",
       "3905        913.0       341.0         7.7360            397700.0   \n",
       "16821       804.0       272.0         4.6354            202900.0   \n",
       "2900       2136.0      1503.0         4.0968            310000.0   \n",
       "7193       1072.0       370.0         4.1310            314300.0   \n",
       "13928       725.0       392.0         3.6037            187500.0   \n",
       "\n",
       "      ocean_proximity income_cat  \n",
       "3905        <1H OCEAN          5  \n",
       "16821       <1H OCEAN          4  \n",
       "2900       NEAR OCEAN          3  \n",
       "7193       NEAR OCEAN          3  \n",
       "13928        NEAR BAY          3  "
      ]
     },
     "execution_count": 88,
     "metadata": {},
     "output_type": "execute_result"
    }
   ],
   "source": [
    "strat_test_set.head()"
   ]
  },
  {
   "cell_type": "markdown",
   "id": "74925e7f",
   "metadata": {},
   "source": [
    "Here remove the 'income_cat' from trainging and testing set we will not use this further again\n"
   ]
  },
  {
   "cell_type": "code",
   "execution_count": 90,
   "id": "d4fdda34",
   "metadata": {},
   "outputs": [
    {
     "name": "stderr",
     "output_type": "stream",
     "text": [
      "C:\\Users\\itxkakar\\AppData\\Local\\Temp\\ipykernel_5164\\1299016719.py:2: SettingWithCopyWarning: \n",
      "A value is trying to be set on a copy of a slice from a DataFrame\n",
      "\n",
      "See the caveats in the documentation: https://pandas.pydata.org/pandas-docs/stable/user_guide/indexing.html#returning-a-view-versus-a-copy\n",
      "  set_.drop(\"income_cat\", axis=1, inplace=True)\n",
      "C:\\Users\\itxkakar\\AppData\\Local\\Temp\\ipykernel_5164\\1299016719.py:2: SettingWithCopyWarning: \n",
      "A value is trying to be set on a copy of a slice from a DataFrame\n",
      "\n",
      "See the caveats in the documentation: https://pandas.pydata.org/pandas-docs/stable/user_guide/indexing.html#returning-a-view-versus-a-copy\n",
      "  set_.drop(\"income_cat\", axis=1, inplace=True)\n"
     ]
    }
   ],
   "source": [
    "for set_ in (strat_train_set, strat_test_set):\n",
    "    set_.drop(\"income_cat\", axis=1, inplace=True)"
   ]
  },
  {
   "cell_type": "code",
   "execution_count": null,
   "id": "a7b1a251",
   "metadata": {},
   "outputs": [
    {
     "data": {
      "application/vnd.microsoft.datawrangler.viewer.v0+json": {
       "columns": [
        {
         "name": "index",
         "rawType": "int64",
         "type": "integer"
        },
        {
         "name": "longitude",
         "rawType": "float64",
         "type": "float"
        },
        {
         "name": "latitude",
         "rawType": "float64",
         "type": "float"
        },
        {
         "name": "housing_median_age",
         "rawType": "float64",
         "type": "float"
        },
        {
         "name": "total_rooms",
         "rawType": "float64",
         "type": "float"
        },
        {
         "name": "total_bedrooms",
         "rawType": "float64",
         "type": "float"
        },
        {
         "name": "population",
         "rawType": "float64",
         "type": "float"
        },
        {
         "name": "households",
         "rawType": "float64",
         "type": "float"
        },
        {
         "name": "median_income",
         "rawType": "float64",
         "type": "float"
        },
        {
         "name": "median_house_value",
         "rawType": "float64",
         "type": "float"
        },
        {
         "name": "ocean_proximity",
         "rawType": "object",
         "type": "string"
        }
       ],
       "conversionMethod": "pd.DataFrame",
       "ref": "4f8627dd-1afb-44e9-b7bf-9af92bf508e7",
       "rows": [
        [
         "3905",
         "-121.95",
         "37.11",
         "21.0",
         "2387.0",
         "357.0",
         "913.0",
         "341.0",
         "7.736",
         "397700.0",
         "<1H OCEAN"
        ],
        [
         "16821",
         "-118.01",
         "33.89",
         "36.0",
         "1589.0",
         "265.0",
         "804.0",
         "272.0",
         "4.6354",
         "202900.0",
         "<1H OCEAN"
        ],
        [
         "2900",
         "-118.18",
         "33.74",
         "30.0",
         "5915.0",
         "1750.0",
         "2136.0",
         "1503.0",
         "4.0968",
         "310000.0",
         "NEAR OCEAN"
        ],
        [
         "7193",
         "-122.48",
         "37.74",
         "52.0",
         "2166.0",
         "423.0",
         "1072.0",
         "370.0",
         "4.131",
         "314300.0",
         "NEAR OCEAN"
        ],
        [
         "13928",
         "-122.39",
         "37.78",
         "5.0",
         "1405.0",
         "515.0",
         "725.0",
         "392.0",
         "3.6037",
         "187500.0",
         "NEAR BAY"
        ]
       ],
       "shape": {
        "columns": 10,
        "rows": 5
       }
      },
      "text/html": [
       "<div>\n",
       "<style scoped>\n",
       "    .dataframe tbody tr th:only-of-type {\n",
       "        vertical-align: middle;\n",
       "    }\n",
       "\n",
       "    .dataframe tbody tr th {\n",
       "        vertical-align: top;\n",
       "    }\n",
       "\n",
       "    .dataframe thead th {\n",
       "        text-align: right;\n",
       "    }\n",
       "</style>\n",
       "<table border=\"1\" class=\"dataframe\">\n",
       "  <thead>\n",
       "    <tr style=\"text-align: right;\">\n",
       "      <th></th>\n",
       "      <th>longitude</th>\n",
       "      <th>latitude</th>\n",
       "      <th>housing_median_age</th>\n",
       "      <th>total_rooms</th>\n",
       "      <th>total_bedrooms</th>\n",
       "      <th>population</th>\n",
       "      <th>households</th>\n",
       "      <th>median_income</th>\n",
       "      <th>median_house_value</th>\n",
       "      <th>ocean_proximity</th>\n",
       "    </tr>\n",
       "  </thead>\n",
       "  <tbody>\n",
       "    <tr>\n",
       "      <th>3905</th>\n",
       "      <td>-121.95</td>\n",
       "      <td>37.11</td>\n",
       "      <td>21.0</td>\n",
       "      <td>2387.0</td>\n",
       "      <td>357.0</td>\n",
       "      <td>913.0</td>\n",
       "      <td>341.0</td>\n",
       "      <td>7.7360</td>\n",
       "      <td>397700.0</td>\n",
       "      <td>&lt;1H OCEAN</td>\n",
       "    </tr>\n",
       "    <tr>\n",
       "      <th>16821</th>\n",
       "      <td>-118.01</td>\n",
       "      <td>33.89</td>\n",
       "      <td>36.0</td>\n",
       "      <td>1589.0</td>\n",
       "      <td>265.0</td>\n",
       "      <td>804.0</td>\n",
       "      <td>272.0</td>\n",
       "      <td>4.6354</td>\n",
       "      <td>202900.0</td>\n",
       "      <td>&lt;1H OCEAN</td>\n",
       "    </tr>\n",
       "    <tr>\n",
       "      <th>2900</th>\n",
       "      <td>-118.18</td>\n",
       "      <td>33.74</td>\n",
       "      <td>30.0</td>\n",
       "      <td>5915.0</td>\n",
       "      <td>1750.0</td>\n",
       "      <td>2136.0</td>\n",
       "      <td>1503.0</td>\n",
       "      <td>4.0968</td>\n",
       "      <td>310000.0</td>\n",
       "      <td>NEAR OCEAN</td>\n",
       "    </tr>\n",
       "    <tr>\n",
       "      <th>7193</th>\n",
       "      <td>-122.48</td>\n",
       "      <td>37.74</td>\n",
       "      <td>52.0</td>\n",
       "      <td>2166.0</td>\n",
       "      <td>423.0</td>\n",
       "      <td>1072.0</td>\n",
       "      <td>370.0</td>\n",
       "      <td>4.1310</td>\n",
       "      <td>314300.0</td>\n",
       "      <td>NEAR OCEAN</td>\n",
       "    </tr>\n",
       "    <tr>\n",
       "      <th>13928</th>\n",
       "      <td>-122.39</td>\n",
       "      <td>37.78</td>\n",
       "      <td>5.0</td>\n",
       "      <td>1405.0</td>\n",
       "      <td>515.0</td>\n",
       "      <td>725.0</td>\n",
       "      <td>392.0</td>\n",
       "      <td>3.6037</td>\n",
       "      <td>187500.0</td>\n",
       "      <td>NEAR BAY</td>\n",
       "    </tr>\n",
       "  </tbody>\n",
       "</table>\n",
       "</div>"
      ],
      "text/plain": [
       "       longitude  latitude  housing_median_age  total_rooms  total_bedrooms  \\\n",
       "3905     -121.95     37.11                21.0       2387.0           357.0   \n",
       "16821    -118.01     33.89                36.0       1589.0           265.0   \n",
       "2900     -118.18     33.74                30.0       5915.0          1750.0   \n",
       "7193     -122.48     37.74                52.0       2166.0           423.0   \n",
       "13928    -122.39     37.78                 5.0       1405.0           515.0   \n",
       "\n",
       "       population  households  median_income  median_house_value  \\\n",
       "3905        913.0       341.0         7.7360            397700.0   \n",
       "16821       804.0       272.0         4.6354            202900.0   \n",
       "2900       2136.0      1503.0         4.0968            310000.0   \n",
       "7193       1072.0       370.0         4.1310            314300.0   \n",
       "13928       725.0       392.0         3.6037            187500.0   \n",
       "\n",
       "      ocean_proximity  \n",
       "3905        <1H OCEAN  \n",
       "16821       <1H OCEAN  \n",
       "2900       NEAR OCEAN  \n",
       "7193       NEAR OCEAN  \n",
       "13928        NEAR BAY  "
      ]
     },
     "execution_count": 91,
     "metadata": {},
     "output_type": "execute_result"
    }
   ],
   "source": [
    "strat_test_set.head()"
   ]
  },
  {
   "cell_type": "markdown",
   "id": "fcdaa54a",
   "metadata": {},
   "source": [
    "### Discover and Visualize the Data to Gain Insights\n"
   ]
  },
  {
   "cell_type": "code",
   "execution_count": 95,
   "id": "230f8c41",
   "metadata": {},
   "outputs": [
    {
     "data": {
      "application/vnd.microsoft.datawrangler.viewer.v0+json": {
       "columns": [
        {
         "name": "index",
         "rawType": "int64",
         "type": "integer"
        },
        {
         "name": "longitude",
         "rawType": "float64",
         "type": "float"
        },
        {
         "name": "latitude",
         "rawType": "float64",
         "type": "float"
        },
        {
         "name": "housing_median_age",
         "rawType": "float64",
         "type": "float"
        },
        {
         "name": "total_rooms",
         "rawType": "float64",
         "type": "float"
        },
        {
         "name": "total_bedrooms",
         "rawType": "float64",
         "type": "float"
        },
        {
         "name": "population",
         "rawType": "float64",
         "type": "float"
        },
        {
         "name": "households",
         "rawType": "float64",
         "type": "float"
        },
        {
         "name": "median_income",
         "rawType": "float64",
         "type": "float"
        },
        {
         "name": "median_house_value",
         "rawType": "float64",
         "type": "float"
        },
        {
         "name": "ocean_proximity",
         "rawType": "object",
         "type": "string"
        }
       ],
       "conversionMethod": "pd.DataFrame",
       "ref": "b1e84c3e-e7a7-430c-8a37-bdc255f2103d",
       "rows": [
        [
         "13096",
         "-122.42",
         "37.8",
         "52.0",
         "3321.0",
         "1115.0",
         "1576.0",
         "1034.0",
         "2.0987",
         "458300.0",
         "NEAR BAY"
        ],
        [
         "14973",
         "-118.38",
         "34.14",
         "40.0",
         "1965.0",
         "354.0",
         "666.0",
         "357.0",
         "6.0876",
         "483800.0",
         "<1H OCEAN"
        ]
       ],
       "shape": {
        "columns": 10,
        "rows": 2
       }
      },
      "text/html": [
       "<div>\n",
       "<style scoped>\n",
       "    .dataframe tbody tr th:only-of-type {\n",
       "        vertical-align: middle;\n",
       "    }\n",
       "\n",
       "    .dataframe tbody tr th {\n",
       "        vertical-align: top;\n",
       "    }\n",
       "\n",
       "    .dataframe thead th {\n",
       "        text-align: right;\n",
       "    }\n",
       "</style>\n",
       "<table border=\"1\" class=\"dataframe\">\n",
       "  <thead>\n",
       "    <tr style=\"text-align: right;\">\n",
       "      <th></th>\n",
       "      <th>longitude</th>\n",
       "      <th>latitude</th>\n",
       "      <th>housing_median_age</th>\n",
       "      <th>total_rooms</th>\n",
       "      <th>total_bedrooms</th>\n",
       "      <th>population</th>\n",
       "      <th>households</th>\n",
       "      <th>median_income</th>\n",
       "      <th>median_house_value</th>\n",
       "      <th>ocean_proximity</th>\n",
       "    </tr>\n",
       "  </thead>\n",
       "  <tbody>\n",
       "    <tr>\n",
       "      <th>13096</th>\n",
       "      <td>-122.42</td>\n",
       "      <td>37.80</td>\n",
       "      <td>52.0</td>\n",
       "      <td>3321.0</td>\n",
       "      <td>1115.0</td>\n",
       "      <td>1576.0</td>\n",
       "      <td>1034.0</td>\n",
       "      <td>2.0987</td>\n",
       "      <td>458300.0</td>\n",
       "      <td>NEAR BAY</td>\n",
       "    </tr>\n",
       "    <tr>\n",
       "      <th>14973</th>\n",
       "      <td>-118.38</td>\n",
       "      <td>34.14</td>\n",
       "      <td>40.0</td>\n",
       "      <td>1965.0</td>\n",
       "      <td>354.0</td>\n",
       "      <td>666.0</td>\n",
       "      <td>357.0</td>\n",
       "      <td>6.0876</td>\n",
       "      <td>483800.0</td>\n",
       "      <td>&lt;1H OCEAN</td>\n",
       "    </tr>\n",
       "  </tbody>\n",
       "</table>\n",
       "</div>"
      ],
      "text/plain": [
       "       longitude  latitude  housing_median_age  total_rooms  total_bedrooms  \\\n",
       "13096    -122.42     37.80                52.0       3321.0          1115.0   \n",
       "14973    -118.38     34.14                40.0       1965.0           354.0   \n",
       "\n",
       "       population  households  median_income  median_house_value  \\\n",
       "13096      1576.0      1034.0         2.0987            458300.0   \n",
       "14973       666.0       357.0         6.0876            483800.0   \n",
       "\n",
       "      ocean_proximity  \n",
       "13096        NEAR BAY  \n",
       "14973       <1H OCEAN  "
      ]
     },
     "execution_count": 95,
     "metadata": {},
     "output_type": "execute_result"
    }
   ],
   "source": [
    "housing = strat_train_set.copy()\n",
    "housing.head(2)"
   ]
  },
  {
   "cell_type": "markdown",
   "id": "77f079fb",
   "metadata": {},
   "source": [
    "Visualizing Geographical Data\n"
   ]
  },
  {
   "cell_type": "code",
   "execution_count": 103,
   "id": "8ef530e5",
   "metadata": {},
   "outputs": [
    {
     "data": {
      "image/png": "[encoded data removed]",
      "text/plain": [
       "<Figure size 640x480 with 1 Axes>"
      ]
     },
     "metadata": {},
     "output_type": "display_data"
    }
   ],
   "source": [
    "housing.plot(kind='scatter', x='longitude', y='latitude', alpha=0.2, grid=True)\n",
    "save_fig('Housing Geographic Location')\n",
    "plt.show()"
   ]
  },
  {
   "cell_type": "markdown",
   "id": "46e62dad",
   "metadata": {},
   "source": [
    "This radius of each circle represents the district population (option s) and color represents price (option c)\n"
   ]
  },
  {
   "cell_type": "code",
   "execution_count": 105,
   "id": "b749beb4",
   "metadata": {},
   "outputs": [
    {
     "data": {
      "image/png": "[encoded data removed]",
      "text/plain": [
       "<Figure size 1000x700 with 2 Axes>"
      ]
     },
     "metadata": {},
     "output_type": "display_data"
    }
   ],
   "source": [
    "housing.plot(kind='scatter', x='longitude', y='latitude',  grid=True,\n",
    "             s= housing['population']/100, label='population', c='median_house_value',\n",
    "               cmap='jet', colorbar=True,legend=True, sharex=False, figsize=(10, 7))\n",
    "save_fig('Population D and Housing P')\n",
    "plt.show()"
   ]
  }
 ],
 "metadata": {
  "kernelspec": {
   "display_name": "env",
   "language": "python",
   "name": "python3"
  },
  "language_info": {
   "codemirror_mode": {
    "name": "ipython",
    "version": 3
   },
   "file_extension": ".py",
   "mimetype": "text/x-python",
   "name": "python",
   "nbconvert_exporter": "python",
   "pygments_lexer": "ipython3",
   "version": "3.13.1"
  }
 },
 "nbformat": 4,
 "nbformat_minor": 5
}
