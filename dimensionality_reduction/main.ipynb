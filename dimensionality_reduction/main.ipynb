{
 "cells": [
  {
   "cell_type": "code",
   "execution_count": 1,
   "id": "bb98e19e",
   "metadata": {},
   "outputs": [],
   "source": [
    "import numpy as np"
   ]
  },
  {
   "cell_type": "code",
   "execution_count": 17,
   "id": "37032ae8",
   "metadata": {},
   "outputs": [
    {
     "name": "stdout",
     "output_type": "stream",
     "text": [
      "[[-0.70710678  0.70710678  0.        ]\n",
      " [ 0.          0.          1.        ]\n",
      " [ 0.70710678  0.70710678  0.        ]] [7.34846923e+00 3.62597321e-16 0.00000000e+00] [[ 0.57735027  0.57735027  0.57735027]\n",
      " [-0.81649658  0.40824829  0.40824829]\n",
      " [ 0.         -0.70710678  0.70710678]]\n"
     ]
    }
   ],
   "source": [
    "\n",
    "X = np.array([[1,2,3],\n",
    "    [4,5,6], \n",
    "    [7,8,9]])\n",
    "\n",
    "X_centered = X - X.mean(axis=0)\n",
    "\n",
    "U, s, Vt = np.linalg.svd(X_centered)\n",
    "print(U, s, Vt)"
   ]
  }
 ],
 "metadata": {
  "kernelspec": {
   "display_name": "env",
   "language": "python",
   "name": "python3"
  },
  "language_info": {
   "codemirror_mode": {
    "name": "ipython",
    "version": 3
   },
   "file_extension": ".py",
   "mimetype": "text/x-python",
   "name": "python",
   "nbconvert_exporter": "python",
   "pygments_lexer": "ipython3",
   "version": "3.13.1"
  }
 },
 "nbformat": 4,
 "nbformat_minor": 5
}
