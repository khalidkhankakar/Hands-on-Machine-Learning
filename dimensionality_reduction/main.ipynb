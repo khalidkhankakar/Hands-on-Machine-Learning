{
 "cells": [
  {
   "cell_type": "code",
   "execution_count": 1,
   "id": "bb98e19e",
   "metadata": {},
   "outputs": [],
   "source": [
    "import numpy as np"
   ]
  },
  {
   "cell_type": "markdown",
   "id": "0c3101af",
   "metadata": {},
   "source": [
    "implementin manually PCA "
   ]
  },
  {
   "cell_type": "code",
   "execution_count": 28,
   "id": "37032ae8",
   "metadata": {},
   "outputs": [],
   "source": [
    "\n",
    "X = np.array([[1,2,3],\n",
    "    [4,5,6], \n",
    "    [7,8,9]])\n",
    "\n",
    "X_centered = X - X.mean(axis=0)\n",
    "\n",
    "U, s, Vt = np.linalg.svd(X_centered)\n"
   ]
  },
  {
   "cell_type": "markdown",
   "id": "4d1242da",
   "metadata": {},
   "source": [
    "Projecting down to d dimensions"
   ]
  },
  {
   "cell_type": "code",
   "execution_count": null,
   "id": "a3d7b331",
   "metadata": {},
   "outputs": [
    {
     "data": {
      "text/plain": [
       "array([[-5.19615242e+00, -1.33226763e-15],\n",
       "       [ 0.00000000e+00,  0.00000000e+00],\n",
       "       [ 5.19615242e+00,  1.33226763e-15]])"
      ]
     },
     "execution_count": 27,
     "metadata": {},
     "output_type": "execute_result"
    }
   ],
   "source": [
    "W2 = Vt[:2].T\n",
    "X2D = X_centered @ W2"
   ]
  },
  {
   "cell_type": "markdown",
   "id": "3049eddf",
   "metadata": {},
   "source": [
    "PCA by SK-learn"
   ]
  },
  {
   "cell_type": "code",
   "execution_count": 30,
   "id": "301a0690",
   "metadata": {},
   "outputs": [
    {
     "data": {
      "text/plain": [
       "array([[-5.19615242e+00, -2.56395025e-16],\n",
       "       [ 0.00000000e+00, -0.00000000e+00],\n",
       "       [ 5.19615242e+00, -2.56395025e-16]])"
      ]
     },
     "execution_count": 30,
     "metadata": {},
     "output_type": "execute_result"
    }
   ],
   "source": [
    "from sklearn.decomposition import PCA\n",
    "\n",
    "pca = PCA(n_components=2)\n",
    "pca.fit_transform(X)"
   ]
  }
 ],
 "metadata": {
  "kernelspec": {
   "display_name": "env",
   "language": "python",
   "name": "python3"
  },
  "language_info": {
   "codemirror_mode": {
    "name": "ipython",
    "version": 3
   },
   "file_extension": ".py",
   "mimetype": "text/x-python",
   "name": "python",
   "nbconvert_exporter": "python",
   "pygments_lexer": "ipython3",
   "version": "3.13.1"
  }
 },
 "nbformat": 4,
 "nbformat_minor": 5
}
