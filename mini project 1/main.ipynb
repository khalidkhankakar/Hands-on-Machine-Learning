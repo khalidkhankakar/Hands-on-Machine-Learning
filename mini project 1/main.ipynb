{
 "cells": [
  {
   "cell_type": "markdown",
   "id": "374f88df",
   "metadata": {},
   "source": [
    "# Insurance Data Analysis"
   ]
  },
  {
   "cell_type": "markdown",
   "id": "ab98286f",
   "metadata": {},
   "source": []
  },
  {
   "cell_type": "code",
   "execution_count": 64,
   "id": "0cbd82b0",
   "metadata": {},
   "outputs": [],
   "source": [
    "import numpy as np\n",
    "import pandas as pd\n",
    "import matplotlib.pyplot as plt\n",
    "import seaborn as sns"
   ]
  },
  {
   "cell_type": "code",
   "execution_count": 65,
   "id": "dfe5274a",
   "metadata": {},
   "outputs": [],
   "source": [
    "df = pd.read_csv('insurance.csv')"
   ]
  },
  {
   "cell_type": "markdown",
   "id": "0310516a",
   "metadata": {},
   "source": [
    "### EDA"
   ]
  },
  {
   "cell_type": "code",
   "execution_count": 66,
   "id": "e8632591",
   "metadata": {},
   "outputs": [
    {
     "data": {
      "text/plain": [
       "(1338, 7)"
      ]
     },
     "execution_count": 66,
     "metadata": {},
     "output_type": "execute_result"
    }
   ],
   "source": [
    "df.shape"
   ]
  },
  {
   "cell_type": "code",
   "execution_count": 67,
   "id": "4abff22f",
   "metadata": {},
   "outputs": [
    {
     "data": {
      "application/vnd.microsoft.datawrangler.viewer.v0+json": {
       "columns": [
        {
         "name": "index",
         "rawType": "int64",
         "type": "integer"
        },
        {
         "name": "age",
         "rawType": "int64",
         "type": "integer"
        },
        {
         "name": "sex",
         "rawType": "object",
         "type": "string"
        },
        {
         "name": "bmi",
         "rawType": "float64",
         "type": "float"
        },
        {
         "name": "children",
         "rawType": "int64",
         "type": "integer"
        },
        {
         "name": "smoker",
         "rawType": "object",
         "type": "string"
        },
        {
         "name": "region",
         "rawType": "object",
         "type": "string"
        },
        {
         "name": "charges",
         "rawType": "float64",
         "type": "float"
        }
       ],
       "ref": "034ce6ce-c0df-476e-bbe3-e72c0026802f",
       "rows": [
        [
         "0",
         "19",
         "female",
         "27.9",
         "0",
         "yes",
         "southwest",
         "16884.924"
        ],
        [
         "1",
         "18",
         "male",
         "33.77",
         "1",
         "no",
         "southeast",
         "1725.5523"
        ],
        [
         "2",
         "28",
         "male",
         "33.0",
         "3",
         "no",
         "southeast",
         "4449.462"
        ],
        [
         "3",
         "33",
         "male",
         "22.705",
         "0",
         "no",
         "northwest",
         "21984.47061"
        ],
        [
         "4",
         "32",
         "male",
         "28.88",
         "0",
         "no",
         "northwest",
         "3866.8552"
        ]
       ],
       "shape": {
        "columns": 7,
        "rows": 5
       }
      },
      "text/html": [
       "<div>\n",
       "<style scoped>\n",
       "    .dataframe tbody tr th:only-of-type {\n",
       "        vertical-align: middle;\n",
       "    }\n",
       "\n",
       "    .dataframe tbody tr th {\n",
       "        vertical-align: top;\n",
       "    }\n",
       "\n",
       "    .dataframe thead th {\n",
       "        text-align: right;\n",
       "    }\n",
       "</style>\n",
       "<table border=\"1\" class=\"dataframe\">\n",
       "  <thead>\n",
       "    <tr style=\"text-align: right;\">\n",
       "      <th></th>\n",
       "      <th>age</th>\n",
       "      <th>sex</th>\n",
       "      <th>bmi</th>\n",
       "      <th>children</th>\n",
       "      <th>smoker</th>\n",
       "      <th>region</th>\n",
       "      <th>charges</th>\n",
       "    </tr>\n",
       "  </thead>\n",
       "  <tbody>\n",
       "    <tr>\n",
       "      <th>0</th>\n",
       "      <td>19</td>\n",
       "      <td>female</td>\n",
       "      <td>27.900</td>\n",
       "      <td>0</td>\n",
       "      <td>yes</td>\n",
       "      <td>southwest</td>\n",
       "      <td>16884.92400</td>\n",
       "    </tr>\n",
       "    <tr>\n",
       "      <th>1</th>\n",
       "      <td>18</td>\n",
       "      <td>male</td>\n",
       "      <td>33.770</td>\n",
       "      <td>1</td>\n",
       "      <td>no</td>\n",
       "      <td>southeast</td>\n",
       "      <td>1725.55230</td>\n",
       "    </tr>\n",
       "    <tr>\n",
       "      <th>2</th>\n",
       "      <td>28</td>\n",
       "      <td>male</td>\n",
       "      <td>33.000</td>\n",
       "      <td>3</td>\n",
       "      <td>no</td>\n",
       "      <td>southeast</td>\n",
       "      <td>4449.46200</td>\n",
       "    </tr>\n",
       "    <tr>\n",
       "      <th>3</th>\n",
       "      <td>33</td>\n",
       "      <td>male</td>\n",
       "      <td>22.705</td>\n",
       "      <td>0</td>\n",
       "      <td>no</td>\n",
       "      <td>northwest</td>\n",
       "      <td>21984.47061</td>\n",
       "    </tr>\n",
       "    <tr>\n",
       "      <th>4</th>\n",
       "      <td>32</td>\n",
       "      <td>male</td>\n",
       "      <td>28.880</td>\n",
       "      <td>0</td>\n",
       "      <td>no</td>\n",
       "      <td>northwest</td>\n",
       "      <td>3866.85520</td>\n",
       "    </tr>\n",
       "  </tbody>\n",
       "</table>\n",
       "</div>"
      ],
      "text/plain": [
       "   age     sex     bmi  children smoker     region      charges\n",
       "0   19  female  27.900         0    yes  southwest  16884.92400\n",
       "1   18    male  33.770         1     no  southeast   1725.55230\n",
       "2   28    male  33.000         3     no  southeast   4449.46200\n",
       "3   33    male  22.705         0     no  northwest  21984.47061\n",
       "4   32    male  28.880         0     no  northwest   3866.85520"
      ]
     },
     "execution_count": 67,
     "metadata": {},
     "output_type": "execute_result"
    }
   ],
   "source": [
    "df.head()"
   ]
  },
  {
   "cell_type": "code",
   "execution_count": 68,
   "id": "ba73e5f1",
   "metadata": {},
   "outputs": [
    {
     "name": "stdout",
     "output_type": "stream",
     "text": [
      "<class 'pandas.core.frame.DataFrame'>\n",
      "RangeIndex: 1338 entries, 0 to 1337\n",
      "Data columns (total 7 columns):\n",
      " #   Column    Non-Null Count  Dtype  \n",
      "---  ------    --------------  -----  \n",
      " 0   age       1338 non-null   int64  \n",
      " 1   sex       1338 non-null   object \n",
      " 2   bmi       1338 non-null   float64\n",
      " 3   children  1338 non-null   int64  \n",
      " 4   smoker    1338 non-null   object \n",
      " 5   region    1338 non-null   object \n",
      " 6   charges   1338 non-null   float64\n",
      "dtypes: float64(2), int64(2), object(3)\n",
      "memory usage: 73.3+ KB\n"
     ]
    }
   ],
   "source": [
    "df.info()"
   ]
  },
  {
   "cell_type": "code",
   "execution_count": 69,
   "id": "969cf2b9",
   "metadata": {},
   "outputs": [
    {
     "data": {
      "application/vnd.microsoft.datawrangler.viewer.v0+json": {
       "columns": [
        {
         "name": "index",
         "rawType": "object",
         "type": "string"
        },
        {
         "name": "age",
         "rawType": "float64",
         "type": "float"
        },
        {
         "name": "bmi",
         "rawType": "float64",
         "type": "float"
        },
        {
         "name": "children",
         "rawType": "float64",
         "type": "float"
        },
        {
         "name": "charges",
         "rawType": "float64",
         "type": "float"
        }
       ],
       "ref": "a47ac495-71e8-482b-b1ad-9d3c7b904c82",
       "rows": [
        [
         "count",
         "1338.0",
         "1338.0",
         "1338.0",
         "1338.0"
        ],
        [
         "mean",
         "39.20702541106129",
         "30.66339686098655",
         "1.0949177877429",
         "13270.422265141257"
        ],
        [
         "std",
         "14.049960379216154",
         "6.098186911679014",
         "1.205492739781914",
         "12110.011236694001"
        ],
        [
         "min",
         "18.0",
         "15.96",
         "0.0",
         "1121.8739"
        ],
        [
         "25%",
         "27.0",
         "26.29625",
         "0.0",
         "4740.28715"
        ],
        [
         "50%",
         "39.0",
         "30.4",
         "1.0",
         "9382.033"
        ],
        [
         "75%",
         "51.0",
         "34.69375",
         "2.0",
         "16639.912515"
        ],
        [
         "max",
         "64.0",
         "53.13",
         "5.0",
         "63770.42801"
        ]
       ],
       "shape": {
        "columns": 4,
        "rows": 8
       }
      },
      "text/html": [
       "<div>\n",
       "<style scoped>\n",
       "    .dataframe tbody tr th:only-of-type {\n",
       "        vertical-align: middle;\n",
       "    }\n",
       "\n",
       "    .dataframe tbody tr th {\n",
       "        vertical-align: top;\n",
       "    }\n",
       "\n",
       "    .dataframe thead th {\n",
       "        text-align: right;\n",
       "    }\n",
       "</style>\n",
       "<table border=\"1\" class=\"dataframe\">\n",
       "  <thead>\n",
       "    <tr style=\"text-align: right;\">\n",
       "      <th></th>\n",
       "      <th>age</th>\n",
       "      <th>bmi</th>\n",
       "      <th>children</th>\n",
       "      <th>charges</th>\n",
       "    </tr>\n",
       "  </thead>\n",
       "  <tbody>\n",
       "    <tr>\n",
       "      <th>count</th>\n",
       "      <td>1338.000000</td>\n",
       "      <td>1338.000000</td>\n",
       "      <td>1338.000000</td>\n",
       "      <td>1338.000000</td>\n",
       "    </tr>\n",
       "    <tr>\n",
       "      <th>mean</th>\n",
       "      <td>39.207025</td>\n",
       "      <td>30.663397</td>\n",
       "      <td>1.094918</td>\n",
       "      <td>13270.422265</td>\n",
       "    </tr>\n",
       "    <tr>\n",
       "      <th>std</th>\n",
       "      <td>14.049960</td>\n",
       "      <td>6.098187</td>\n",
       "      <td>1.205493</td>\n",
       "      <td>12110.011237</td>\n",
       "    </tr>\n",
       "    <tr>\n",
       "      <th>min</th>\n",
       "      <td>18.000000</td>\n",
       "      <td>15.960000</td>\n",
       "      <td>0.000000</td>\n",
       "      <td>1121.873900</td>\n",
       "    </tr>\n",
       "    <tr>\n",
       "      <th>25%</th>\n",
       "      <td>27.000000</td>\n",
       "      <td>26.296250</td>\n",
       "      <td>0.000000</td>\n",
       "      <td>4740.287150</td>\n",
       "    </tr>\n",
       "    <tr>\n",
       "      <th>50%</th>\n",
       "      <td>39.000000</td>\n",
       "      <td>30.400000</td>\n",
       "      <td>1.000000</td>\n",
       "      <td>9382.033000</td>\n",
       "    </tr>\n",
       "    <tr>\n",
       "      <th>75%</th>\n",
       "      <td>51.000000</td>\n",
       "      <td>34.693750</td>\n",
       "      <td>2.000000</td>\n",
       "      <td>16639.912515</td>\n",
       "    </tr>\n",
       "    <tr>\n",
       "      <th>max</th>\n",
       "      <td>64.000000</td>\n",
       "      <td>53.130000</td>\n",
       "      <td>5.000000</td>\n",
       "      <td>63770.428010</td>\n",
       "    </tr>\n",
       "  </tbody>\n",
       "</table>\n",
       "</div>"
      ],
      "text/plain": [
       "               age          bmi     children       charges\n",
       "count  1338.000000  1338.000000  1338.000000   1338.000000\n",
       "mean     39.207025    30.663397     1.094918  13270.422265\n",
       "std      14.049960     6.098187     1.205493  12110.011237\n",
       "min      18.000000    15.960000     0.000000   1121.873900\n",
       "25%      27.000000    26.296250     0.000000   4740.287150\n",
       "50%      39.000000    30.400000     1.000000   9382.033000\n",
       "75%      51.000000    34.693750     2.000000  16639.912515\n",
       "max      64.000000    53.130000     5.000000  63770.428010"
      ]
     },
     "execution_count": 69,
     "metadata": {},
     "output_type": "execute_result"
    }
   ],
   "source": [
    "df.describe()"
   ]
  },
  {
   "cell_type": "code",
   "execution_count": 70,
   "id": "ed9baa8e",
   "metadata": {},
   "outputs": [
    {
     "data": {
      "application/vnd.microsoft.datawrangler.viewer.v0+json": {
       "columns": [
        {
         "name": "index",
         "rawType": "object",
         "type": "string"
        },
        {
         "name": "0",
         "rawType": "int64",
         "type": "integer"
        }
       ],
       "ref": "1411bab5-7abc-4145-a0bd-ac20f47976c2",
       "rows": [
        [
         "age",
         "0"
        ],
        [
         "sex",
         "0"
        ],
        [
         "bmi",
         "0"
        ],
        [
         "children",
         "0"
        ],
        [
         "smoker",
         "0"
        ],
        [
         "region",
         "0"
        ],
        [
         "charges",
         "0"
        ]
       ],
       "shape": {
        "columns": 1,
        "rows": 7
       }
      },
      "text/plain": [
       "age         0\n",
       "sex         0\n",
       "bmi         0\n",
       "children    0\n",
       "smoker      0\n",
       "region      0\n",
       "charges     0\n",
       "dtype: int64"
      ]
     },
     "execution_count": 70,
     "metadata": {},
     "output_type": "execute_result"
    }
   ],
   "source": [
    "df.isnull().sum()"
   ]
  },
  {
   "cell_type": "code",
   "execution_count": 71,
   "id": "c42e2aaa",
   "metadata": {},
   "outputs": [
    {
     "data": {
      "text/plain": [
       "Index(['age', 'sex', 'bmi', 'children', 'smoker', 'region', 'charges'], dtype='object')"
      ]
     },
     "execution_count": 71,
     "metadata": {},
     "output_type": "execute_result"
    }
   ],
   "source": [
    "df.columns"
   ]
  },
  {
   "cell_type": "code",
   "execution_count": 72,
   "id": "41067a6e",
   "metadata": {},
   "outputs": [
    {
     "data": {
      "image/png": "[encoded data removed]",
      "text/plain": [
       "<Figure size 800x600 with 1 Axes>"
      ]
     },
     "metadata": {},
     "output_type": "display_data"
    },
    {
     "data": {
      "image/png": "[encoded data removed]",
      "text/plain": [
       "<Figure size 800x600 with 1 Axes>"
      ]
     },
     "metadata": {},
     "output_type": "display_data"
    },
    {
     "data": {
      "image/png": "[encoded data removed]",
      "text/plain": [
       "<Figure size 800x600 with 1 Axes>"
      ]
     },
     "metadata": {},
     "output_type": "display_data"
    },
    {
     "data": {
      "image/png": "[encoded data removed]",
      "text/plain": [
       "<Figure size 800x600 with 1 Axes>"
      ]
     },
     "metadata": {},
     "output_type": "display_data"
    }
   ],
   "source": [
    "nums_columns = ['age', 'bmi', 'children', 'charges']\n",
    "\n",
    "for col in nums_columns:\n",
    "    plt.figure(figsize=(8,6))\n",
    "    sns.histplot(df[col], bins=20, edgecolor='black', kde=True)\n",
    "    plt.show()\n"
   ]
  },
  {
   "cell_type": "code",
   "execution_count": 73,
   "id": "9175b3ad",
   "metadata": {},
   "outputs": [
    {
     "data": {
      "image/png": "[encoded data removed]",
      "text/plain": [
       "<Figure size 800x600 with 1 Axes>"
      ]
     },
     "metadata": {},
     "output_type": "display_data"
    },
    {
     "data": {
      "image/png": "[encoded data removed]",
      "text/plain": [
       "<Figure size 800x600 with 1 Axes>"
      ]
     },
     "metadata": {},
     "output_type": "display_data"
    },
    {
     "data": {
      "image/png": "[encoded data removed]",
      "text/plain": [
       "<Figure size 800x600 with 1 Axes>"
      ]
     },
     "metadata": {},
     "output_type": "display_data"
    }
   ],
   "source": [
    "cat_columns = ['sex', 'smoker', 'region']\n",
    "for col in cat_columns:\n",
    "    plt.figure(figsize=(8,6))\n",
    "    sns.countplot(x=df[col])"
   ]
  },
  {
   "cell_type": "code",
   "execution_count": 74,
   "id": "a3023e90",
   "metadata": {},
   "outputs": [
    {
     "data": {
      "image/png": "[encoded data removed]",
      "text/plain": [
       "<Figure size 800x600 with 1 Axes>"
      ]
     },
     "metadata": {},
     "output_type": "display_data"
    },
    {
     "data": {
      "image/png": "[encoded data removed]",
      "text/plain": [
       "<Figure size 800x600 with 1 Axes>"
      ]
     },
     "metadata": {},
     "output_type": "display_data"
    },
    {
     "data": {
      "image/png": "[encoded data removed]",
      "text/plain": [
       "<Figure size 800x600 with 1 Axes>"
      ]
     },
     "metadata": {},
     "output_type": "display_data"
    },
    {
     "data": {
      "image/png": "[encoded data removed]",
      "text/plain": [
       "<Figure size 800x600 with 1 Axes>"
      ]
     },
     "metadata": {},
     "output_type": "display_data"
    }
   ],
   "source": [
    "for col in nums_columns:\n",
    "    plt.figure(figsize=(8,6))\n",
    "    sns.boxplot(df[col])"
   ]
  },
  {
   "cell_type": "markdown",
   "id": "6581e8ef",
   "metadata": {},
   "source": [
    "### Data cleaning and Preprocessing"
   ]
  },
  {
   "cell_type": "code",
   "execution_count": 75,
   "id": "4d8acb7d",
   "metadata": {},
   "outputs": [
    {
     "data": {
      "text/plain": [
       "(1338, 7)"
      ]
     },
     "execution_count": 75,
     "metadata": {},
     "output_type": "execute_result"
    }
   ],
   "source": [
    "new_df = df.copy()\n",
    "new_df.shape"
   ]
  },
  {
   "cell_type": "code",
   "execution_count": 76,
   "id": "cbc0443d",
   "metadata": {},
   "outputs": [
    {
     "data": {
      "text/plain": [
       "(1337, 7)"
      ]
     },
     "execution_count": 76,
     "metadata": {},
     "output_type": "execute_result"
    }
   ],
   "source": [
    "new_df.drop_duplicates(inplace=True)\n",
    "new_df.shape"
   ]
  },
  {
   "cell_type": "code",
   "execution_count": 77,
   "id": "d1c46bf7",
   "metadata": {},
   "outputs": [
    {
     "data": {
      "application/vnd.microsoft.datawrangler.viewer.v0+json": {
       "columns": [
        {
         "name": "sex",
         "rawType": "object",
         "type": "string"
        },
        {
         "name": "count",
         "rawType": "int64",
         "type": "integer"
        }
       ],
       "ref": "9bf8a819-0bec-4b3d-a24f-3cf8945f25d8",
       "rows": [
        [
         "male",
         "675"
        ],
        [
         "female",
         "662"
        ]
       ],
       "shape": {
        "columns": 1,
        "rows": 2
       }
      },
      "text/plain": [
       "sex\n",
       "male      675\n",
       "female    662\n",
       "Name: count, dtype: int64"
      ]
     },
     "execution_count": 77,
     "metadata": {},
     "output_type": "execute_result"
    }
   ],
   "source": [
    "new_df['sex'].value_counts()"
   ]
  },
  {
   "cell_type": "markdown",
   "id": "c932a414",
   "metadata": {},
   "source": [
    "#### Convert the all qualitative variables into numaric variables"
   ]
  },
  {
   "cell_type": "code",
   "execution_count": 78,
   "id": "7f9fa6cf",
   "metadata": {},
   "outputs": [],
   "source": [
    "new_df['sex']= new_df['sex'].map({'male':1, 'female':0})"
   ]
  },
  {
   "cell_type": "code",
   "execution_count": 79,
   "id": "92429937",
   "metadata": {},
   "outputs": [],
   "source": [
    "new_df['smoker']= new_df['smoker'].map({'yes':1, 'no':0})"
   ]
  },
  {
   "cell_type": "code",
   "execution_count": 80,
   "id": "f00286ec",
   "metadata": {},
   "outputs": [
    {
     "data": {
      "application/vnd.microsoft.datawrangler.viewer.v0+json": {
       "columns": [
        {
         "name": "index",
         "rawType": "int64",
         "type": "integer"
        },
        {
         "name": "age",
         "rawType": "int64",
         "type": "integer"
        },
        {
         "name": "is_male",
         "rawType": "int64",
         "type": "integer"
        },
        {
         "name": "bmi",
         "rawType": "float64",
         "type": "float"
        },
        {
         "name": "children",
         "rawType": "int64",
         "type": "integer"
        },
        {
         "name": "is_smoker",
         "rawType": "int64",
         "type": "integer"
        },
        {
         "name": "region",
         "rawType": "object",
         "type": "string"
        },
        {
         "name": "charges",
         "rawType": "float64",
         "type": "float"
        }
       ],
       "ref": "a7f041ed-b262-4371-ba32-c0509ac54f7b",
       "rows": [
        [
         "0",
         "19",
         "0",
         "27.9",
         "0",
         "1",
         "southwest",
         "16884.924"
        ],
        [
         "1",
         "18",
         "1",
         "33.77",
         "1",
         "0",
         "southeast",
         "1725.5523"
        ],
        [
         "2",
         "28",
         "1",
         "33.0",
         "3",
         "0",
         "southeast",
         "4449.462"
        ],
        [
         "3",
         "33",
         "1",
         "22.705",
         "0",
         "0",
         "northwest",
         "21984.47061"
        ],
        [
         "4",
         "32",
         "1",
         "28.88",
         "0",
         "0",
         "northwest",
         "3866.8552"
        ]
       ],
       "shape": {
        "columns": 7,
        "rows": 5
       }
      },
      "text/html": [
       "<div>\n",
       "<style scoped>\n",
       "    .dataframe tbody tr th:only-of-type {\n",
       "        vertical-align: middle;\n",
       "    }\n",
       "\n",
       "    .dataframe tbody tr th {\n",
       "        vertical-align: top;\n",
       "    }\n",
       "\n",
       "    .dataframe thead th {\n",
       "        text-align: right;\n",
       "    }\n",
       "</style>\n",
       "<table border=\"1\" class=\"dataframe\">\n",
       "  <thead>\n",
       "    <tr style=\"text-align: right;\">\n",
       "      <th></th>\n",
       "      <th>age</th>\n",
       "      <th>is_male</th>\n",
       "      <th>bmi</th>\n",
       "      <th>children</th>\n",
       "      <th>is_smoker</th>\n",
       "      <th>region</th>\n",
       "      <th>charges</th>\n",
       "    </tr>\n",
       "  </thead>\n",
       "  <tbody>\n",
       "    <tr>\n",
       "      <th>0</th>\n",
       "      <td>19</td>\n",
       "      <td>0</td>\n",
       "      <td>27.900</td>\n",
       "      <td>0</td>\n",
       "      <td>1</td>\n",
       "      <td>southwest</td>\n",
       "      <td>16884.92400</td>\n",
       "    </tr>\n",
       "    <tr>\n",
       "      <th>1</th>\n",
       "      <td>18</td>\n",
       "      <td>1</td>\n",
       "      <td>33.770</td>\n",
       "      <td>1</td>\n",
       "      <td>0</td>\n",
       "      <td>southeast</td>\n",
       "      <td>1725.55230</td>\n",
       "    </tr>\n",
       "    <tr>\n",
       "      <th>2</th>\n",
       "      <td>28</td>\n",
       "      <td>1</td>\n",
       "      <td>33.000</td>\n",
       "      <td>3</td>\n",
       "      <td>0</td>\n",
       "      <td>southeast</td>\n",
       "      <td>4449.46200</td>\n",
       "    </tr>\n",
       "    <tr>\n",
       "      <th>3</th>\n",
       "      <td>33</td>\n",
       "      <td>1</td>\n",
       "      <td>22.705</td>\n",
       "      <td>0</td>\n",
       "      <td>0</td>\n",
       "      <td>northwest</td>\n",
       "      <td>21984.47061</td>\n",
       "    </tr>\n",
       "    <tr>\n",
       "      <th>4</th>\n",
       "      <td>32</td>\n",
       "      <td>1</td>\n",
       "      <td>28.880</td>\n",
       "      <td>0</td>\n",
       "      <td>0</td>\n",
       "      <td>northwest</td>\n",
       "      <td>3866.85520</td>\n",
       "    </tr>\n",
       "  </tbody>\n",
       "</table>\n",
       "</div>"
      ],
      "text/plain": [
       "   age  is_male     bmi  children  is_smoker     region      charges\n",
       "0   19        0  27.900         0          1  southwest  16884.92400\n",
       "1   18        1  33.770         1          0  southeast   1725.55230\n",
       "2   28        1  33.000         3          0  southeast   4449.46200\n",
       "3   33        1  22.705         0          0  northwest  21984.47061\n",
       "4   32        1  28.880         0          0  northwest   3866.85520"
      ]
     },
     "execution_count": 80,
     "metadata": {},
     "output_type": "execute_result"
    }
   ],
   "source": [
    "new_df.rename(columns={\n",
    "    'sex':'is_male',\n",
    "    'smoker':'is_smoker'\n",
    "}, inplace=True)\n",
    "new_df.head()"
   ]
  },
  {
   "cell_type": "markdown",
   "id": "52110028",
   "metadata": {},
   "source": [
    "#### Implement One hot encoding for region"
   ]
  },
  {
   "cell_type": "code",
   "execution_count": 81,
   "id": "102f376e",
   "metadata": {},
   "outputs": [],
   "source": [
    "new_df = pd.get_dummies(\n",
    "    new_df,\n",
    "    columns=['region'],\n",
    "      drop_first=True\n",
    ")"
   ]
  },
  {
   "cell_type": "code",
   "execution_count": 82,
   "id": "5698522e",
   "metadata": {},
   "outputs": [
    {
     "data": {
      "application/vnd.microsoft.datawrangler.viewer.v0+json": {
       "columns": [
        {
         "name": "index",
         "rawType": "int64",
         "type": "integer"
        },
        {
         "name": "age",
         "rawType": "int64",
         "type": "integer"
        },
        {
         "name": "is_male",
         "rawType": "int64",
         "type": "integer"
        },
        {
         "name": "bmi",
         "rawType": "int64",
         "type": "integer"
        },
        {
         "name": "children",
         "rawType": "int64",
         "type": "integer"
        },
        {
         "name": "is_smoker",
         "rawType": "int64",
         "type": "integer"
        },
        {
         "name": "charges",
         "rawType": "int64",
         "type": "integer"
        },
        {
         "name": "region_northwest",
         "rawType": "int64",
         "type": "integer"
        },
        {
         "name": "region_southeast",
         "rawType": "int64",
         "type": "integer"
        },
        {
         "name": "region_southwest",
         "rawType": "int64",
         "type": "integer"
        }
       ],
       "ref": "54e8559f-ef51-46cb-bfc6-ce7a65aeee92",
       "rows": [
        [
         "0",
         "19",
         "0",
         "27",
         "0",
         "1",
         "16884",
         "0",
         "0",
         "1"
        ],
        [
         "1",
         "18",
         "1",
         "33",
         "1",
         "0",
         "1725",
         "0",
         "1",
         "0"
        ],
        [
         "2",
         "28",
         "1",
         "33",
         "3",
         "0",
         "4449",
         "0",
         "1",
         "0"
        ],
        [
         "3",
         "33",
         "1",
         "22",
         "0",
         "0",
         "21984",
         "1",
         "0",
         "0"
        ],
        [
         "4",
         "32",
         "1",
         "28",
         "0",
         "0",
         "3866",
         "1",
         "0",
         "0"
        ],
        [
         "5",
         "31",
         "0",
         "25",
         "0",
         "0",
         "3756",
         "0",
         "1",
         "0"
        ],
        [
         "6",
         "46",
         "0",
         "33",
         "1",
         "0",
         "8240",
         "0",
         "1",
         "0"
        ],
        [
         "7",
         "37",
         "0",
         "27",
         "3",
         "0",
         "7281",
         "1",
         "0",
         "0"
        ],
        [
         "8",
         "37",
         "1",
         "29",
         "2",
         "0",
         "6406",
         "0",
         "0",
         "0"
        ],
        [
         "9",
         "60",
         "0",
         "25",
         "0",
         "0",
         "28923",
         "1",
         "0",
         "0"
        ],
        [
         "10",
         "25",
         "1",
         "26",
         "0",
         "0",
         "2721",
         "0",
         "0",
         "0"
        ],
        [
         "11",
         "62",
         "0",
         "26",
         "0",
         "1",
         "27808",
         "0",
         "1",
         "0"
        ],
        [
         "12",
         "23",
         "1",
         "34",
         "0",
         "0",
         "1826",
         "0",
         "0",
         "1"
        ],
        [
         "13",
         "56",
         "0",
         "39",
         "0",
         "0",
         "11090",
         "0",
         "1",
         "0"
        ],
        [
         "14",
         "27",
         "1",
         "42",
         "0",
         "1",
         "39611",
         "0",
         "1",
         "0"
        ],
        [
         "15",
         "19",
         "1",
         "24",
         "1",
         "0",
         "1837",
         "0",
         "0",
         "1"
        ],
        [
         "16",
         "52",
         "0",
         "30",
         "1",
         "0",
         "10797",
         "0",
         "0",
         "0"
        ],
        [
         "17",
         "23",
         "1",
         "23",
         "0",
         "0",
         "2395",
         "0",
         "0",
         "0"
        ],
        [
         "18",
         "56",
         "1",
         "40",
         "0",
         "0",
         "10602",
         "0",
         "0",
         "1"
        ],
        [
         "19",
         "30",
         "1",
         "35",
         "0",
         "1",
         "36837",
         "0",
         "0",
         "1"
        ],
        [
         "20",
         "60",
         "0",
         "36",
         "0",
         "0",
         "13228",
         "0",
         "0",
         "0"
        ],
        [
         "21",
         "30",
         "0",
         "32",
         "1",
         "0",
         "4149",
         "0",
         "0",
         "1"
        ],
        [
         "22",
         "18",
         "1",
         "34",
         "0",
         "0",
         "1137",
         "0",
         "1",
         "0"
        ],
        [
         "23",
         "34",
         "0",
         "31",
         "1",
         "1",
         "37701",
         "0",
         "0",
         "0"
        ],
        [
         "24",
         "37",
         "1",
         "28",
         "2",
         "0",
         "6203",
         "1",
         "0",
         "0"
        ],
        [
         "25",
         "59",
         "0",
         "27",
         "3",
         "0",
         "14001",
         "0",
         "1",
         "0"
        ],
        [
         "26",
         "63",
         "0",
         "23",
         "0",
         "0",
         "14451",
         "0",
         "0",
         "0"
        ],
        [
         "27",
         "55",
         "0",
         "32",
         "2",
         "0",
         "12268",
         "1",
         "0",
         "0"
        ],
        [
         "28",
         "23",
         "1",
         "17",
         "1",
         "0",
         "2775",
         "1",
         "0",
         "0"
        ],
        [
         "29",
         "31",
         "1",
         "36",
         "2",
         "1",
         "38711",
         "0",
         "0",
         "1"
        ],
        [
         "30",
         "22",
         "1",
         "35",
         "0",
         "1",
         "35585",
         "0",
         "0",
         "1"
        ],
        [
         "31",
         "18",
         "0",
         "26",
         "0",
         "0",
         "2198",
         "0",
         "0",
         "0"
        ],
        [
         "32",
         "19",
         "0",
         "28",
         "5",
         "0",
         "4687",
         "0",
         "0",
         "1"
        ],
        [
         "33",
         "63",
         "1",
         "28",
         "0",
         "0",
         "13770",
         "1",
         "0",
         "0"
        ],
        [
         "34",
         "28",
         "1",
         "36",
         "1",
         "1",
         "51194",
         "0",
         "0",
         "1"
        ],
        [
         "35",
         "19",
         "1",
         "20",
         "0",
         "0",
         "1625",
         "1",
         "0",
         "0"
        ],
        [
         "36",
         "62",
         "0",
         "32",
         "3",
         "0",
         "15612",
         "1",
         "0",
         "0"
        ],
        [
         "37",
         "26",
         "1",
         "20",
         "0",
         "0",
         "2302",
         "0",
         "0",
         "1"
        ],
        [
         "38",
         "35",
         "1",
         "36",
         "1",
         "1",
         "39774",
         "0",
         "0",
         "0"
        ],
        [
         "39",
         "60",
         "1",
         "39",
         "0",
         "1",
         "48173",
         "0",
         "0",
         "1"
        ],
        [
         "40",
         "24",
         "0",
         "26",
         "0",
         "0",
         "3046",
         "0",
         "0",
         "0"
        ],
        [
         "41",
         "31",
         "0",
         "36",
         "2",
         "0",
         "4949",
         "0",
         "1",
         "0"
        ],
        [
         "42",
         "41",
         "1",
         "21",
         "1",
         "0",
         "6272",
         "0",
         "1",
         "0"
        ],
        [
         "43",
         "37",
         "0",
         "30",
         "2",
         "0",
         "6313",
         "0",
         "1",
         "0"
        ],
        [
         "44",
         "38",
         "1",
         "37",
         "1",
         "0",
         "6079",
         "0",
         "0",
         "0"
        ],
        [
         "45",
         "55",
         "1",
         "37",
         "0",
         "0",
         "20630",
         "0",
         "0",
         "1"
        ],
        [
         "46",
         "18",
         "0",
         "38",
         "2",
         "0",
         "3393",
         "0",
         "0",
         "0"
        ],
        [
         "47",
         "28",
         "0",
         "34",
         "0",
         "0",
         "3556",
         "1",
         "0",
         "0"
        ],
        [
         "48",
         "60",
         "0",
         "24",
         "0",
         "0",
         "12629",
         "0",
         "1",
         "0"
        ],
        [
         "49",
         "36",
         "1",
         "35",
         "1",
         "1",
         "38709",
         "0",
         "1",
         "0"
        ]
       ],
       "shape": {
        "columns": 9,
        "rows": 1337
       }
      },
      "text/html": [
       "<div>\n",
       "<style scoped>\n",
       "    .dataframe tbody tr th:only-of-type {\n",
       "        vertical-align: middle;\n",
       "    }\n",
       "\n",
       "    .dataframe tbody tr th {\n",
       "        vertical-align: top;\n",
       "    }\n",
       "\n",
       "    .dataframe thead th {\n",
       "        text-align: right;\n",
       "    }\n",
       "</style>\n",
       "<table border=\"1\" class=\"dataframe\">\n",
       "  <thead>\n",
       "    <tr style=\"text-align: right;\">\n",
       "      <th></th>\n",
       "      <th>age</th>\n",
       "      <th>is_male</th>\n",
       "      <th>bmi</th>\n",
       "      <th>children</th>\n",
       "      <th>is_smoker</th>\n",
       "      <th>charges</th>\n",
       "      <th>region_northwest</th>\n",
       "      <th>region_southeast</th>\n",
       "      <th>region_southwest</th>\n",
       "    </tr>\n",
       "  </thead>\n",
       "  <tbody>\n",
       "    <tr>\n",
       "      <th>0</th>\n",
       "      <td>19</td>\n",
       "      <td>0</td>\n",
       "      <td>27</td>\n",
       "      <td>0</td>\n",
       "      <td>1</td>\n",
       "      <td>16884</td>\n",
       "      <td>0</td>\n",
       "      <td>0</td>\n",
       "      <td>1</td>\n",
       "    </tr>\n",
       "    <tr>\n",
       "      <th>1</th>\n",
       "      <td>18</td>\n",
       "      <td>1</td>\n",
       "      <td>33</td>\n",
       "      <td>1</td>\n",
       "      <td>0</td>\n",
       "      <td>1725</td>\n",
       "      <td>0</td>\n",
       "      <td>1</td>\n",
       "      <td>0</td>\n",
       "    </tr>\n",
       "    <tr>\n",
       "      <th>2</th>\n",
       "      <td>28</td>\n",
       "      <td>1</td>\n",
       "      <td>33</td>\n",
       "      <td>3</td>\n",
       "      <td>0</td>\n",
       "      <td>4449</td>\n",
       "      <td>0</td>\n",
       "      <td>1</td>\n",
       "      <td>0</td>\n",
       "    </tr>\n",
       "    <tr>\n",
       "      <th>3</th>\n",
       "      <td>33</td>\n",
       "      <td>1</td>\n",
       "      <td>22</td>\n",
       "      <td>0</td>\n",
       "      <td>0</td>\n",
       "      <td>21984</td>\n",
       "      <td>1</td>\n",
       "      <td>0</td>\n",
       "      <td>0</td>\n",
       "    </tr>\n",
       "    <tr>\n",
       "      <th>4</th>\n",
       "      <td>32</td>\n",
       "      <td>1</td>\n",
       "      <td>28</td>\n",
       "      <td>0</td>\n",
       "      <td>0</td>\n",
       "      <td>3866</td>\n",
       "      <td>1</td>\n",
       "      <td>0</td>\n",
       "      <td>0</td>\n",
       "    </tr>\n",
       "    <tr>\n",
       "      <th>...</th>\n",
       "      <td>...</td>\n",
       "      <td>...</td>\n",
       "      <td>...</td>\n",
       "      <td>...</td>\n",
       "      <td>...</td>\n",
       "      <td>...</td>\n",
       "      <td>...</td>\n",
       "      <td>...</td>\n",
       "      <td>...</td>\n",
       "    </tr>\n",
       "    <tr>\n",
       "      <th>1333</th>\n",
       "      <td>50</td>\n",
       "      <td>1</td>\n",
       "      <td>30</td>\n",
       "      <td>3</td>\n",
       "      <td>0</td>\n",
       "      <td>10600</td>\n",
       "      <td>1</td>\n",
       "      <td>0</td>\n",
       "      <td>0</td>\n",
       "    </tr>\n",
       "    <tr>\n",
       "      <th>1334</th>\n",
       "      <td>18</td>\n",
       "      <td>0</td>\n",
       "      <td>31</td>\n",
       "      <td>0</td>\n",
       "      <td>0</td>\n",
       "      <td>2205</td>\n",
       "      <td>0</td>\n",
       "      <td>0</td>\n",
       "      <td>0</td>\n",
       "    </tr>\n",
       "    <tr>\n",
       "      <th>1335</th>\n",
       "      <td>18</td>\n",
       "      <td>0</td>\n",
       "      <td>36</td>\n",
       "      <td>0</td>\n",
       "      <td>0</td>\n",
       "      <td>1629</td>\n",
       "      <td>0</td>\n",
       "      <td>1</td>\n",
       "      <td>0</td>\n",
       "    </tr>\n",
       "    <tr>\n",
       "      <th>1336</th>\n",
       "      <td>21</td>\n",
       "      <td>0</td>\n",
       "      <td>25</td>\n",
       "      <td>0</td>\n",
       "      <td>0</td>\n",
       "      <td>2007</td>\n",
       "      <td>0</td>\n",
       "      <td>0</td>\n",
       "      <td>1</td>\n",
       "    </tr>\n",
       "    <tr>\n",
       "      <th>1337</th>\n",
       "      <td>61</td>\n",
       "      <td>0</td>\n",
       "      <td>29</td>\n",
       "      <td>0</td>\n",
       "      <td>1</td>\n",
       "      <td>29141</td>\n",
       "      <td>1</td>\n",
       "      <td>0</td>\n",
       "      <td>0</td>\n",
       "    </tr>\n",
       "  </tbody>\n",
       "</table>\n",
       "<p>1337 rows × 9 columns</p>\n",
       "</div>"
      ],
      "text/plain": [
       "      age  is_male  bmi  children  is_smoker  charges  region_northwest  \\\n",
       "0      19        0   27         0          1    16884                 0   \n",
       "1      18        1   33         1          0     1725                 0   \n",
       "2      28        1   33         3          0     4449                 0   \n",
       "3      33        1   22         0          0    21984                 1   \n",
       "4      32        1   28         0          0     3866                 1   \n",
       "...   ...      ...  ...       ...        ...      ...               ...   \n",
       "1333   50        1   30         3          0    10600                 1   \n",
       "1334   18        0   31         0          0     2205                 0   \n",
       "1335   18        0   36         0          0     1629                 0   \n",
       "1336   21        0   25         0          0     2007                 0   \n",
       "1337   61        0   29         0          1    29141                 1   \n",
       "\n",
       "      region_southeast  region_southwest  \n",
       "0                    0                 1  \n",
       "1                    1                 0  \n",
       "2                    1                 0  \n",
       "3                    0                 0  \n",
       "4                    0                 0  \n",
       "...                ...               ...  \n",
       "1333                 0                 0  \n",
       "1334                 0                 0  \n",
       "1335                 1                 0  \n",
       "1336                 0                 1  \n",
       "1337                 0                 0  \n",
       "\n",
       "[1337 rows x 9 columns]"
      ]
     },
     "execution_count": 82,
     "metadata": {},
     "output_type": "execute_result"
    }
   ],
   "source": [
    "new_df.astype(int)"
   ]
  },
  {
   "cell_type": "markdown",
   "id": "816b4beb",
   "metadata": {},
   "source": [
    "### Feature Engineering and Extraction"
   ]
  },
  {
   "cell_type": "code",
   "execution_count": 83,
   "id": "24284914",
   "metadata": {},
   "outputs": [],
   "source": [
    "# Making the different category for BMI\n",
    "\n",
    "new_df['bmi_category'] = pd.cut(\n",
    "    new_df['bmi'],\n",
    "    bins=[0, 18.5, 24.9, 49.9, float(\"inf\")],\n",
    "    labels=['UnderWeight', 'Normal', 'OverWeight', 'Obsse']\n",
    ")\n"
   ]
  },
  {
   "cell_type": "code",
   "execution_count": 84,
   "id": "03b8e66b",
   "metadata": {},
   "outputs": [
    {
     "data": {
      "application/vnd.microsoft.datawrangler.viewer.v0+json": {
       "columns": [
        {
         "name": "index",
         "rawType": "int64",
         "type": "integer"
        },
        {
         "name": "age",
         "rawType": "int64",
         "type": "integer"
        },
        {
         "name": "is_male",
         "rawType": "int64",
         "type": "integer"
        },
        {
         "name": "bmi",
         "rawType": "float64",
         "type": "float"
        },
        {
         "name": "children",
         "rawType": "int64",
         "type": "integer"
        },
        {
         "name": "is_smoker",
         "rawType": "int64",
         "type": "integer"
        },
        {
         "name": "charges",
         "rawType": "float64",
         "type": "float"
        },
        {
         "name": "region_northwest",
         "rawType": "bool",
         "type": "boolean"
        },
        {
         "name": "region_southeast",
         "rawType": "bool",
         "type": "boolean"
        },
        {
         "name": "region_southwest",
         "rawType": "bool",
         "type": "boolean"
        },
        {
         "name": "bmi_category",
         "rawType": "category",
         "type": "unknown"
        }
       ],
       "ref": "36340b20-b817-4b5a-b7f5-91e9873f2066",
       "rows": [
        [
         "0",
         "19",
         "0",
         "27.9",
         "0",
         "1",
         "16884.924",
         "False",
         "False",
         "True",
         "OverWeight"
        ],
        [
         "1",
         "18",
         "1",
         "33.77",
         "1",
         "0",
         "1725.5523",
         "False",
         "True",
         "False",
         "OverWeight"
        ],
        [
         "2",
         "28",
         "1",
         "33.0",
         "3",
         "0",
         "4449.462",
         "False",
         "True",
         "False",
         "OverWeight"
        ],
        [
         "3",
         "33",
         "1",
         "22.705",
         "0",
         "0",
         "21984.47061",
         "True",
         "False",
         "False",
         "Normal"
        ],
        [
         "4",
         "32",
         "1",
         "28.88",
         "0",
         "0",
         "3866.8552",
         "True",
         "False",
         "False",
         "OverWeight"
        ]
       ],
       "shape": {
        "columns": 10,
        "rows": 5
       }
      },
      "text/html": [
       "<div>\n",
       "<style scoped>\n",
       "    .dataframe tbody tr th:only-of-type {\n",
       "        vertical-align: middle;\n",
       "    }\n",
       "\n",
       "    .dataframe tbody tr th {\n",
       "        vertical-align: top;\n",
       "    }\n",
       "\n",
       "    .dataframe thead th {\n",
       "        text-align: right;\n",
       "    }\n",
       "</style>\n",
       "<table border=\"1\" class=\"dataframe\">\n",
       "  <thead>\n",
       "    <tr style=\"text-align: right;\">\n",
       "      <th></th>\n",
       "      <th>age</th>\n",
       "      <th>is_male</th>\n",
       "      <th>bmi</th>\n",
       "      <th>children</th>\n",
       "      <th>is_smoker</th>\n",
       "      <th>charges</th>\n",
       "      <th>region_northwest</th>\n",
       "      <th>region_southeast</th>\n",
       "      <th>region_southwest</th>\n",
       "      <th>bmi_category</th>\n",
       "    </tr>\n",
       "  </thead>\n",
       "  <tbody>\n",
       "    <tr>\n",
       "      <th>0</th>\n",
       "      <td>19</td>\n",
       "      <td>0</td>\n",
       "      <td>27.900</td>\n",
       "      <td>0</td>\n",
       "      <td>1</td>\n",
       "      <td>16884.92400</td>\n",
       "      <td>False</td>\n",
       "      <td>False</td>\n",
       "      <td>True</td>\n",
       "      <td>OverWeight</td>\n",
       "    </tr>\n",
       "    <tr>\n",
       "      <th>1</th>\n",
       "      <td>18</td>\n",
       "      <td>1</td>\n",
       "      <td>33.770</td>\n",
       "      <td>1</td>\n",
       "      <td>0</td>\n",
       "      <td>1725.55230</td>\n",
       "      <td>False</td>\n",
       "      <td>True</td>\n",
       "      <td>False</td>\n",
       "      <td>OverWeight</td>\n",
       "    </tr>\n",
       "    <tr>\n",
       "      <th>2</th>\n",
       "      <td>28</td>\n",
       "      <td>1</td>\n",
       "      <td>33.000</td>\n",
       "      <td>3</td>\n",
       "      <td>0</td>\n",
       "      <td>4449.46200</td>\n",
       "      <td>False</td>\n",
       "      <td>True</td>\n",
       "      <td>False</td>\n",
       "      <td>OverWeight</td>\n",
       "    </tr>\n",
       "    <tr>\n",
       "      <th>3</th>\n",
       "      <td>33</td>\n",
       "      <td>1</td>\n",
       "      <td>22.705</td>\n",
       "      <td>0</td>\n",
       "      <td>0</td>\n",
       "      <td>21984.47061</td>\n",
       "      <td>True</td>\n",
       "      <td>False</td>\n",
       "      <td>False</td>\n",
       "      <td>Normal</td>\n",
       "    </tr>\n",
       "    <tr>\n",
       "      <th>4</th>\n",
       "      <td>32</td>\n",
       "      <td>1</td>\n",
       "      <td>28.880</td>\n",
       "      <td>0</td>\n",
       "      <td>0</td>\n",
       "      <td>3866.85520</td>\n",
       "      <td>True</td>\n",
       "      <td>False</td>\n",
       "      <td>False</td>\n",
       "      <td>OverWeight</td>\n",
       "    </tr>\n",
       "  </tbody>\n",
       "</table>\n",
       "</div>"
      ],
      "text/plain": [
       "   age  is_male     bmi  children  is_smoker      charges  region_northwest  \\\n",
       "0   19        0  27.900         0          1  16884.92400             False   \n",
       "1   18        1  33.770         1          0   1725.55230             False   \n",
       "2   28        1  33.000         3          0   4449.46200             False   \n",
       "3   33        1  22.705         0          0  21984.47061              True   \n",
       "4   32        1  28.880         0          0   3866.85520              True   \n",
       "\n",
       "   region_southeast  region_southwest bmi_category  \n",
       "0             False              True   OverWeight  \n",
       "1              True             False   OverWeight  \n",
       "2              True             False   OverWeight  \n",
       "3             False             False       Normal  \n",
       "4             False             False   OverWeight  "
      ]
     },
     "execution_count": 84,
     "metadata": {},
     "output_type": "execute_result"
    }
   ],
   "source": [
    "new_df.head()"
   ]
  },
  {
   "cell_type": "code",
   "execution_count": 85,
   "id": "a16d02a7",
   "metadata": {},
   "outputs": [],
   "source": [
    "new_df = pd.get_dummies(\n",
    "    new_df,\n",
    "    columns=['bmi_category'],\n",
    "      drop_first=True\n",
    ")"
   ]
  },
  {
   "cell_type": "code",
   "execution_count": 86,
   "id": "e1a87a0c",
   "metadata": {},
   "outputs": [
    {
     "data": {
      "application/vnd.microsoft.datawrangler.viewer.v0+json": {
       "columns": [
        {
         "name": "index",
         "rawType": "int64",
         "type": "integer"
        },
        {
         "name": "age",
         "rawType": "int64",
         "type": "integer"
        },
        {
         "name": "is_male",
         "rawType": "int64",
         "type": "integer"
        },
        {
         "name": "bmi",
         "rawType": "int64",
         "type": "integer"
        },
        {
         "name": "children",
         "rawType": "int64",
         "type": "integer"
        },
        {
         "name": "is_smoker",
         "rawType": "int64",
         "type": "integer"
        },
        {
         "name": "charges",
         "rawType": "int64",
         "type": "integer"
        },
        {
         "name": "region_northwest",
         "rawType": "int64",
         "type": "integer"
        },
        {
         "name": "region_southeast",
         "rawType": "int64",
         "type": "integer"
        },
        {
         "name": "region_southwest",
         "rawType": "int64",
         "type": "integer"
        },
        {
         "name": "bmi_category_Normal",
         "rawType": "int64",
         "type": "integer"
        },
        {
         "name": "bmi_category_OverWeight",
         "rawType": "int64",
         "type": "integer"
        },
        {
         "name": "bmi_category_Obsse",
         "rawType": "int64",
         "type": "integer"
        }
       ],
       "ref": "59e4fc27-6c10-4b69-8a91-26f3b71e18e4",
       "rows": [
        [
         "0",
         "19",
         "0",
         "27",
         "0",
         "1",
         "16884",
         "0",
         "0",
         "1",
         "0",
         "1",
         "0"
        ],
        [
         "1",
         "18",
         "1",
         "33",
         "1",
         "0",
         "1725",
         "0",
         "1",
         "0",
         "0",
         "1",
         "0"
        ],
        [
         "2",
         "28",
         "1",
         "33",
         "3",
         "0",
         "4449",
         "0",
         "1",
         "0",
         "0",
         "1",
         "0"
        ],
        [
         "3",
         "33",
         "1",
         "22",
         "0",
         "0",
         "21984",
         "1",
         "0",
         "0",
         "1",
         "0",
         "0"
        ],
        [
         "4",
         "32",
         "1",
         "28",
         "0",
         "0",
         "3866",
         "1",
         "0",
         "0",
         "0",
         "1",
         "0"
        ],
        [
         "5",
         "31",
         "0",
         "25",
         "0",
         "0",
         "3756",
         "0",
         "1",
         "0",
         "0",
         "1",
         "0"
        ],
        [
         "6",
         "46",
         "0",
         "33",
         "1",
         "0",
         "8240",
         "0",
         "1",
         "0",
         "0",
         "1",
         "0"
        ],
        [
         "7",
         "37",
         "0",
         "27",
         "3",
         "0",
         "7281",
         "1",
         "0",
         "0",
         "0",
         "1",
         "0"
        ],
        [
         "8",
         "37",
         "1",
         "29",
         "2",
         "0",
         "6406",
         "0",
         "0",
         "0",
         "0",
         "1",
         "0"
        ],
        [
         "9",
         "60",
         "0",
         "25",
         "0",
         "0",
         "28923",
         "1",
         "0",
         "0",
         "0",
         "1",
         "0"
        ],
        [
         "10",
         "25",
         "1",
         "26",
         "0",
         "0",
         "2721",
         "0",
         "0",
         "0",
         "0",
         "1",
         "0"
        ],
        [
         "11",
         "62",
         "0",
         "26",
         "0",
         "1",
         "27808",
         "0",
         "1",
         "0",
         "0",
         "1",
         "0"
        ],
        [
         "12",
         "23",
         "1",
         "34",
         "0",
         "0",
         "1826",
         "0",
         "0",
         "1",
         "0",
         "1",
         "0"
        ],
        [
         "13",
         "56",
         "0",
         "39",
         "0",
         "0",
         "11090",
         "0",
         "1",
         "0",
         "0",
         "1",
         "0"
        ],
        [
         "14",
         "27",
         "1",
         "42",
         "0",
         "1",
         "39611",
         "0",
         "1",
         "0",
         "0",
         "1",
         "0"
        ],
        [
         "15",
         "19",
         "1",
         "24",
         "1",
         "0",
         "1837",
         "0",
         "0",
         "1",
         "1",
         "0",
         "0"
        ],
        [
         "16",
         "52",
         "0",
         "30",
         "1",
         "0",
         "10797",
         "0",
         "0",
         "0",
         "0",
         "1",
         "0"
        ],
        [
         "17",
         "23",
         "1",
         "23",
         "0",
         "0",
         "2395",
         "0",
         "0",
         "0",
         "1",
         "0",
         "0"
        ],
        [
         "18",
         "56",
         "1",
         "40",
         "0",
         "0",
         "10602",
         "0",
         "0",
         "1",
         "0",
         "1",
         "0"
        ],
        [
         "19",
         "30",
         "1",
         "35",
         "0",
         "1",
         "36837",
         "0",
         "0",
         "1",
         "0",
         "1",
         "0"
        ],
        [
         "20",
         "60",
         "0",
         "36",
         "0",
         "0",
         "13228",
         "0",
         "0",
         "0",
         "0",
         "1",
         "0"
        ],
        [
         "21",
         "30",
         "0",
         "32",
         "1",
         "0",
         "4149",
         "0",
         "0",
         "1",
         "0",
         "1",
         "0"
        ],
        [
         "22",
         "18",
         "1",
         "34",
         "0",
         "0",
         "1137",
         "0",
         "1",
         "0",
         "0",
         "1",
         "0"
        ],
        [
         "23",
         "34",
         "0",
         "31",
         "1",
         "1",
         "37701",
         "0",
         "0",
         "0",
         "0",
         "1",
         "0"
        ],
        [
         "24",
         "37",
         "1",
         "28",
         "2",
         "0",
         "6203",
         "1",
         "0",
         "0",
         "0",
         "1",
         "0"
        ],
        [
         "25",
         "59",
         "0",
         "27",
         "3",
         "0",
         "14001",
         "0",
         "1",
         "0",
         "0",
         "1",
         "0"
        ],
        [
         "26",
         "63",
         "0",
         "23",
         "0",
         "0",
         "14451",
         "0",
         "0",
         "0",
         "1",
         "0",
         "0"
        ],
        [
         "27",
         "55",
         "0",
         "32",
         "2",
         "0",
         "12268",
         "1",
         "0",
         "0",
         "0",
         "1",
         "0"
        ],
        [
         "28",
         "23",
         "1",
         "17",
         "1",
         "0",
         "2775",
         "1",
         "0",
         "0",
         "0",
         "0",
         "0"
        ],
        [
         "29",
         "31",
         "1",
         "36",
         "2",
         "1",
         "38711",
         "0",
         "0",
         "1",
         "0",
         "1",
         "0"
        ],
        [
         "30",
         "22",
         "1",
         "35",
         "0",
         "1",
         "35585",
         "0",
         "0",
         "1",
         "0",
         "1",
         "0"
        ],
        [
         "31",
         "18",
         "0",
         "26",
         "0",
         "0",
         "2198",
         "0",
         "0",
         "0",
         "0",
         "1",
         "0"
        ],
        [
         "32",
         "19",
         "0",
         "28",
         "5",
         "0",
         "4687",
         "0",
         "0",
         "1",
         "0",
         "1",
         "0"
        ],
        [
         "33",
         "63",
         "1",
         "28",
         "0",
         "0",
         "13770",
         "1",
         "0",
         "0",
         "0",
         "1",
         "0"
        ],
        [
         "34",
         "28",
         "1",
         "36",
         "1",
         "1",
         "51194",
         "0",
         "0",
         "1",
         "0",
         "1",
         "0"
        ],
        [
         "35",
         "19",
         "1",
         "20",
         "0",
         "0",
         "1625",
         "1",
         "0",
         "0",
         "1",
         "0",
         "0"
        ],
        [
         "36",
         "62",
         "0",
         "32",
         "3",
         "0",
         "15612",
         "1",
         "0",
         "0",
         "0",
         "1",
         "0"
        ],
        [
         "37",
         "26",
         "1",
         "20",
         "0",
         "0",
         "2302",
         "0",
         "0",
         "1",
         "1",
         "0",
         "0"
        ],
        [
         "38",
         "35",
         "1",
         "36",
         "1",
         "1",
         "39774",
         "0",
         "0",
         "0",
         "0",
         "1",
         "0"
        ],
        [
         "39",
         "60",
         "1",
         "39",
         "0",
         "1",
         "48173",
         "0",
         "0",
         "1",
         "0",
         "1",
         "0"
        ],
        [
         "40",
         "24",
         "0",
         "26",
         "0",
         "0",
         "3046",
         "0",
         "0",
         "0",
         "0",
         "1",
         "0"
        ],
        [
         "41",
         "31",
         "0",
         "36",
         "2",
         "0",
         "4949",
         "0",
         "1",
         "0",
         "0",
         "1",
         "0"
        ],
        [
         "42",
         "41",
         "1",
         "21",
         "1",
         "0",
         "6272",
         "0",
         "1",
         "0",
         "1",
         "0",
         "0"
        ],
        [
         "43",
         "37",
         "0",
         "30",
         "2",
         "0",
         "6313",
         "0",
         "1",
         "0",
         "0",
         "1",
         "0"
        ],
        [
         "44",
         "38",
         "1",
         "37",
         "1",
         "0",
         "6079",
         "0",
         "0",
         "0",
         "0",
         "1",
         "0"
        ],
        [
         "45",
         "55",
         "1",
         "37",
         "0",
         "0",
         "20630",
         "0",
         "0",
         "1",
         "0",
         "1",
         "0"
        ],
        [
         "46",
         "18",
         "0",
         "38",
         "2",
         "0",
         "3393",
         "0",
         "0",
         "0",
         "0",
         "1",
         "0"
        ],
        [
         "47",
         "28",
         "0",
         "34",
         "0",
         "0",
         "3556",
         "1",
         "0",
         "0",
         "0",
         "1",
         "0"
        ],
        [
         "48",
         "60",
         "0",
         "24",
         "0",
         "0",
         "12629",
         "0",
         "1",
         "0",
         "1",
         "0",
         "0"
        ],
        [
         "49",
         "36",
         "1",
         "35",
         "1",
         "1",
         "38709",
         "0",
         "1",
         "0",
         "0",
         "1",
         "0"
        ]
       ],
       "shape": {
        "columns": 12,
        "rows": 1337
       }
      },
      "text/html": [
       "<div>\n",
       "<style scoped>\n",
       "    .dataframe tbody tr th:only-of-type {\n",
       "        vertical-align: middle;\n",
       "    }\n",
       "\n",
       "    .dataframe tbody tr th {\n",
       "        vertical-align: top;\n",
       "    }\n",
       "\n",
       "    .dataframe thead th {\n",
       "        text-align: right;\n",
       "    }\n",
       "</style>\n",
       "<table border=\"1\" class=\"dataframe\">\n",
       "  <thead>\n",
       "    <tr style=\"text-align: right;\">\n",
       "      <th></th>\n",
       "      <th>age</th>\n",
       "      <th>is_male</th>\n",
       "      <th>bmi</th>\n",
       "      <th>children</th>\n",
       "      <th>is_smoker</th>\n",
       "      <th>charges</th>\n",
       "      <th>region_northwest</th>\n",
       "      <th>region_southeast</th>\n",
       "      <th>region_southwest</th>\n",
       "      <th>bmi_category_Normal</th>\n",
       "      <th>bmi_category_OverWeight</th>\n",
       "      <th>bmi_category_Obsse</th>\n",
       "    </tr>\n",
       "  </thead>\n",
       "  <tbody>\n",
       "    <tr>\n",
       "      <th>0</th>\n",
       "      <td>19</td>\n",
       "      <td>0</td>\n",
       "      <td>27</td>\n",
       "      <td>0</td>\n",
       "      <td>1</td>\n",
       "      <td>16884</td>\n",
       "      <td>0</td>\n",
       "      <td>0</td>\n",
       "      <td>1</td>\n",
       "      <td>0</td>\n",
       "      <td>1</td>\n",
       "      <td>0</td>\n",
       "    </tr>\n",
       "    <tr>\n",
       "      <th>1</th>\n",
       "      <td>18</td>\n",
       "      <td>1</td>\n",
       "      <td>33</td>\n",
       "      <td>1</td>\n",
       "      <td>0</td>\n",
       "      <td>1725</td>\n",
       "      <td>0</td>\n",
       "      <td>1</td>\n",
       "      <td>0</td>\n",
       "      <td>0</td>\n",
       "      <td>1</td>\n",
       "      <td>0</td>\n",
       "    </tr>\n",
       "    <tr>\n",
       "      <th>2</th>\n",
       "      <td>28</td>\n",
       "      <td>1</td>\n",
       "      <td>33</td>\n",
       "      <td>3</td>\n",
       "      <td>0</td>\n",
       "      <td>4449</td>\n",
       "      <td>0</td>\n",
       "      <td>1</td>\n",
       "      <td>0</td>\n",
       "      <td>0</td>\n",
       "      <td>1</td>\n",
       "      <td>0</td>\n",
       "    </tr>\n",
       "    <tr>\n",
       "      <th>3</th>\n",
       "      <td>33</td>\n",
       "      <td>1</td>\n",
       "      <td>22</td>\n",
       "      <td>0</td>\n",
       "      <td>0</td>\n",
       "      <td>21984</td>\n",
       "      <td>1</td>\n",
       "      <td>0</td>\n",
       "      <td>0</td>\n",
       "      <td>1</td>\n",
       "      <td>0</td>\n",
       "      <td>0</td>\n",
       "    </tr>\n",
       "    <tr>\n",
       "      <th>4</th>\n",
       "      <td>32</td>\n",
       "      <td>1</td>\n",
       "      <td>28</td>\n",
       "      <td>0</td>\n",
       "      <td>0</td>\n",
       "      <td>3866</td>\n",
       "      <td>1</td>\n",
       "      <td>0</td>\n",
       "      <td>0</td>\n",
       "      <td>0</td>\n",
       "      <td>1</td>\n",
       "      <td>0</td>\n",
       "    </tr>\n",
       "    <tr>\n",
       "      <th>...</th>\n",
       "      <td>...</td>\n",
       "      <td>...</td>\n",
       "      <td>...</td>\n",
       "      <td>...</td>\n",
       "      <td>...</td>\n",
       "      <td>...</td>\n",
       "      <td>...</td>\n",
       "      <td>...</td>\n",
       "      <td>...</td>\n",
       "      <td>...</td>\n",
       "      <td>...</td>\n",
       "      <td>...</td>\n",
       "    </tr>\n",
       "    <tr>\n",
       "      <th>1333</th>\n",
       "      <td>50</td>\n",
       "      <td>1</td>\n",
       "      <td>30</td>\n",
       "      <td>3</td>\n",
       "      <td>0</td>\n",
       "      <td>10600</td>\n",
       "      <td>1</td>\n",
       "      <td>0</td>\n",
       "      <td>0</td>\n",
       "      <td>0</td>\n",
       "      <td>1</td>\n",
       "      <td>0</td>\n",
       "    </tr>\n",
       "    <tr>\n",
       "      <th>1334</th>\n",
       "      <td>18</td>\n",
       "      <td>0</td>\n",
       "      <td>31</td>\n",
       "      <td>0</td>\n",
       "      <td>0</td>\n",
       "      <td>2205</td>\n",
       "      <td>0</td>\n",
       "      <td>0</td>\n",
       "      <td>0</td>\n",
       "      <td>0</td>\n",
       "      <td>1</td>\n",
       "      <td>0</td>\n",
       "    </tr>\n",
       "    <tr>\n",
       "      <th>1335</th>\n",
       "      <td>18</td>\n",
       "      <td>0</td>\n",
       "      <td>36</td>\n",
       "      <td>0</td>\n",
       "      <td>0</td>\n",
       "      <td>1629</td>\n",
       "      <td>0</td>\n",
       "      <td>1</td>\n",
       "      <td>0</td>\n",
       "      <td>0</td>\n",
       "      <td>1</td>\n",
       "      <td>0</td>\n",
       "    </tr>\n",
       "    <tr>\n",
       "      <th>1336</th>\n",
       "      <td>21</td>\n",
       "      <td>0</td>\n",
       "      <td>25</td>\n",
       "      <td>0</td>\n",
       "      <td>0</td>\n",
       "      <td>2007</td>\n",
       "      <td>0</td>\n",
       "      <td>0</td>\n",
       "      <td>1</td>\n",
       "      <td>0</td>\n",
       "      <td>1</td>\n",
       "      <td>0</td>\n",
       "    </tr>\n",
       "    <tr>\n",
       "      <th>1337</th>\n",
       "      <td>61</td>\n",
       "      <td>0</td>\n",
       "      <td>29</td>\n",
       "      <td>0</td>\n",
       "      <td>1</td>\n",
       "      <td>29141</td>\n",
       "      <td>1</td>\n",
       "      <td>0</td>\n",
       "      <td>0</td>\n",
       "      <td>0</td>\n",
       "      <td>1</td>\n",
       "      <td>0</td>\n",
       "    </tr>\n",
       "  </tbody>\n",
       "</table>\n",
       "<p>1337 rows × 12 columns</p>\n",
       "</div>"
      ],
      "text/plain": [
       "      age  is_male  bmi  children  is_smoker  charges  region_northwest  \\\n",
       "0      19        0   27         0          1    16884                 0   \n",
       "1      18        1   33         1          0     1725                 0   \n",
       "2      28        1   33         3          0     4449                 0   \n",
       "3      33        1   22         0          0    21984                 1   \n",
       "4      32        1   28         0          0     3866                 1   \n",
       "...   ...      ...  ...       ...        ...      ...               ...   \n",
       "1333   50        1   30         3          0    10600                 1   \n",
       "1334   18        0   31         0          0     2205                 0   \n",
       "1335   18        0   36         0          0     1629                 0   \n",
       "1336   21        0   25         0          0     2007                 0   \n",
       "1337   61        0   29         0          1    29141                 1   \n",
       "\n",
       "      region_southeast  region_southwest  bmi_category_Normal  \\\n",
       "0                    0                 1                    0   \n",
       "1                    1                 0                    0   \n",
       "2                    1                 0                    0   \n",
       "3                    0                 0                    1   \n",
       "4                    0                 0                    0   \n",
       "...                ...               ...                  ...   \n",
       "1333                 0                 0                    0   \n",
       "1334                 0                 0                    0   \n",
       "1335                 1                 0                    0   \n",
       "1336                 0                 1                    0   \n",
       "1337                 0                 0                    0   \n",
       "\n",
       "      bmi_category_OverWeight  bmi_category_Obsse  \n",
       "0                           1                   0  \n",
       "1                           1                   0  \n",
       "2                           1                   0  \n",
       "3                           0                   0  \n",
       "4                           1                   0  \n",
       "...                       ...                 ...  \n",
       "1333                        1                   0  \n",
       "1334                        1                   0  \n",
       "1335                        1                   0  \n",
       "1336                        1                   0  \n",
       "1337                        1                   0  \n",
       "\n",
       "[1337 rows x 12 columns]"
      ]
     },
     "execution_count": 86,
     "metadata": {},
     "output_type": "execute_result"
    }
   ],
   "source": [
    "new_df.astype(int)"
   ]
  },
  {
   "cell_type": "code",
   "execution_count": 87,
   "id": "6d75d6d4",
   "metadata": {},
   "outputs": [],
   "source": [
    "from sklearn.preprocessing import StandardScaler\n",
    "cols = ['age', 'bmi','children' ]\n",
    "scaler = StandardScaler()\n",
    "new_df[cols] = scaler.fit_transform(new_df[cols])"
   ]
  },
  {
   "cell_type": "code",
   "execution_count": 88,
   "id": "e4b3db25",
   "metadata": {},
   "outputs": [
    {
     "data": {
      "application/vnd.microsoft.datawrangler.viewer.v0+json": {
       "columns": [
        {
         "name": "index",
         "rawType": "int64",
         "type": "integer"
        },
        {
         "name": "age",
         "rawType": "float64",
         "type": "float"
        },
        {
         "name": "is_male",
         "rawType": "int64",
         "type": "integer"
        },
        {
         "name": "bmi",
         "rawType": "float64",
         "type": "float"
        },
        {
         "name": "children",
         "rawType": "float64",
         "type": "float"
        },
        {
         "name": "is_smoker",
         "rawType": "int64",
         "type": "integer"
        },
        {
         "name": "charges",
         "rawType": "float64",
         "type": "float"
        },
        {
         "name": "region_northwest",
         "rawType": "bool",
         "type": "boolean"
        },
        {
         "name": "region_southeast",
         "rawType": "bool",
         "type": "boolean"
        },
        {
         "name": "region_southwest",
         "rawType": "bool",
         "type": "boolean"
        },
        {
         "name": "bmi_category_Normal",
         "rawType": "bool",
         "type": "boolean"
        },
        {
         "name": "bmi_category_OverWeight",
         "rawType": "bool",
         "type": "boolean"
        },
        {
         "name": "bmi_category_Obsse",
         "rawType": "bool",
         "type": "boolean"
        }
       ],
       "ref": "e5fc8687-3d95-456f-95e4-9e256ecd96fd",
       "rows": [
        [
         "0",
         "-1.4404177293803346",
         "0",
         "-0.45315959440232934",
         "-0.9092341626291546",
         "1",
         "16884.924",
         "False",
         "False",
         "True",
         "False",
         "True",
         "False"
        ],
        [
         "1",
         "-1.5116474702606657",
         "1",
         "0.5094216454409656",
         "-0.07944161966998751",
         "0",
         "1725.5523",
         "False",
         "True",
         "False",
         "False",
         "True",
         "False"
        ],
        [
         "2",
         "-0.7993500614573563",
         "1",
         "0.38315460035078847",
         "1.5801434662483465",
         "0",
         "4449.462",
         "False",
         "True",
         "False",
         "False",
         "True",
         "False"
        ],
        [
         "3",
         "-0.44320135705570163",
         "1",
         "-1.3050521908224169",
         "-0.9092341626291546",
         "0",
         "21984.47061",
         "True",
         "False",
         "False",
         "True",
         "False",
         "False"
        ],
        [
         "4",
         "-0.5144310979360326",
         "1",
         "-0.29245608246937727",
         "-0.9092341626291546",
         "0",
         "3866.8552",
         "True",
         "False",
         "False",
         "False",
         "True",
         "False"
        ]
       ],
       "shape": {
        "columns": 12,
        "rows": 5
       }
      },
      "text/html": [
       "<div>\n",
       "<style scoped>\n",
       "    .dataframe tbody tr th:only-of-type {\n",
       "        vertical-align: middle;\n",
       "    }\n",
       "\n",
       "    .dataframe tbody tr th {\n",
       "        vertical-align: top;\n",
       "    }\n",
       "\n",
       "    .dataframe thead th {\n",
       "        text-align: right;\n",
       "    }\n",
       "</style>\n",
       "<table border=\"1\" class=\"dataframe\">\n",
       "  <thead>\n",
       "    <tr style=\"text-align: right;\">\n",
       "      <th></th>\n",
       "      <th>age</th>\n",
       "      <th>is_male</th>\n",
       "      <th>bmi</th>\n",
       "      <th>children</th>\n",
       "      <th>is_smoker</th>\n",
       "      <th>charges</th>\n",
       "      <th>region_northwest</th>\n",
       "      <th>region_southeast</th>\n",
       "      <th>region_southwest</th>\n",
       "      <th>bmi_category_Normal</th>\n",
       "      <th>bmi_category_OverWeight</th>\n",
       "      <th>bmi_category_Obsse</th>\n",
       "    </tr>\n",
       "  </thead>\n",
       "  <tbody>\n",
       "    <tr>\n",
       "      <th>0</th>\n",
       "      <td>-1.440418</td>\n",
       "      <td>0</td>\n",
       "      <td>-0.453160</td>\n",
       "      <td>-0.909234</td>\n",
       "      <td>1</td>\n",
       "      <td>16884.92400</td>\n",
       "      <td>False</td>\n",
       "      <td>False</td>\n",
       "      <td>True</td>\n",
       "      <td>False</td>\n",
       "      <td>True</td>\n",
       "      <td>False</td>\n",
       "    </tr>\n",
       "    <tr>\n",
       "      <th>1</th>\n",
       "      <td>-1.511647</td>\n",
       "      <td>1</td>\n",
       "      <td>0.509422</td>\n",
       "      <td>-0.079442</td>\n",
       "      <td>0</td>\n",
       "      <td>1725.55230</td>\n",
       "      <td>False</td>\n",
       "      <td>True</td>\n",
       "      <td>False</td>\n",
       "      <td>False</td>\n",
       "      <td>True</td>\n",
       "      <td>False</td>\n",
       "    </tr>\n",
       "    <tr>\n",
       "      <th>2</th>\n",
       "      <td>-0.799350</td>\n",
       "      <td>1</td>\n",
       "      <td>0.383155</td>\n",
       "      <td>1.580143</td>\n",
       "      <td>0</td>\n",
       "      <td>4449.46200</td>\n",
       "      <td>False</td>\n",
       "      <td>True</td>\n",
       "      <td>False</td>\n",
       "      <td>False</td>\n",
       "      <td>True</td>\n",
       "      <td>False</td>\n",
       "    </tr>\n",
       "    <tr>\n",
       "      <th>3</th>\n",
       "      <td>-0.443201</td>\n",
       "      <td>1</td>\n",
       "      <td>-1.305052</td>\n",
       "      <td>-0.909234</td>\n",
       "      <td>0</td>\n",
       "      <td>21984.47061</td>\n",
       "      <td>True</td>\n",
       "      <td>False</td>\n",
       "      <td>False</td>\n",
       "      <td>True</td>\n",
       "      <td>False</td>\n",
       "      <td>False</td>\n",
       "    </tr>\n",
       "    <tr>\n",
       "      <th>4</th>\n",
       "      <td>-0.514431</td>\n",
       "      <td>1</td>\n",
       "      <td>-0.292456</td>\n",
       "      <td>-0.909234</td>\n",
       "      <td>0</td>\n",
       "      <td>3866.85520</td>\n",
       "      <td>True</td>\n",
       "      <td>False</td>\n",
       "      <td>False</td>\n",
       "      <td>False</td>\n",
       "      <td>True</td>\n",
       "      <td>False</td>\n",
       "    </tr>\n",
       "  </tbody>\n",
       "</table>\n",
       "</div>"
      ],
      "text/plain": [
       "        age  is_male       bmi  children  is_smoker      charges  \\\n",
       "0 -1.440418        0 -0.453160 -0.909234          1  16884.92400   \n",
       "1 -1.511647        1  0.509422 -0.079442          0   1725.55230   \n",
       "2 -0.799350        1  0.383155  1.580143          0   4449.46200   \n",
       "3 -0.443201        1 -1.305052 -0.909234          0  21984.47061   \n",
       "4 -0.514431        1 -0.292456 -0.909234          0   3866.85520   \n",
       "\n",
       "   region_northwest  region_southeast  region_southwest  bmi_category_Normal  \\\n",
       "0             False             False              True                False   \n",
       "1             False              True             False                False   \n",
       "2             False              True             False                False   \n",
       "3              True             False             False                 True   \n",
       "4              True             False             False                False   \n",
       "\n",
       "   bmi_category_OverWeight  bmi_category_Obsse  \n",
       "0                     True               False  \n",
       "1                     True               False  \n",
       "2                     True               False  \n",
       "3                    False               False  \n",
       "4                     True               False  "
      ]
     },
     "execution_count": 88,
     "metadata": {},
     "output_type": "execute_result"
    }
   ],
   "source": [
    "new_df.head()"
   ]
  },
  {
   "cell_type": "code",
   "execution_count": 89,
   "id": "d2f9a0b1",
   "metadata": {},
   "outputs": [
    {
     "data": {
      "application/vnd.microsoft.datawrangler.viewer.v0+json": {
       "columns": [
        {
         "name": "index",
         "rawType": "int64",
         "type": "integer"
        },
        {
         "name": "Feature",
         "rawType": "object",
         "type": "string"
        },
        {
         "name": "Pearson Correlation",
         "rawType": "float64",
         "type": "float"
        }
       ],
       "ref": "2639ed17-a1f9-407a-abbf-4edf81dcabf0",
       "rows": [
        [
         "4",
         "is_smoker",
         "0.7872343672800317"
        ],
        [
         "0",
         "age",
         "0.2983082125097864"
        ],
        [
         "2",
         "bmi",
         "0.19840083122624935"
        ],
        [
         "9",
         "bmi_category_OverWeight",
         "0.11562266556452082"
        ],
        [
         "6",
         "region_southeast",
         "0.07357792870627783"
        ],
        [
         "3",
         "children",
         "0.06738935083963249"
        ],
        [
         "1",
         "is_male",
         "0.05804449579031287"
        ],
        [
         "10",
         "bmi_category_Obsse",
         "0.010792914454771891"
        ],
        [
         "5",
         "region_northwest",
         "-0.03869463262101644"
        ],
        [
         "7",
         "region_southwest",
         "-0.043637368497761495"
        ],
        [
         "8",
         "bmi_category_Normal",
         "-0.10565491184703031"
        ]
       ],
       "shape": {
        "columns": 2,
        "rows": 11
       }
      },
      "text/html": [
       "<div>\n",
       "<style scoped>\n",
       "    .dataframe tbody tr th:only-of-type {\n",
       "        vertical-align: middle;\n",
       "    }\n",
       "\n",
       "    .dataframe tbody tr th {\n",
       "        vertical-align: top;\n",
       "    }\n",
       "\n",
       "    .dataframe thead th {\n",
       "        text-align: right;\n",
       "    }\n",
       "</style>\n",
       "<table border=\"1\" class=\"dataframe\">\n",
       "  <thead>\n",
       "    <tr style=\"text-align: right;\">\n",
       "      <th></th>\n",
       "      <th>Feature</th>\n",
       "      <th>Pearson Correlation</th>\n",
       "    </tr>\n",
       "  </thead>\n",
       "  <tbody>\n",
       "    <tr>\n",
       "      <th>4</th>\n",
       "      <td>is_smoker</td>\n",
       "      <td>0.787234</td>\n",
       "    </tr>\n",
       "    <tr>\n",
       "      <th>0</th>\n",
       "      <td>age</td>\n",
       "      <td>0.298308</td>\n",
       "    </tr>\n",
       "    <tr>\n",
       "      <th>2</th>\n",
       "      <td>bmi</td>\n",
       "      <td>0.198401</td>\n",
       "    </tr>\n",
       "    <tr>\n",
       "      <th>9</th>\n",
       "      <td>bmi_category_OverWeight</td>\n",
       "      <td>0.115623</td>\n",
       "    </tr>\n",
       "    <tr>\n",
       "      <th>6</th>\n",
       "      <td>region_southeast</td>\n",
       "      <td>0.073578</td>\n",
       "    </tr>\n",
       "    <tr>\n",
       "      <th>3</th>\n",
       "      <td>children</td>\n",
       "      <td>0.067389</td>\n",
       "    </tr>\n",
       "    <tr>\n",
       "      <th>1</th>\n",
       "      <td>is_male</td>\n",
       "      <td>0.058044</td>\n",
       "    </tr>\n",
       "    <tr>\n",
       "      <th>10</th>\n",
       "      <td>bmi_category_Obsse</td>\n",
       "      <td>0.010793</td>\n",
       "    </tr>\n",
       "    <tr>\n",
       "      <th>5</th>\n",
       "      <td>region_northwest</td>\n",
       "      <td>-0.038695</td>\n",
       "    </tr>\n",
       "    <tr>\n",
       "      <th>7</th>\n",
       "      <td>region_southwest</td>\n",
       "      <td>-0.043637</td>\n",
       "    </tr>\n",
       "    <tr>\n",
       "      <th>8</th>\n",
       "      <td>bmi_category_Normal</td>\n",
       "      <td>-0.105655</td>\n",
       "    </tr>\n",
       "  </tbody>\n",
       "</table>\n",
       "</div>"
      ],
      "text/plain": [
       "                    Feature  Pearson Correlation\n",
       "4                 is_smoker             0.787234\n",
       "0                       age             0.298308\n",
       "2                       bmi             0.198401\n",
       "9   bmi_category_OverWeight             0.115623\n",
       "6          region_southeast             0.073578\n",
       "3                  children             0.067389\n",
       "1                   is_male             0.058044\n",
       "10       bmi_category_Obsse             0.010793\n",
       "5          region_northwest            -0.038695\n",
       "7          region_southwest            -0.043637\n",
       "8       bmi_category_Normal            -0.105655"
      ]
     },
     "execution_count": 89,
     "metadata": {},
     "output_type": "execute_result"
    }
   ],
   "source": [
    "from scipy.stats import pearsonr\n",
    "\n",
    "selected_features =  [\n",
    "       'age', 'is_male', 'bmi',\n",
    "       'children', 'is_smoker',\n",
    "       'region_northwest', 'region_southeast', 'region_southwest',\n",
    "       'bmi_category_Normal', 'bmi_category_OverWeight', 'bmi_category_Obsse']\n",
    "\n",
    "correlations = {\n",
    "    feature : pearsonr(new_df[feature],new_df['charges'])[0]\n",
    "    for feature in selected_features\n",
    "}\n",
    "\n",
    "correlation_df = pd.DataFrame(list(correlations.items()), columns=['Feature', 'Pearson Correlation'])\n",
    "correlation_df.sort_values(by='Pearson Correlation', ascending=False)"
   ]
  },
  {
   "cell_type": "code",
   "execution_count": 90,
   "id": "a46f4b85",
   "metadata": {},
   "outputs": [],
   "source": [
    "cat_features =  [\n",
    "        'is_male', 'is_smoker',\n",
    "       'region_northwest', 'region_southeast', 'region_southwest',\n",
    "       'bmi_category_Normal', 'bmi_category_OverWeight', 'bmi_category_Obsse']"
   ]
  },
  {
   "cell_type": "code",
   "execution_count": 91,
   "id": "178806d8",
   "metadata": {},
   "outputs": [
    {
     "data": {
      "application/vnd.microsoft.datawrangler.viewer.v0+json": {
       "columns": [
        {
         "name": "index",
         "rawType": "object",
         "type": "string"
        },
        {
         "name": "chi2_statistics",
         "rawType": "object",
         "type": "unknown"
        },
        {
         "name": "p_value",
         "rawType": "object",
         "type": "unknown"
        },
        {
         "name": "Decision",
         "rawType": "object",
         "type": "string"
        }
       ],
       "ref": "78826bbb-346a-4fbd-9a04-ee7e05657db8",
       "rows": [
        [
         "is_smoker",
         "848.2191784691495",
         "1.5074776554531109e-183",
         "Reject Null (keep)"
        ],
        [
         "region_southeast",
         "15.998167448977355",
         "0.0011349657141180658",
         "Reject Null (keep)"
        ],
        [
         "is_male",
         "10.258784131896034",
         "0.016489740254825688",
         "Reject Null (keep)"
        ],
        [
         "bmi_category_OverWeight",
         "7.327153248038938",
         "0.06216996774216947",
         "Accept Null (Drop)"
        ],
        [
         "region_southwest",
         "5.091893034250699",
         "0.16519063312163632",
         "Accept Null (Drop)"
        ],
        [
         "bmi_category_Normal",
         "4.263673261660397",
         "0.23436379887313494",
         "Accept Null (Drop)"
        ],
        [
         "bmi_category_Obsse",
         "3.663945641353959",
         "0.3001130847831698",
         "Accept Null (Drop)"
        ],
        [
         "region_northwest",
         "1.1342403613235656",
         "0.76881540917986",
         "Accept Null (Drop)"
        ]
       ],
       "shape": {
        "columns": 3,
        "rows": 8
       }
      },
      "text/html": [
       "<div>\n",
       "<style scoped>\n",
       "    .dataframe tbody tr th:only-of-type {\n",
       "        vertical-align: middle;\n",
       "    }\n",
       "\n",
       "    .dataframe tbody tr th {\n",
       "        vertical-align: top;\n",
       "    }\n",
       "\n",
       "    .dataframe thead th {\n",
       "        text-align: right;\n",
       "    }\n",
       "</style>\n",
       "<table border=\"1\" class=\"dataframe\">\n",
       "  <thead>\n",
       "    <tr style=\"text-align: right;\">\n",
       "      <th></th>\n",
       "      <th>chi2_statistics</th>\n",
       "      <th>p_value</th>\n",
       "      <th>Decision</th>\n",
       "    </tr>\n",
       "  </thead>\n",
       "  <tbody>\n",
       "    <tr>\n",
       "      <th>is_smoker</th>\n",
       "      <td>848.219178</td>\n",
       "      <td>0.0</td>\n",
       "      <td>Reject Null (keep)</td>\n",
       "    </tr>\n",
       "    <tr>\n",
       "      <th>region_southeast</th>\n",
       "      <td>15.998167</td>\n",
       "      <td>0.001135</td>\n",
       "      <td>Reject Null (keep)</td>\n",
       "    </tr>\n",
       "    <tr>\n",
       "      <th>is_male</th>\n",
       "      <td>10.258784</td>\n",
       "      <td>0.01649</td>\n",
       "      <td>Reject Null (keep)</td>\n",
       "    </tr>\n",
       "    <tr>\n",
       "      <th>bmi_category_OverWeight</th>\n",
       "      <td>7.327153</td>\n",
       "      <td>0.06217</td>\n",
       "      <td>Accept Null (Drop)</td>\n",
       "    </tr>\n",
       "    <tr>\n",
       "      <th>region_southwest</th>\n",
       "      <td>5.091893</td>\n",
       "      <td>0.165191</td>\n",
       "      <td>Accept Null (Drop)</td>\n",
       "    </tr>\n",
       "    <tr>\n",
       "      <th>bmi_category_Normal</th>\n",
       "      <td>4.263673</td>\n",
       "      <td>0.234364</td>\n",
       "      <td>Accept Null (Drop)</td>\n",
       "    </tr>\n",
       "    <tr>\n",
       "      <th>bmi_category_Obsse</th>\n",
       "      <td>3.663946</td>\n",
       "      <td>0.300113</td>\n",
       "      <td>Accept Null (Drop)</td>\n",
       "    </tr>\n",
       "    <tr>\n",
       "      <th>region_northwest</th>\n",
       "      <td>1.13424</td>\n",
       "      <td>0.768815</td>\n",
       "      <td>Accept Null (Drop)</td>\n",
       "    </tr>\n",
       "  </tbody>\n",
       "</table>\n",
       "</div>"
      ],
      "text/plain": [
       "                        chi2_statistics   p_value            Decision\n",
       "is_smoker                    848.219178       0.0  Reject Null (keep)\n",
       "region_southeast              15.998167  0.001135  Reject Null (keep)\n",
       "is_male                       10.258784   0.01649  Reject Null (keep)\n",
       "bmi_category_OverWeight        7.327153   0.06217  Accept Null (Drop)\n",
       "region_southwest               5.091893  0.165191  Accept Null (Drop)\n",
       "bmi_category_Normal            4.263673  0.234364  Accept Null (Drop)\n",
       "bmi_category_Obsse             3.663946  0.300113  Accept Null (Drop)\n",
       "region_northwest                1.13424  0.768815  Accept Null (Drop)"
      ]
     },
     "execution_count": 91,
     "metadata": {},
     "output_type": "execute_result"
    }
   ],
   "source": [
    "from scipy.stats import chi2_contingency\n",
    "\n",
    "alpha = 0.05\n",
    "\n",
    "new_df['charges_bin'] = pd.qcut(new_df['charges'], q=4, labels=False)\n",
    "chi2_result = {}\n",
    "for col in cat_features:\n",
    "    contingency = pd.crosstab(new_df[col], new_df['charges_bin'])\n",
    "    chi2_stat, p_val, _, _ = chi2_contingency(contingency)\n",
    "    decision = 'Reject Null (keep)' if p_val < alpha else 'Accept Null (Drop)'\n",
    "    chi2_result[col] = {\n",
    "        'chi2_statistics':chi2_stat,\n",
    "        'p_value':p_val,\n",
    "        'Decision':decision\n",
    "    }\n",
    "\n",
    "chi2_df = pd.DataFrame(chi2_result).T\n",
    "chi2_df = chi2_df.sort_values(by='p_value')\n",
    "chi2_df"
   ]
  },
  {
   "cell_type": "code",
   "execution_count": 92,
   "id": "fb09f300",
   "metadata": {},
   "outputs": [
    {
     "data": {
      "application/vnd.microsoft.datawrangler.viewer.v0+json": {
       "columns": [
        {
         "name": "index",
         "rawType": "int64",
         "type": "integer"
        },
        {
         "name": "age",
         "rawType": "float64",
         "type": "float"
        },
        {
         "name": "is_male",
         "rawType": "int64",
         "type": "integer"
        },
        {
         "name": "bmi",
         "rawType": "float64",
         "type": "float"
        },
        {
         "name": "children",
         "rawType": "float64",
         "type": "float"
        },
        {
         "name": "is_smoker",
         "rawType": "int64",
         "type": "integer"
        },
        {
         "name": "charges",
         "rawType": "float64",
         "type": "float"
        },
        {
         "name": "region_southeast",
         "rawType": "bool",
         "type": "boolean"
        },
        {
         "name": "bmi_category_Obsse",
         "rawType": "bool",
         "type": "boolean"
        }
       ],
       "ref": "579242f2-4973-489b-ac0d-976fa959043d",
       "rows": [
        [
         "0",
         "-1.4404177293803346",
         "0",
         "-0.45315959440232934",
         "-0.9092341626291546",
         "1",
         "16884.924",
         "False",
         "False"
        ],
        [
         "1",
         "-1.5116474702606657",
         "1",
         "0.5094216454409656",
         "-0.07944161966998751",
         "0",
         "1725.5523",
         "True",
         "False"
        ],
        [
         "2",
         "-0.7993500614573563",
         "1",
         "0.38315460035078847",
         "1.5801434662483465",
         "0",
         "4449.462",
         "True",
         "False"
        ],
        [
         "3",
         "-0.44320135705570163",
         "1",
         "-1.3050521908224169",
         "-0.9092341626291546",
         "0",
         "21984.47061",
         "False",
         "False"
        ],
        [
         "4",
         "-0.5144310979360326",
         "1",
         "-0.29245608246937727",
         "-0.9092341626291546",
         "0",
         "3866.8552",
         "False",
         "False"
        ],
        [
         "5",
         "-0.5856608388163635",
         "0",
         "-0.8073632533565909",
         "-0.9092341626291546",
         "0",
         "3756.6216",
         "True",
         "False"
        ],
        [
         "6",
         "0.48278527438860047",
         "0",
         "0.45530719754517474",
         "-0.07944161966998751",
         "0",
         "8240.5896",
         "True",
         "False"
        ],
        [
         "7",
         "-0.15828239353437792",
         "0",
         "-0.47939690247301536",
         "1.5801434662483465",
         "0",
         "7281.5056",
         "False",
         "False"
        ],
        [
         "8",
         "-0.15828239353437792",
         "1",
         "-0.136672065799679",
         "0.7503509232891795",
         "0",
         "6406.4107",
         "False",
         "False"
        ],
        [
         "9",
         "1.4800016467132335",
         "0",
         "-0.7909649358124119",
         "-0.9092341626291546",
         "0",
         "28923.13692",
         "False",
         "False"
        ],
        [
         "10",
         "-1.013039284098349",
         "1",
         "-0.7286513291445327",
         "-0.9092341626291546",
         "0",
         "2721.3208",
         "False",
         "False"
        ],
        [
         "11",
         "1.6224611284738955",
         "0",
         "-0.7171725068636076",
         "-0.9092341626291546",
         "1",
         "27808.7251",
         "True",
         "False"
        ],
        [
         "12",
         "-1.155498765859011",
         "1",
         "0.6127310459692911",
         "-0.9092341626291546",
         "0",
         "1826.843",
         "False",
         "False"
        ],
        [
         "13",
         "1.1950826831919097",
         "0",
         "1.501519856863781",
         "-0.9092341626291546",
         "0",
         "11090.7178",
         "True",
         "False"
        ],
        [
         "14",
         "-0.8705798023376873",
         "1",
         "1.8803209921343111",
         "-0.9092341626291546",
         "1",
         "39611.7577",
         "True",
         "False"
        ],
        [
         "15",
         "-1.4404177293803346",
         "1",
         "-0.9943040733602284",
         "-0.07944161966998751",
         "0",
         "1837.237",
         "False",
         "False"
        ],
        [
         "16",
         "0.9101637196705861",
         "0",
         "0.01911195087001984",
         "-0.07944161966998751",
         "0",
         "10797.3362",
         "False",
         "False"
        ],
        [
         "17",
         "-1.155498765859011",
         "1",
         "-1.1181113708187786",
         "-0.9092341626291546",
         "0",
         "2395.17155",
         "False",
         "False"
        ],
        [
         "18",
         "1.1950826831919097",
         "1",
         "1.5802317810758386",
         "-0.9092341626291546",
         "0",
         "10602.385",
         "False",
         "False"
        ],
        [
         "19",
         "-0.6568905796966944",
         "1",
         "0.7603159038668998",
         "-0.9092341626291546",
         "1",
         "36837.467",
         "False",
         "False"
        ],
        [
         "20",
         "1.4800016467132335",
         "0",
         "0.8759240425533611",
         "-0.9092341626291546",
         "0",
         "13228.84695",
         "False",
         "False"
        ],
        [
         "21",
         "-0.6568905796966944",
         "0",
         "0.2847646950857156",
         "-0.07944161966998751",
         "0",
         "4149.736",
         "False",
         "False"
        ],
        [
         "22",
         "-1.5116474702606657",
         "1",
         "0.5635360933367553",
         "-0.9092341626291546",
         "0",
         "1137.011",
         "True",
         "False"
        ],
        [
         "23",
         "-0.3719716161753707",
         "0",
         "0.20605277087365798",
         "-0.07944161966998751",
         "1",
         "37701.8768",
         "False",
         "False"
        ],
        [
         "24",
         "-0.15828239353437792",
         "1",
         "-0.43266169747210587",
         "0.7503509232891795",
         "0",
         "6203.90175",
         "False",
         "False"
        ],
        [
         "25",
         "1.4087719058329027",
         "0",
         "-0.48267656598185105",
         "1.5801434662483465",
         "0",
         "14001.1338",
         "True",
         "False"
        ],
        [
         "26",
         "1.6936908693542263",
         "0",
         "-1.242738584154537",
         "-0.9092341626291546",
         "0",
         "14451.83515",
         "False",
         "False"
        ],
        [
         "27",
         "1.1238529423115788",
         "0",
         "0.346258385876386",
         "0.7503509232891795",
         "0",
         "12268.63225",
         "False",
         "False"
        ],
        [
         "28",
         "-1.155498765859011",
         "1",
         "-2.177442684172727",
         "-0.07944161966998751",
         "0",
         "2775.19215",
         "False",
         "False"
        ],
        [
         "29",
         "-0.5856608388163635",
         "1",
         "0.9242990793086876",
         "0.7503509232891795",
         "1",
         "38711.0",
         "False",
         "False"
        ],
        [
         "30",
         "-1.2267285067393419",
         "1",
         "0.8095108564994369",
         "-0.9092341626291546",
         "1",
         "35585.576",
         "False",
         "False"
        ],
        [
         "31",
         "-1.5116474702606657",
         "0",
         "-0.7130729274775625",
         "-0.9092341626291546",
         "0",
         "2198.18985",
         "False",
         "False"
        ],
        [
         "32",
         "-1.4404177293803346",
         "0",
         "-0.33837137159307745",
         "3.2397285521666808",
         "0",
         "4687.797",
         "False",
         "False"
        ],
        [
         "33",
         "1.6936908693542263",
         "1",
         "-0.3859264924711963",
         "-0.9092341626291546",
         "0",
         "13770.0979",
         "False",
         "False"
        ],
        [
         "34",
         "-0.7993500614573563",
         "1",
         "0.9406973968528666",
         "-0.07944161966998751",
         "1",
         "51194.55914",
         "False",
         "False"
        ],
        [
         "35",
         "-1.4404177293803346",
         "1",
         "-1.6789338308296924",
         "-0.9092341626291546",
         "0",
         "1625.43375",
         "False",
         "False"
        ],
        [
         "36",
         "1.6224611284738955",
         "0",
         "0.37741518921032646",
         "1.5801434662483465",
         "0",
         "15612.19335",
         "False",
         "False"
        ],
        [
         "37",
         "-0.9418095432180181",
         "1",
         "-1.6174401400390221",
         "-0.9092341626291546",
         "0",
         "2302.3",
         "False",
         "False"
        ],
        [
         "38",
         "-0.30074187529503976",
         "1",
         "0.9849728542221499",
         "-0.07944161966998751",
         "1",
         "39774.2763",
         "False",
         "False"
        ],
        [
         "39",
         "1.4800016467132335",
         "1",
         "1.5146385108991238",
         "-0.9092341626291546",
         "1",
         "48173.361",
         "False",
         "False"
        ],
        [
         "40",
         "-1.08426902497868",
         "0",
         "-0.6663377224766529",
         "-0.9092341626291546",
         "0",
         "3046.062",
         "False",
         "False"
        ],
        [
         "41",
         "-0.5856608388163635",
         "0",
         "0.9784135272044785",
         "0.7503509232891795",
         "0",
         "4949.7587",
         "True",
         "False"
        ],
        [
         "42",
         "0.1266365699869458",
         "1",
         "-1.45673662810607",
         "-0.07944161966998751",
         "0",
         "6272.4772",
         "True",
         "False"
        ],
        [
         "43",
         "-0.15828239353437792",
         "0",
         "0.022391614378855524",
         "0.7503509232891795",
         "0",
         "6313.759",
         "True",
         "False"
        ],
        [
         "44",
         "-0.08705265265404699",
         "1",
         "1.0472864608900285",
         "-0.07944161966998751",
         "0",
         "6079.6715",
         "False",
         "False"
        ],
        [
         "45",
         "1.1238529423115788",
         "1",
         "1.0882822547504754",
         "-0.9092341626291546",
         "0",
         "20630.28351",
         "False",
         "False"
        ],
        [
         "46",
         "-1.5116474702606657",
         "0",
         "1.312119289228516",
         "0.7503509232891795",
         "0",
         "3393.35635",
         "False",
         "False"
        ],
        [
         "47",
         "-0.7993500614573563",
         "0",
         "0.6734048208827533",
         "-0.9092341626291546",
         "0",
         "3556.9223",
         "False",
         "False"
        ],
        [
         "48",
         "1.4800016467132335",
         "0",
         "-1.0057828956411536",
         "-0.9092341626291546",
         "0",
         "12629.8967",
         "True",
         "False"
        ],
        [
         "49",
         "-0.22951213441470886",
         "1",
         "0.743917586322722",
         "-0.07944161966998751",
         "1",
         "38709.176",
         "True",
         "False"
        ]
       ],
       "shape": {
        "columns": 8,
        "rows": 1337
       }
      },
      "text/html": [
       "<div>\n",
       "<style scoped>\n",
       "    .dataframe tbody tr th:only-of-type {\n",
       "        vertical-align: middle;\n",
       "    }\n",
       "\n",
       "    .dataframe tbody tr th {\n",
       "        vertical-align: top;\n",
       "    }\n",
       "\n",
       "    .dataframe thead th {\n",
       "        text-align: right;\n",
       "    }\n",
       "</style>\n",
       "<table border=\"1\" class=\"dataframe\">\n",
       "  <thead>\n",
       "    <tr style=\"text-align: right;\">\n",
       "      <th></th>\n",
       "      <th>age</th>\n",
       "      <th>is_male</th>\n",
       "      <th>bmi</th>\n",
       "      <th>children</th>\n",
       "      <th>is_smoker</th>\n",
       "      <th>charges</th>\n",
       "      <th>region_southeast</th>\n",
       "      <th>bmi_category_Obsse</th>\n",
       "    </tr>\n",
       "  </thead>\n",
       "  <tbody>\n",
       "    <tr>\n",
       "      <th>0</th>\n",
       "      <td>-1.440418</td>\n",
       "      <td>0</td>\n",
       "      <td>-0.453160</td>\n",
       "      <td>-0.909234</td>\n",
       "      <td>1</td>\n",
       "      <td>16884.92400</td>\n",
       "      <td>False</td>\n",
       "      <td>False</td>\n",
       "    </tr>\n",
       "    <tr>\n",
       "      <th>1</th>\n",
       "      <td>-1.511647</td>\n",
       "      <td>1</td>\n",
       "      <td>0.509422</td>\n",
       "      <td>-0.079442</td>\n",
       "      <td>0</td>\n",
       "      <td>1725.55230</td>\n",
       "      <td>True</td>\n",
       "      <td>False</td>\n",
       "    </tr>\n",
       "    <tr>\n",
       "      <th>2</th>\n",
       "      <td>-0.799350</td>\n",
       "      <td>1</td>\n",
       "      <td>0.383155</td>\n",
       "      <td>1.580143</td>\n",
       "      <td>0</td>\n",
       "      <td>4449.46200</td>\n",
       "      <td>True</td>\n",
       "      <td>False</td>\n",
       "    </tr>\n",
       "    <tr>\n",
       "      <th>3</th>\n",
       "      <td>-0.443201</td>\n",
       "      <td>1</td>\n",
       "      <td>-1.305052</td>\n",
       "      <td>-0.909234</td>\n",
       "      <td>0</td>\n",
       "      <td>21984.47061</td>\n",
       "      <td>False</td>\n",
       "      <td>False</td>\n",
       "    </tr>\n",
       "    <tr>\n",
       "      <th>4</th>\n",
       "      <td>-0.514431</td>\n",
       "      <td>1</td>\n",
       "      <td>-0.292456</td>\n",
       "      <td>-0.909234</td>\n",
       "      <td>0</td>\n",
       "      <td>3866.85520</td>\n",
       "      <td>False</td>\n",
       "      <td>False</td>\n",
       "    </tr>\n",
       "    <tr>\n",
       "      <th>...</th>\n",
       "      <td>...</td>\n",
       "      <td>...</td>\n",
       "      <td>...</td>\n",
       "      <td>...</td>\n",
       "      <td>...</td>\n",
       "      <td>...</td>\n",
       "      <td>...</td>\n",
       "      <td>...</td>\n",
       "    </tr>\n",
       "    <tr>\n",
       "      <th>1333</th>\n",
       "      <td>0.767704</td>\n",
       "      <td>1</td>\n",
       "      <td>0.050269</td>\n",
       "      <td>1.580143</td>\n",
       "      <td>0</td>\n",
       "      <td>10600.54830</td>\n",
       "      <td>False</td>\n",
       "      <td>False</td>\n",
       "    </tr>\n",
       "    <tr>\n",
       "      <th>1334</th>\n",
       "      <td>-1.511647</td>\n",
       "      <td>0</td>\n",
       "      <td>0.206053</td>\n",
       "      <td>-0.909234</td>\n",
       "      <td>0</td>\n",
       "      <td>2205.98080</td>\n",
       "      <td>False</td>\n",
       "      <td>False</td>\n",
       "    </tr>\n",
       "    <tr>\n",
       "      <th>1335</th>\n",
       "      <td>-1.511647</td>\n",
       "      <td>0</td>\n",
       "      <td>1.014490</td>\n",
       "      <td>-0.909234</td>\n",
       "      <td>0</td>\n",
       "      <td>1629.83350</td>\n",
       "      <td>True</td>\n",
       "      <td>False</td>\n",
       "    </tr>\n",
       "    <tr>\n",
       "      <th>1336</th>\n",
       "      <td>-1.297958</td>\n",
       "      <td>0</td>\n",
       "      <td>-0.797524</td>\n",
       "      <td>-0.909234</td>\n",
       "      <td>0</td>\n",
       "      <td>2007.94500</td>\n",
       "      <td>False</td>\n",
       "      <td>False</td>\n",
       "    </tr>\n",
       "    <tr>\n",
       "      <th>1337</th>\n",
       "      <td>1.551231</td>\n",
       "      <td>0</td>\n",
       "      <td>-0.261299</td>\n",
       "      <td>-0.909234</td>\n",
       "      <td>1</td>\n",
       "      <td>29141.36030</td>\n",
       "      <td>False</td>\n",
       "      <td>False</td>\n",
       "    </tr>\n",
       "  </tbody>\n",
       "</table>\n",
       "<p>1337 rows × 8 columns</p>\n",
       "</div>"
      ],
      "text/plain": [
       "           age  is_male       bmi  children  is_smoker      charges  \\\n",
       "0    -1.440418        0 -0.453160 -0.909234          1  16884.92400   \n",
       "1    -1.511647        1  0.509422 -0.079442          0   1725.55230   \n",
       "2    -0.799350        1  0.383155  1.580143          0   4449.46200   \n",
       "3    -0.443201        1 -1.305052 -0.909234          0  21984.47061   \n",
       "4    -0.514431        1 -0.292456 -0.909234          0   3866.85520   \n",
       "...        ...      ...       ...       ...        ...          ...   \n",
       "1333  0.767704        1  0.050269  1.580143          0  10600.54830   \n",
       "1334 -1.511647        0  0.206053 -0.909234          0   2205.98080   \n",
       "1335 -1.511647        0  1.014490 -0.909234          0   1629.83350   \n",
       "1336 -1.297958        0 -0.797524 -0.909234          0   2007.94500   \n",
       "1337  1.551231        0 -0.261299 -0.909234          1  29141.36030   \n",
       "\n",
       "      region_southeast  bmi_category_Obsse  \n",
       "0                False               False  \n",
       "1                 True               False  \n",
       "2                 True               False  \n",
       "3                False               False  \n",
       "4                False               False  \n",
       "...                ...                 ...  \n",
       "1333             False               False  \n",
       "1334             False               False  \n",
       "1335              True               False  \n",
       "1336             False               False  \n",
       "1337             False               False  \n",
       "\n",
       "[1337 rows x 8 columns]"
      ]
     },
     "execution_count": 92,
     "metadata": {},
     "output_type": "execute_result"
    }
   ],
   "source": [
    "final_df = new_df[['age', 'is_male', 'bmi', 'children', 'is_smoker', 'charges','region_southeast', 'bmi_category_Obsse']]\n",
    "final_df"
   ]
  },
  {
   "cell_type": "markdown",
   "id": "33df2b9f",
   "metadata": {},
   "source": [
    "Separate the data "
   ]
  },
  {
   "cell_type": "code",
   "execution_count": 93,
   "id": "36345c23",
   "metadata": {},
   "outputs": [],
   "source": [
    "X = final_df.drop('charges', axis=1)\n",
    "y = final_df['charges']"
   ]
  },
  {
   "cell_type": "markdown",
   "id": "df4a1c3a",
   "metadata": {},
   "source": [
    "Split the data into train and test data"
   ]
  },
  {
   "cell_type": "code",
   "execution_count": null,
   "id": "81bec55a",
   "metadata": {},
   "outputs": [],
   "source": [
    "from sklearn.model_selection import train_test_split\n",
    "X_train, X_test, y_train, y_test = train_test_split(X, y,test_size=0.2, random_state=42)"
   ]
  },
  {
   "cell_type": "markdown",
   "id": "85131945",
   "metadata": {},
   "source": [
    "### Linear Regression "
   ]
  },
  {
   "cell_type": "code",
   "execution_count": 95,
   "id": "d2d04aab",
   "metadata": {},
   "outputs": [
    {
     "data": {
      "text/html": [
       "<style>#sk-container-id-5 {\n",
       "  /* Definition of color scheme common for light and dark mode */\n",
       "  --sklearn-color-text: #000;\n",
       "  --sklearn-color-text-muted: #666;\n",
       "  --sklearn-color-line: gray;\n",
       "  /* Definition of color scheme for unfitted estimators */\n",
       "  --sklearn-color-unfitted-level-0: #fff5e6;\n",
       "  --sklearn-color-unfitted-level-1: #f6e4d2;\n",
       "  --sklearn-color-unfitted-level-2: #ffe0b3;\n",
       "  --sklearn-color-unfitted-level-3: chocolate;\n",
       "  /* Definition of color scheme for fitted estimators */\n",
       "  --sklearn-color-fitted-level-0: #f0f8ff;\n",
       "  --sklearn-color-fitted-level-1: #d4ebff;\n",
       "  --sklearn-color-fitted-level-2: #b3dbfd;\n",
       "  --sklearn-color-fitted-level-3: cornflowerblue;\n",
       "\n",
       "  /* Specific color for light theme */\n",
       "  --sklearn-color-text-on-default-background: var(--sg-text-color, var(--theme-code-foreground, var(--jp-content-font-color1, black)));\n",
       "  --sklearn-color-background: var(--sg-background-color, var(--theme-background, var(--jp-layout-color0, white)));\n",
       "  --sklearn-color-border-box: var(--sg-text-color, var(--theme-code-foreground, var(--jp-content-font-color1, black)));\n",
       "  --sklearn-color-icon: #696969;\n",
       "\n",
       "  @media (prefers-color-scheme: dark) {\n",
       "    /* Redefinition of color scheme for dark theme */\n",
       "    --sklearn-color-text-on-default-background: var(--sg-text-color, var(--theme-code-foreground, var(--jp-content-font-color1, white)));\n",
       "    --sklearn-color-background: var(--sg-background-color, var(--theme-background, var(--jp-layout-color0, #111)));\n",
       "    --sklearn-color-border-box: var(--sg-text-color, var(--theme-code-foreground, var(--jp-content-font-color1, white)));\n",
       "    --sklearn-color-icon: #878787;\n",
       "  }\n",
       "}\n",
       "\n",
       "#sk-container-id-5 {\n",
       "  color: var(--sklearn-color-text);\n",
       "}\n",
       "\n",
       "#sk-container-id-5 pre {\n",
       "  padding: 0;\n",
       "}\n",
       "\n",
       "#sk-container-id-5 input.sk-hidden--visually {\n",
       "  border: 0;\n",
       "  clip: rect(1px 1px 1px 1px);\n",
       "  clip: rect(1px, 1px, 1px, 1px);\n",
       "  height: 1px;\n",
       "  margin: -1px;\n",
       "  overflow: hidden;\n",
       "  padding: 0;\n",
       "  position: absolute;\n",
       "  width: 1px;\n",
       "}\n",
       "\n",
       "#sk-container-id-5 div.sk-dashed-wrapped {\n",
       "  border: 1px dashed var(--sklearn-color-line);\n",
       "  margin: 0 0.4em 0.5em 0.4em;\n",
       "  box-sizing: border-box;\n",
       "  padding-bottom: 0.4em;\n",
       "  background-color: var(--sklearn-color-background);\n",
       "}\n",
       "\n",
       "#sk-container-id-5 div.sk-container {\n",
       "  /* jupyter's `normalize.less` sets `[hidden] { display: none; }`\n",
       "     but bootstrap.min.css set `[hidden] { display: none !important; }`\n",
       "     so we also need the `!important` here to be able to override the\n",
       "     default hidden behavior on the sphinx rendered scikit-learn.org.\n",
       "     See: https://github.com/scikit-learn/scikit-learn/issues/21755 */\n",
       "  display: inline-block !important;\n",
       "  position: relative;\n",
       "}\n",
       "\n",
       "#sk-container-id-5 div.sk-text-repr-fallback {\n",
       "  display: none;\n",
       "}\n",
       "\n",
       "div.sk-parallel-item,\n",
       "div.sk-serial,\n",
       "div.sk-item {\n",
       "  /* draw centered vertical line to link estimators */\n",
       "  background-image: linear-gradient(var(--sklearn-color-text-on-default-background), var(--sklearn-color-text-on-default-background));\n",
       "  background-size: 2px 100%;\n",
       "  background-repeat: no-repeat;\n",
       "  background-position: center center;\n",
       "}\n",
       "\n",
       "/* Parallel-specific style estimator block */\n",
       "\n",
       "#sk-container-id-5 div.sk-parallel-item::after {\n",
       "  content: \"\";\n",
       "  width: 100%;\n",
       "  border-bottom: 2px solid var(--sklearn-color-text-on-default-background);\n",
       "  flex-grow: 1;\n",
       "}\n",
       "\n",
       "#sk-container-id-5 div.sk-parallel {\n",
       "  display: flex;\n",
       "  align-items: stretch;\n",
       "  justify-content: center;\n",
       "  background-color: var(--sklearn-color-background);\n",
       "  position: relative;\n",
       "}\n",
       "\n",
       "#sk-container-id-5 div.sk-parallel-item {\n",
       "  display: flex;\n",
       "  flex-direction: column;\n",
       "}\n",
       "\n",
       "#sk-container-id-5 div.sk-parallel-item:first-child::after {\n",
       "  align-self: flex-end;\n",
       "  width: 50%;\n",
       "}\n",
       "\n",
       "#sk-container-id-5 div.sk-parallel-item:last-child::after {\n",
       "  align-self: flex-start;\n",
       "  width: 50%;\n",
       "}\n",
       "\n",
       "#sk-container-id-5 div.sk-parallel-item:only-child::after {\n",
       "  width: 0;\n",
       "}\n",
       "\n",
       "/* Serial-specific style estimator block */\n",
       "\n",
       "#sk-container-id-5 div.sk-serial {\n",
       "  display: flex;\n",
       "  flex-direction: column;\n",
       "  align-items: center;\n",
       "  background-color: var(--sklearn-color-background);\n",
       "  padding-right: 1em;\n",
       "  padding-left: 1em;\n",
       "}\n",
       "\n",
       "\n",
       "/* Toggleable style: style used for estimator/Pipeline/ColumnTransformer box that is\n",
       "clickable and can be expanded/collapsed.\n",
       "- Pipeline and ColumnTransformer use this feature and define the default style\n",
       "- Estimators will overwrite some part of the style using the `sk-estimator` class\n",
       "*/\n",
       "\n",
       "/* Pipeline and ColumnTransformer style (default) */\n",
       "\n",
       "#sk-container-id-5 div.sk-toggleable {\n",
       "  /* Default theme specific background. It is overwritten whether we have a\n",
       "  specific estimator or a Pipeline/ColumnTransformer */\n",
       "  background-color: var(--sklearn-color-background);\n",
       "}\n",
       "\n",
       "/* Toggleable label */\n",
       "#sk-container-id-5 label.sk-toggleable__label {\n",
       "  cursor: pointer;\n",
       "  display: flex;\n",
       "  width: 100%;\n",
       "  margin-bottom: 0;\n",
       "  padding: 0.5em;\n",
       "  box-sizing: border-box;\n",
       "  text-align: center;\n",
       "  align-items: start;\n",
       "  justify-content: space-between;\n",
       "  gap: 0.5em;\n",
       "}\n",
       "\n",
       "#sk-container-id-5 label.sk-toggleable__label .caption {\n",
       "  font-size: 0.6rem;\n",
       "  font-weight: lighter;\n",
       "  color: var(--sklearn-color-text-muted);\n",
       "}\n",
       "\n",
       "#sk-container-id-5 label.sk-toggleable__label-arrow:before {\n",
       "  /* Arrow on the left of the label */\n",
       "  content: \"▸\";\n",
       "  float: left;\n",
       "  margin-right: 0.25em;\n",
       "  color: var(--sklearn-color-icon);\n",
       "}\n",
       "\n",
       "#sk-container-id-5 label.sk-toggleable__label-arrow:hover:before {\n",
       "  color: var(--sklearn-color-text);\n",
       "}\n",
       "\n",
       "/* Toggleable content - dropdown */\n",
       "\n",
       "#sk-container-id-5 div.sk-toggleable__content {\n",
       "  max-height: 0;\n",
       "  max-width: 0;\n",
       "  overflow: hidden;\n",
       "  text-align: left;\n",
       "  /* unfitted */\n",
       "  background-color: var(--sklearn-color-unfitted-level-0);\n",
       "}\n",
       "\n",
       "#sk-container-id-5 div.sk-toggleable__content.fitted {\n",
       "  /* fitted */\n",
       "  background-color: var(--sklearn-color-fitted-level-0);\n",
       "}\n",
       "\n",
       "#sk-container-id-5 div.sk-toggleable__content pre {\n",
       "  margin: 0.2em;\n",
       "  border-radius: 0.25em;\n",
       "  color: var(--sklearn-color-text);\n",
       "  /* unfitted */\n",
       "  background-color: var(--sklearn-color-unfitted-level-0);\n",
       "}\n",
       "\n",
       "#sk-container-id-5 div.sk-toggleable__content.fitted pre {\n",
       "  /* unfitted */\n",
       "  background-color: var(--sklearn-color-fitted-level-0);\n",
       "}\n",
       "\n",
       "#sk-container-id-5 input.sk-toggleable__control:checked~div.sk-toggleable__content {\n",
       "  /* Expand drop-down */\n",
       "  max-height: 200px;\n",
       "  max-width: 100%;\n",
       "  overflow: auto;\n",
       "}\n",
       "\n",
       "#sk-container-id-5 input.sk-toggleable__control:checked~label.sk-toggleable__label-arrow:before {\n",
       "  content: \"▾\";\n",
       "}\n",
       "\n",
       "/* Pipeline/ColumnTransformer-specific style */\n",
       "\n",
       "#sk-container-id-5 div.sk-label input.sk-toggleable__control:checked~label.sk-toggleable__label {\n",
       "  color: var(--sklearn-color-text);\n",
       "  background-color: var(--sklearn-color-unfitted-level-2);\n",
       "}\n",
       "\n",
       "#sk-container-id-5 div.sk-label.fitted input.sk-toggleable__control:checked~label.sk-toggleable__label {\n",
       "  background-color: var(--sklearn-color-fitted-level-2);\n",
       "}\n",
       "\n",
       "/* Estimator-specific style */\n",
       "\n",
       "/* Colorize estimator box */\n",
       "#sk-container-id-5 div.sk-estimator input.sk-toggleable__control:checked~label.sk-toggleable__label {\n",
       "  /* unfitted */\n",
       "  background-color: var(--sklearn-color-unfitted-level-2);\n",
       "}\n",
       "\n",
       "#sk-container-id-5 div.sk-estimator.fitted input.sk-toggleable__control:checked~label.sk-toggleable__label {\n",
       "  /* fitted */\n",
       "  background-color: var(--sklearn-color-fitted-level-2);\n",
       "}\n",
       "\n",
       "#sk-container-id-5 div.sk-label label.sk-toggleable__label,\n",
       "#sk-container-id-5 div.sk-label label {\n",
       "  /* The background is the default theme color */\n",
       "  color: var(--sklearn-color-text-on-default-background);\n",
       "}\n",
       "\n",
       "/* On hover, darken the color of the background */\n",
       "#sk-container-id-5 div.sk-label:hover label.sk-toggleable__label {\n",
       "  color: var(--sklearn-color-text);\n",
       "  background-color: var(--sklearn-color-unfitted-level-2);\n",
       "}\n",
       "\n",
       "/* Label box, darken color on hover, fitted */\n",
       "#sk-container-id-5 div.sk-label.fitted:hover label.sk-toggleable__label.fitted {\n",
       "  color: var(--sklearn-color-text);\n",
       "  background-color: var(--sklearn-color-fitted-level-2);\n",
       "}\n",
       "\n",
       "/* Estimator label */\n",
       "\n",
       "#sk-container-id-5 div.sk-label label {\n",
       "  font-family: monospace;\n",
       "  font-weight: bold;\n",
       "  display: inline-block;\n",
       "  line-height: 1.2em;\n",
       "}\n",
       "\n",
       "#sk-container-id-5 div.sk-label-container {\n",
       "  text-align: center;\n",
       "}\n",
       "\n",
       "/* Estimator-specific */\n",
       "#sk-container-id-5 div.sk-estimator {\n",
       "  font-family: monospace;\n",
       "  border: 1px dotted var(--sklearn-color-border-box);\n",
       "  border-radius: 0.25em;\n",
       "  box-sizing: border-box;\n",
       "  margin-bottom: 0.5em;\n",
       "  /* unfitted */\n",
       "  background-color: var(--sklearn-color-unfitted-level-0);\n",
       "}\n",
       "\n",
       "#sk-container-id-5 div.sk-estimator.fitted {\n",
       "  /* fitted */\n",
       "  background-color: var(--sklearn-color-fitted-level-0);\n",
       "}\n",
       "\n",
       "/* on hover */\n",
       "#sk-container-id-5 div.sk-estimator:hover {\n",
       "  /* unfitted */\n",
       "  background-color: var(--sklearn-color-unfitted-level-2);\n",
       "}\n",
       "\n",
       "#sk-container-id-5 div.sk-estimator.fitted:hover {\n",
       "  /* fitted */\n",
       "  background-color: var(--sklearn-color-fitted-level-2);\n",
       "}\n",
       "\n",
       "/* Specification for estimator info (e.g. \"i\" and \"?\") */\n",
       "\n",
       "/* Common style for \"i\" and \"?\" */\n",
       "\n",
       ".sk-estimator-doc-link,\n",
       "a:link.sk-estimator-doc-link,\n",
       "a:visited.sk-estimator-doc-link {\n",
       "  float: right;\n",
       "  font-size: smaller;\n",
       "  line-height: 1em;\n",
       "  font-family: monospace;\n",
       "  background-color: var(--sklearn-color-background);\n",
       "  border-radius: 1em;\n",
       "  height: 1em;\n",
       "  width: 1em;\n",
       "  text-decoration: none !important;\n",
       "  margin-left: 0.5em;\n",
       "  text-align: center;\n",
       "  /* unfitted */\n",
       "  border: var(--sklearn-color-unfitted-level-1) 1pt solid;\n",
       "  color: var(--sklearn-color-unfitted-level-1);\n",
       "}\n",
       "\n",
       ".sk-estimator-doc-link.fitted,\n",
       "a:link.sk-estimator-doc-link.fitted,\n",
       "a:visited.sk-estimator-doc-link.fitted {\n",
       "  /* fitted */\n",
       "  border: var(--sklearn-color-fitted-level-1) 1pt solid;\n",
       "  color: var(--sklearn-color-fitted-level-1);\n",
       "}\n",
       "\n",
       "/* On hover */\n",
       "div.sk-estimator:hover .sk-estimator-doc-link:hover,\n",
       ".sk-estimator-doc-link:hover,\n",
       "div.sk-label-container:hover .sk-estimator-doc-link:hover,\n",
       ".sk-estimator-doc-link:hover {\n",
       "  /* unfitted */\n",
       "  background-color: var(--sklearn-color-unfitted-level-3);\n",
       "  color: var(--sklearn-color-background);\n",
       "  text-decoration: none;\n",
       "}\n",
       "\n",
       "div.sk-estimator.fitted:hover .sk-estimator-doc-link.fitted:hover,\n",
       ".sk-estimator-doc-link.fitted:hover,\n",
       "div.sk-label-container:hover .sk-estimator-doc-link.fitted:hover,\n",
       ".sk-estimator-doc-link.fitted:hover {\n",
       "  /* fitted */\n",
       "  background-color: var(--sklearn-color-fitted-level-3);\n",
       "  color: var(--sklearn-color-background);\n",
       "  text-decoration: none;\n",
       "}\n",
       "\n",
       "/* Span, style for the box shown on hovering the info icon */\n",
       ".sk-estimator-doc-link span {\n",
       "  display: none;\n",
       "  z-index: 9999;\n",
       "  position: relative;\n",
       "  font-weight: normal;\n",
       "  right: .2ex;\n",
       "  padding: .5ex;\n",
       "  margin: .5ex;\n",
       "  width: min-content;\n",
       "  min-width: 20ex;\n",
       "  max-width: 50ex;\n",
       "  color: var(--sklearn-color-text);\n",
       "  box-shadow: 2pt 2pt 4pt #999;\n",
       "  /* unfitted */\n",
       "  background: var(--sklearn-color-unfitted-level-0);\n",
       "  border: .5pt solid var(--sklearn-color-unfitted-level-3);\n",
       "}\n",
       "\n",
       ".sk-estimator-doc-link.fitted span {\n",
       "  /* fitted */\n",
       "  background: var(--sklearn-color-fitted-level-0);\n",
       "  border: var(--sklearn-color-fitted-level-3);\n",
       "}\n",
       "\n",
       ".sk-estimator-doc-link:hover span {\n",
       "  display: block;\n",
       "}\n",
       "\n",
       "/* \"?\"-specific style due to the `<a>` HTML tag */\n",
       "\n",
       "#sk-container-id-5 a.estimator_doc_link {\n",
       "  float: right;\n",
       "  font-size: 1rem;\n",
       "  line-height: 1em;\n",
       "  font-family: monospace;\n",
       "  background-color: var(--sklearn-color-background);\n",
       "  border-radius: 1rem;\n",
       "  height: 1rem;\n",
       "  width: 1rem;\n",
       "  text-decoration: none;\n",
       "  /* unfitted */\n",
       "  color: var(--sklearn-color-unfitted-level-1);\n",
       "  border: var(--sklearn-color-unfitted-level-1) 1pt solid;\n",
       "}\n",
       "\n",
       "#sk-container-id-5 a.estimator_doc_link.fitted {\n",
       "  /* fitted */\n",
       "  border: var(--sklearn-color-fitted-level-1) 1pt solid;\n",
       "  color: var(--sklearn-color-fitted-level-1);\n",
       "}\n",
       "\n",
       "/* On hover */\n",
       "#sk-container-id-5 a.estimator_doc_link:hover {\n",
       "  /* unfitted */\n",
       "  background-color: var(--sklearn-color-unfitted-level-3);\n",
       "  color: var(--sklearn-color-background);\n",
       "  text-decoration: none;\n",
       "}\n",
       "\n",
       "#sk-container-id-5 a.estimator_doc_link.fitted:hover {\n",
       "  /* fitted */\n",
       "  background-color: var(--sklearn-color-fitted-level-3);\n",
       "}\n",
       "</style><div id=\"sk-container-id-5\" class=\"sk-top-container\"><div class=\"sk-text-repr-fallback\"><pre>LinearRegression()</pre><b>In a Jupyter environment, please rerun this cell to show the HTML representation or trust the notebook. <br />On GitHub, the HTML representation is unable to render, please try loading this page with nbviewer.org.</b></div><div class=\"sk-container\" hidden><div class=\"sk-item\"><div class=\"sk-estimator fitted sk-toggleable\"><input class=\"sk-toggleable__control sk-hidden--visually\" id=\"sk-estimator-id-5\" type=\"checkbox\" checked><label for=\"sk-estimator-id-5\" class=\"sk-toggleable__label fitted sk-toggleable__label-arrow\"><div><div>LinearRegression</div></div><div><a class=\"sk-estimator-doc-link fitted\" rel=\"noreferrer\" target=\"_blank\" href=\"https://scikit-learn.org/1.6/modules/generated/sklearn.linear_model.LinearRegression.html\">?<span>Documentation for LinearRegression</span></a><span class=\"sk-estimator-doc-link fitted\">i<span>Fitted</span></span></div></label><div class=\"sk-toggleable__content fitted\"><pre>LinearRegression()</pre></div> </div></div></div></div>"
      ],
      "text/plain": [
       "LinearRegression()"
      ]
     },
     "execution_count": 95,
     "metadata": {},
     "output_type": "execute_result"
    }
   ],
   "source": [
    "from sklearn.linear_model import LinearRegression\n",
    "\n",
    "lr_model = LinearRegression()\n",
    "\n",
    "lr_model.fit(X_train, y_train)"
   ]
  },
  {
   "cell_type": "code",
   "execution_count": 98,
   "id": "68111a0f",
   "metadata": {},
   "outputs": [],
   "source": [
    "y_pred = lr_model.predict(X_test)\n"
   ]
  },
  {
   "cell_type": "markdown",
   "id": "d55f9b51",
   "metadata": {},
   "source": [
    "Testing the model Accuracy"
   ]
  },
  {
   "cell_type": "code",
   "execution_count": 101,
   "id": "178cd88b",
   "metadata": {},
   "outputs": [
    {
     "name": "stdout",
     "output_type": "stream",
     "text": [
      "R2 score 0.805505225652015 and Adjusted R2 score 0.8002688278811076\n"
     ]
    }
   ],
   "source": [
    "from sklearn.metrics import r2_score\n",
    "\n",
    "r2 = r2_score(y_test, y_pred)\n",
    "\n",
    "n = X_test.shape[0]\n",
    "p = X_test.shape[1]\n",
    "\n",
    "adjusted_r2 = 1 - ((1 - r2) * (n - 1) / (n - p -1))\n",
    "print(f'R2 score {r2} and Adjusted R2 score {adjusted_r2}')\n"
   ]
  },
  {
   "cell_type": "markdown",
   "id": "13e10b9b",
   "metadata": {},
   "source": [
    "### Implement Cross-validation"
   ]
  },
  {
   "cell_type": "code",
   "execution_count": null,
   "id": "978ffb43",
   "metadata": {},
   "outputs": [
    {
     "name": "stderr",
     "output_type": "stream",
     "text": [
      "d:\\coding playground\\hands-on-ML\\env\\Lib\\site-packages\\sklearn\\model_selection\\_validation.py:978: UserWarning: Scoring failed. The score on this train-test partition for these parameters will be set to nan. Details: \n",
      "Traceback (most recent call last):\n",
      "  File \"d:\\coding playground\\hands-on-ML\\env\\Lib\\site-packages\\sklearn\\metrics\\_scorer.py\", line 140, in __call__\n",
      "    score = scorer._score(\n",
      "        cached_call, estimator, *args, **routed_params.get(name).score\n",
      "    )\n",
      "  File \"d:\\coding playground\\hands-on-ML\\env\\Lib\\site-packages\\sklearn\\metrics\\_scorer.py\", line 388, in _score\n",
      "    return self._sign * self._score_func(y_true, y_pred, **scoring_kwargs)\n",
      "                        ~~~~~~~~~~~~~~~~^^^^^^^^^^^^^^^^^^^^^^^^^^^^^^^^^^\n",
      "  File \"d:\\coding playground\\hands-on-ML\\env\\Lib\\site-packages\\sklearn\\utils\\_param_validation.py\", line 216, in wrapper\n",
      "    return func(*args, **kwargs)\n",
      "  File \"d:\\coding playground\\hands-on-ML\\env\\Lib\\site-packages\\sklearn\\metrics\\_classification.py\", line 227, in accuracy_score\n",
      "    y_type, y_true, y_pred = _check_targets(y_true, y_pred)\n",
      "                             ~~~~~~~~~~~~~~^^^^^^^^^^^^^^^^\n",
      "  File \"d:\\coding playground\\hands-on-ML\\env\\Lib\\site-packages\\sklearn\\metrics\\_classification.py\", line 118, in _check_targets\n",
      "    raise ValueError(\"{0} is not supported\".format(y_type))\n",
      "ValueError: continuous is not supported\n",
      "\n",
      "  warnings.warn(\n",
      "d:\\coding playground\\hands-on-ML\\env\\Lib\\site-packages\\sklearn\\model_selection\\_validation.py:978: UserWarning: Scoring failed. The score on this train-test partition for these parameters will be set to nan. Details: \n",
      "Traceback (most recent call last):\n",
      "  File \"d:\\coding playground\\hands-on-ML\\env\\Lib\\site-packages\\sklearn\\metrics\\_scorer.py\", line 140, in __call__\n",
      "    score = scorer._score(\n",
      "        cached_call, estimator, *args, **routed_params.get(name).score\n",
      "    )\n",
      "  File \"d:\\coding playground\\hands-on-ML\\env\\Lib\\site-packages\\sklearn\\metrics\\_scorer.py\", line 388, in _score\n",
      "    return self._sign * self._score_func(y_true, y_pred, **scoring_kwargs)\n",
      "                        ~~~~~~~~~~~~~~~~^^^^^^^^^^^^^^^^^^^^^^^^^^^^^^^^^^\n",
      "  File \"d:\\coding playground\\hands-on-ML\\env\\Lib\\site-packages\\sklearn\\utils\\_param_validation.py\", line 216, in wrapper\n",
      "    return func(*args, **kwargs)\n",
      "  File \"d:\\coding playground\\hands-on-ML\\env\\Lib\\site-packages\\sklearn\\metrics\\_classification.py\", line 227, in accuracy_score\n",
      "    y_type, y_true, y_pred = _check_targets(y_true, y_pred)\n",
      "                             ~~~~~~~~~~~~~~^^^^^^^^^^^^^^^^\n",
      "  File \"d:\\coding playground\\hands-on-ML\\env\\Lib\\site-packages\\sklearn\\metrics\\_classification.py\", line 118, in _check_targets\n",
      "    raise ValueError(\"{0} is not supported\".format(y_type))\n",
      "ValueError: continuous is not supported\n",
      "\n",
      "  warnings.warn(\n",
      "d:\\coding playground\\hands-on-ML\\env\\Lib\\site-packages\\sklearn\\model_selection\\_validation.py:978: UserWarning: Scoring failed. The score on this train-test partition for these parameters will be set to nan. Details: \n",
      "Traceback (most recent call last):\n",
      "  File \"d:\\coding playground\\hands-on-ML\\env\\Lib\\site-packages\\sklearn\\metrics\\_scorer.py\", line 140, in __call__\n",
      "    score = scorer._score(\n",
      "        cached_call, estimator, *args, **routed_params.get(name).score\n",
      "    )\n",
      "  File \"d:\\coding playground\\hands-on-ML\\env\\Lib\\site-packages\\sklearn\\metrics\\_scorer.py\", line 388, in _score\n",
      "    return self._sign * self._score_func(y_true, y_pred, **scoring_kwargs)\n",
      "                        ~~~~~~~~~~~~~~~~^^^^^^^^^^^^^^^^^^^^^^^^^^^^^^^^^^\n",
      "  File \"d:\\coding playground\\hands-on-ML\\env\\Lib\\site-packages\\sklearn\\utils\\_param_validation.py\", line 216, in wrapper\n",
      "    return func(*args, **kwargs)\n",
      "  File \"d:\\coding playground\\hands-on-ML\\env\\Lib\\site-packages\\sklearn\\metrics\\_classification.py\", line 227, in accuracy_score\n",
      "    y_type, y_true, y_pred = _check_targets(y_true, y_pred)\n",
      "                             ~~~~~~~~~~~~~~^^^^^^^^^^^^^^^^\n",
      "  File \"d:\\coding playground\\hands-on-ML\\env\\Lib\\site-packages\\sklearn\\metrics\\_classification.py\", line 118, in _check_targets\n",
      "    raise ValueError(\"{0} is not supported\".format(y_type))\n",
      "ValueError: continuous is not supported\n",
      "\n",
      "  warnings.warn(\n",
      "d:\\coding playground\\hands-on-ML\\env\\Lib\\site-packages\\sklearn\\model_selection\\_validation.py:978: UserWarning: Scoring failed. The score on this train-test partition for these parameters will be set to nan. Details: \n",
      "Traceback (most recent call last):\n",
      "  File \"d:\\coding playground\\hands-on-ML\\env\\Lib\\site-packages\\sklearn\\metrics\\_scorer.py\", line 140, in __call__\n",
      "    score = scorer._score(\n",
      "        cached_call, estimator, *args, **routed_params.get(name).score\n",
      "    )\n",
      "  File \"d:\\coding playground\\hands-on-ML\\env\\Lib\\site-packages\\sklearn\\metrics\\_scorer.py\", line 388, in _score\n",
      "    return self._sign * self._score_func(y_true, y_pred, **scoring_kwargs)\n",
      "                        ~~~~~~~~~~~~~~~~^^^^^^^^^^^^^^^^^^^^^^^^^^^^^^^^^^\n",
      "  File \"d:\\coding playground\\hands-on-ML\\env\\Lib\\site-packages\\sklearn\\utils\\_param_validation.py\", line 216, in wrapper\n",
      "    return func(*args, **kwargs)\n",
      "  File \"d:\\coding playground\\hands-on-ML\\env\\Lib\\site-packages\\sklearn\\metrics\\_classification.py\", line 227, in accuracy_score\n",
      "    y_type, y_true, y_pred = _check_targets(y_true, y_pred)\n",
      "                             ~~~~~~~~~~~~~~^^^^^^^^^^^^^^^^\n",
      "  File \"d:\\coding playground\\hands-on-ML\\env\\Lib\\site-packages\\sklearn\\metrics\\_classification.py\", line 118, in _check_targets\n",
      "    raise ValueError(\"{0} is not supported\".format(y_type))\n",
      "ValueError: continuous is not supported\n",
      "\n",
      "  warnings.warn(\n",
      "d:\\coding playground\\hands-on-ML\\env\\Lib\\site-packages\\sklearn\\model_selection\\_validation.py:978: UserWarning: Scoring failed. The score on this train-test partition for these parameters will be set to nan. Details: \n",
      "Traceback (most recent call last):\n",
      "  File \"d:\\coding playground\\hands-on-ML\\env\\Lib\\site-packages\\sklearn\\metrics\\_scorer.py\", line 140, in __call__\n",
      "    score = scorer._score(\n",
      "        cached_call, estimator, *args, **routed_params.get(name).score\n",
      "    )\n",
      "  File \"d:\\coding playground\\hands-on-ML\\env\\Lib\\site-packages\\sklearn\\metrics\\_scorer.py\", line 388, in _score\n",
      "    return self._sign * self._score_func(y_true, y_pred, **scoring_kwargs)\n",
      "                        ~~~~~~~~~~~~~~~~^^^^^^^^^^^^^^^^^^^^^^^^^^^^^^^^^^\n",
      "  File \"d:\\coding playground\\hands-on-ML\\env\\Lib\\site-packages\\sklearn\\utils\\_param_validation.py\", line 216, in wrapper\n",
      "    return func(*args, **kwargs)\n",
      "  File \"d:\\coding playground\\hands-on-ML\\env\\Lib\\site-packages\\sklearn\\metrics\\_classification.py\", line 227, in accuracy_score\n",
      "    y_type, y_true, y_pred = _check_targets(y_true, y_pred)\n",
      "                             ~~~~~~~~~~~~~~^^^^^^^^^^^^^^^^\n",
      "  File \"d:\\coding playground\\hands-on-ML\\env\\Lib\\site-packages\\sklearn\\metrics\\_classification.py\", line 118, in _check_targets\n",
      "    raise ValueError(\"{0} is not supported\".format(y_type))\n",
      "ValueError: continuous is not supported\n",
      "\n",
      "  warnings.warn(\n"
     ]
    }
   ],
   "source": [
    "from sklearn.model_selection import cross_val_score\n",
    "scores = cross_val_score(lr_model, X, y, cv=5, scoring='accuracy')"
   ]
  }
 ],
 "metadata": {
  "kernelspec": {
   "display_name": "env",
   "language": "python",
   "name": "python3"
  },
  "language_info": {
   "codemirror_mode": {
    "name": "ipython",
    "version": 3
   },
   "file_extension": ".py",
   "mimetype": "text/x-python",
   "name": "python",
   "nbconvert_exporter": "python",
   "pygments_lexer": "ipython3",
   "version": "3.13.1"
  }
 },
 "nbformat": 4,
 "nbformat_minor": 5
}
